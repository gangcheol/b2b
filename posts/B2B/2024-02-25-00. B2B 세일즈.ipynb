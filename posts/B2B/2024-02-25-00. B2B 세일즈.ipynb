{
 "cells": [
  {
   "cell_type": "raw",
   "id": "7f4a2715-d245-49f7-8036-e5626d3abf81",
   "metadata": {
    "tags": []
   },
   "source": [
    "---\n",
    "title : \"00. B2B 세일즈\"\n",
    "author : \"GC\"\n",
    "date : \"02/25/23\"\n",
    "---"
   ]
  },
  {
   "cell_type": "markdown",
   "id": "d625a55c-2848-4706-8677-3fbdfb9e4d79",
   "metadata": {},
   "source": [
    "# B2B 세일즈"
   ]
  },
  {
   "cell_type": "markdown",
   "id": "1c32b805-a8a1-4905-abd8-dd958520abe4",
   "metadata": {},
   "source": [
    "`-` 정의 : 기업이 기업을 대상으로 제품이나 서비스를 영업하는 것\n",
    "\n",
    "* 자신 또는 자사의 제품이 고객이 가지고 있는 **pain point**를 해결하는데 어떻게 활용될 수 있는지 제시하는 것!"
   ]
  },
  {
   "cell_type": "markdown",
   "id": "189548c3-3557-44e0-a317-fec1e269eaa5",
   "metadata": {},
   "source": [
    "`-` 미션\n",
    "\n",
    "1. 왕성한 영업 활동? (X) $\\to$ 활동 < 결과\n",
    " \n",
    "2. 고객과의 관계? (X) $\\to$ 중요하지만 주가 되지 않음\n",
    "\n",
    "3. 좋은 콘텐츠 만들기? (X)\n",
    "\n",
    "4. **기.승.전 매출 (O)**"
   ]
  },
  {
   "cell_type": "markdown",
   "id": "05d312a2-6591-45b9-93cf-e5c2841dcabb",
   "metadata": {},
   "source": [
    "## B2B vs B2C"
   ]
  },
  {
   "cell_type": "markdown",
   "id": "51aa5ee8",
   "metadata": {},
   "source": [
    "|목록|B2B|B2C|\n",
    "|:---:|:---:|:---:|\n",
    "|대상|기업(조직)|개인|   \n",
    "|의사 결정자|현업, 구매부, 재무팀 등, 의사결정자, 이해관계자 포함|개인|\n",
    "|구매 동기|이윤추구|개인 삶의 질 향상|\n",
    "|구매 결정 프로세스|복잡함|관여도에 따라 다르지만, 상대적으로 짧고 간단함|\n",
    "|기존 제품 / 서비스 교체|복잡합|간단|\n",
    "\n",
    "\n",
    "\n"
   ]
  },
  {
   "cell_type": "markdown",
   "id": "dc50b446",
   "metadata": {},
   "source": [
    "## 마케팅 vs 세일즈"
   ]
  },
  {
   "cell_type": "markdown",
   "id": "0a0d48af",
   "metadata": {},
   "source": [
    "|목록|마케팅|세일즈|\n",
    "|:---:|:---:|:---:|\n",
    "|대상|불특정 다수(1:다)|잠재고객 (1:1)|   \n",
    "|목적|알리기|매출 전환(Conversation)|\n",
    "|활동 예시|검색엔진 최적화 콘텐츠 발행, 웹이나 기획 등|가망 고객 발굴(Propecting), 이메일/콜링 캠페인, 데모, 응대|\n",
    "|Call to Action(고객 유도 행동)|홈페이지 방문, 소개서, 다운로드|문의, 미팅 및 견적 요청|"
   ]
  },
  {
   "cell_type": "markdown",
   "id": "61b4e331",
   "metadata": {},
   "source": [
    "***"
   ]
  },
  {
   "cell_type": "markdown",
   "id": "40e45cb7",
   "metadata": {},
   "source": [
    "## 구매자 여정에서 세일즈의 위치"
   ]
  },
  {
   "cell_type": "markdown",
   "id": "972fab1e",
   "metadata": {},
   "source": [
    "<center><img src = \"1.png\" width = 800></center>"
   ]
  },
  {
   "cell_type": "markdown",
   "id": "34951106",
   "metadata": {},
   "source": [
    "***"
   ]
  },
  {
   "cell_type": "markdown",
   "id": "e218b15d",
   "metadata": {},
   "source": [
    "`1` VISTROR, LEAD(마케팅 영역) : 유용한 컨텐츠를 이용하여 잠재고객 발굴\n",
    "\n",
    "* 우리에게 관심을 가지고 마케팅 활동을 통해 연락처를 제공한 사람들(잠재고객)\n",
    "\n",
    "`2` PROSPECT (세일즈 영역 ) : 데모, 미팅을 통해 제품/서비스의 혜택을 알리고 고객이 당면한 문제를 어떻게 해결할 수 있는지 알림\n",
    "\n",
    "* 잠재고객 중 실제 고객이 될 가능성이 높은 대상을 선별, 세일즈 활동을 활발하게 하는 대상\n",
    "\n",
    "`3` CLIENT (세일즈 영역) : 협상/계약\n",
    "\n",
    "* 우리가 제공하는 제품/서비스를 사용하고 있는 기업\n",
    "\n",
    "`4` LOYAL CLIENT (세일즈 영역) : 재구매, 서비스 연장 + 가치 있는 제품을 추가적으로 소개"
   ]
  },
  {
   "cell_type": "markdown",
   "id": "c28de795",
   "metadata": {},
   "source": [
    "$\\divideontimes$ 세일즈 퍼널 :  구매자가 여정을 거치면서 그 숫자가 줄어두는 것이 깔대기 모양과 비슷하여 '퍼널'이라고 불림"
   ]
  },
  {
   "cell_type": "markdown",
   "id": "adf1d494",
   "metadata": {},
   "source": [
    "<center><img src = \"2.png\" width = 800></center>"
   ]
  },
  {
   "cell_type": "markdown",
   "id": "d5a425bf",
   "metadata": {},
   "source": [
    "***"
   ]
  },
  {
   "cell_type": "markdown",
   "id": "f85a7cb2",
   "metadata": {},
   "source": [
    "## B2B 세일즈에 다양한 역할"
   ]
  },
  {
   "cell_type": "markdown",
   "id": "95c64f62",
   "metadata": {},
   "source": [
    "|목록|HUNTER|FARMER|\n",
    "|:---:|:---:|:---:|\n",
    "|정의|지속적인 새로운 고객 발굴|기존 고객과 기존 영역 성장|   \n",
    "|목표|새로운 고객발굴을 통한 매출 증대|기존 고객의 매출 성장|\n",
    "|고객 발굴 상황|Outbound|Inbound|\n",
    "|세일즈 상대|새로운 잠재 기업|기존 사용 부서 및 새 구매 부서|\n",
    "|성과 측정|새 기업 고객 수, 매출액|실 사용 부서(사용자) 수, 매출액|\n",
    "|이름|New Sales, 고객 개발|어카운트 매니저, Client Success|\n"
   ]
  },
  {
   "cell_type": "markdown",
   "id": "e00b521f",
   "metadata": {},
   "source": [
    "***"
   ]
  },
  {
   "cell_type": "markdown",
   "id": "824ce637",
   "metadata": {},
   "source": [
    "## summary"
   ]
  },
  {
   "cell_type": "markdown",
   "id": "b911a64e",
   "metadata": {},
   "source": [
    "`1` B2B와 B2C의 가장 큰 차이는 대상이며, 구매 결정 프로세스와 서비스 교체에 있어서 B2B가 상대적으로 복잡하다.\n",
    "\n",
    "\n",
    "`2` 마케팅과 세일즈의 차이는 마케팅은 **알리기(Awareness)** 가 핵심, **세일즈는 문의를 늘려 매출로 전환**하는 것이 핵심이다."
   ]
  }
 ],
 "metadata": {
  "kernelspec": {
   "display_name": "Python 3 (ipykernel)",
   "language": "python",
   "name": "python3"
  },
  "language_info": {
   "codemirror_mode": {
    "name": "ipython",
    "version": 3
   },
   "file_extension": ".py",
   "mimetype": "text/x-python",
   "name": "python",
   "nbconvert_exporter": "python",
   "pygments_lexer": "ipython3",
   "version": "3.11.4"
  },
  "toc": {
   "base_numbering": 1,
   "nav_menu": {},
   "number_sections": false,
   "sideBar": true,
   "skip_h1_title": false,
   "title_cell": "Table of Contents",
   "title_sidebar": "Contents",
   "toc_cell": false,
   "toc_position": {
    "height": "calc(100% - 180px)",
    "left": "10px",
    "top": "150px",
    "width": "465.455px"
   },
   "toc_section_display": true,
   "toc_window_display": true
  }
 },
 "nbformat": 4,
 "nbformat_minor": 5
}
