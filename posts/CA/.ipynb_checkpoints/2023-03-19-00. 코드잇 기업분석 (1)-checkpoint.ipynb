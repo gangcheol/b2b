{
 "cells": [
  {
   "cell_type": "raw",
   "id": "1fe74548-0d4b-450f-b2d0-92018b3a85a1",
   "metadata": {},
   "source": [
    "---\n",
    "title :  \"00. 코드잇 기업분석 (1)\"\n",
    "author : \"GC\"\n",
    "date : \"03/18/24\"\n",
    "---"
   ]
  },
  {
   "cell_type": "markdown",
   "id": "b1668d22-9b7c-4d20-912d-03d9a6e48c0c",
   "metadata": {},
   "source": [
    "# 코드잇 소개"
   ]
  },
  {
   "cell_type": "markdown",
   "id": "c5a0fced-7914-4c82-803b-505b674b42ec",
   "metadata": {},
   "source": [
    "`-` 구독형 교육 서비스를 제공하는 기업\n",
    "\n",
    "* 넷플릭스, 멜론처럼 구독 시 원하는 강의를 무제한으로 들을 수 있는 서비스를 제공한다. (굉장히 신선함)\n",
    "\n",
    "* 넷플릭스와 다른점은 콘텐츠를 내부 콘텐츠 팀에서 제작하는 방식!\n",
    "\n",
    "* 그렇기 때문에 커리큘럼에 대한 고민을 많이 한다...(맞는 말임)\n",
    "\n",
    "* 다른 플랫폼들은 외주 형식으로 강의를 만드는데 일관적이지 않다.\n",
    "\n",
    "* 코드잇은 하나의 큰 그림을 그려놓고 세부적으로 기획을 해서 제작하기 때문에 일관성이 높다.(ㅇㅇ 확실히 외주를 맡기면 강사마다 강의하는 방식과 사용하는 함수 같은 것들이 다르니 좀 혼동 될 때가 많았음)\n",
    "\n",
    "* 또한, 코드잇은 강의를 짬내서 만드는 게 아닌 풀타임으로 콘텐츠 제작에 몰두하기 때문에 강의 퀄리티가 높을 수 밖에 없는 것 같음\n",
    "\n",
    "* 새로운 사람이 와도 일관되게 좋은 강의가 나오도록 가이드를 계속해서 개선을 하고 있다."
   ]
  },
  {
   "cell_type": "markdown",
   "id": "9cdce16a-eac4-4240-b291-6a48bd62ab0e",
   "metadata": {},
   "source": [
    "***"
   ]
  },
  {
   "cell_type": "markdown",
   "id": "0e48ac71-11f1-4010-aa5f-261489ba1628",
   "metadata": {},
   "source": [
    "# 콘텐츠 프로듀서?"
   ]
  },
  {
   "cell_type": "markdown",
   "id": "93c864cc-981f-42b3-895d-6107f9e2d1f6",
   "metadata": {},
   "source": [
    "`-` 흔히 있는 강사를 말하는 것이 아니다!!"
   ]
  },
  {
   "cell_type": "markdown",
   "id": "c8affd62-f215-4c70-87dd-84699866ec1e",
   "metadata": {},
   "source": [
    "`-` 강사가 아닌 콘텐츠 프로듀서라고 이름을 붙인 이유!\n",
    "\n",
    "* 단순히 강의를 하는 포지션이 아니라 정제된 콘텐츠를 만드는 것이 핵심\n",
    "\n",
    "* 해당 분야에 대한 리서치, 관련된 강의, 이를 통해 어떻게 최적화된 커리큘럼을 만들 수 있는지!\n",
    "\n",
    "* 주요 업무는 리서치, 공부, 기획, 콘텐츠 제작인 것 같다....!\n",
    "\n",
    "* 학원 강사와의 차이점 : 팀으로 움직인다. $\\to$ 한 가지 주제에 대해서 두 명의 프로듀서가 참여를 한다던지, 영상 편집은 디자이너... 이렇게 팀으로 움직이기 때문에 이러한 점이 강사와의 차이점이다.\n",
    "\n",
    "* 애니메이션을 주로 활용해서 컨텐츠를 제작함.(필요에 따라 사람이 직접 나오는 영상을 촬영함)"
   ]
  },
  {
   "cell_type": "markdown",
   "id": "8697ae25-9ceb-497d-8f4b-867ef210fa7f",
   "metadata": {},
   "source": [
    "# 강의 체계"
   ]
  },
  {
   "cell_type": "markdown",
   "id": "0aa7d2da-f5ca-4300-9eb9-2485fcebf942",
   "metadata": {},
   "source": [
    "`-` 토픽이라는 단위로 구성 "
   ]
  },
  {
   "cell_type": "markdown",
   "id": "1038d92c-e965-4449-bbfd-9fda0f67cf51",
   "metadata": {},
   "source": [
    "`-` 하나의 토픽 안에 영상들이 들어가 있음\n",
    "\n",
    "* 보통 2, 3개월 정도에 걸려서 하나의 토픽을 만든다.\n",
    "\n",
    "* 일단, 강의를 몇 개 들어보고 차별성을 직접 느껴보는 게 좋을 것 같음."
   ]
  }
 ],
 "metadata": {
  "kernelspec": {
   "display_name": "Python 3 (ipykernel)",
   "language": "python",
   "name": "python3"
  },
  "language_info": {
   "codemirror_mode": {
    "name": "ipython",
    "version": 3
   },
   "file_extension": ".py",
   "mimetype": "text/x-python",
   "name": "python",
   "nbconvert_exporter": "python",
   "pygments_lexer": "ipython3",
   "version": "3.11.4"
  }
 },
 "nbformat": 4,
 "nbformat_minor": 5
}
