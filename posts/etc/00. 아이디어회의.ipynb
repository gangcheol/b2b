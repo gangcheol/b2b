{
 "cells": [
  {
   "cell_type": "raw",
   "id": "b1d7f088-a07a-48a2-b26c-7966b15ebc01",
   "metadata": {},
   "source": [
    "---\n",
    "title : \"00. 아이디어 회의 (1)\"\n",
    "author : \"GC\"\n",
    "date : \"24/06/05\"\n",
    "---"
   ]
  },
  {
   "cell_type": "markdown",
   "id": "e18993b2-d10f-4caa-a50b-37475f19875c",
   "metadata": {},
   "source": [
    "# 데이터 목록"
   ]
  },
  {
   "cell_type": "markdown",
   "id": "e1138377-35d6-4879-9690-86ccaff09e34",
   "metadata": {},
   "source": [
    "## 1. 하루 평균 여가문화 시간 및 사용 비중\n",
    "\n",
    "- 2021년 11 - 2024년 04\n",
    "\n",
    "- 온라인(PC모바일) 소비자 서베이 데이터(2021.11월부터 매주 수집)\n",
    "\n",
    "- 지난 일주일간의 하루 평균 여가 시간을 평일주말 각각 어떤 목적으로 활용했는 지에 대한 소비자 응답값\n",
    "\n",
    "- 컬럼"
   ]
  },
  {
   "cell_type": "markdown",
   "id": "34161a83-368b-4486-acf9-7227252f7da2",
   "metadata": {},
   "source": [
    "<center><img src = \"변수정의서1.png\" width = 500></center>"
   ]
  },
  {
   "cell_type": "markdown",
   "id": "61a2a07e-a278-4350-847d-ca67ab24d9ff",
   "metadata": {},
   "source": [
    "***"
   ]
  },
  {
   "cell_type": "markdown",
   "id": "aa7e5f27-6802-4833-8741-0424927120f9",
   "metadata": {},
   "source": [
    "## 2. 여가문화 유형별 관심도"
   ]
  },
  {
   "cell_type": "markdown",
   "id": "fb4356ae-e299-4af6-a22a-63ac41e11534",
   "metadata": {},
   "source": [
    "- 2021년 11 - 2024년 04\n",
    "\n",
    "- 온라인(PC모바일) 소비자 서베이 데이터(2021.11월부터 매주 수집)\n",
    "\n",
    "- 작년 동시기 대비 여가문화 8개 유형(문화예술 관람하기, 운동스포츠 직접하기, 관광여행, 자기계발자기관리 등)에 대한 관심 변화 정도 응답값 (5점 척도). \n",
    "\n",
    "- 컬럼"
   ]
  },
  {
   "cell_type": "markdown",
   "id": "58adadb7-0334-48fb-a7c6-a96949d31922",
   "metadata": {},
   "source": [
    "<center><img src = \"변수정의서2.png\" width = 500></center>"
   ]
  },
  {
   "cell_type": "markdown",
   "id": "4cd85921-77c7-4bc4-a848-dc7bdfc86542",
   "metadata": {},
   "source": [
    "***"
   ]
  },
  {
   "cell_type": "markdown",
   "id": "82265ec5-0fc4-4027-be15-d1768c630ad9",
   "metadata": {},
   "source": [
    "## 3. 여가시간 활용 목적"
   ]
  },
  {
   "cell_type": "markdown",
   "id": "9548617a-7842-463f-87cc-4c394e0291c4",
   "metadata": {},
   "source": [
    "- 2021년 11 - 2024년 04\n",
    "\n",
    "- 온라인(PC모바일) 소비자 서베이 데이터(2021.11월부터 매주 수집)\n",
    "\n",
    "-  여가시간을 주로 활용하는 목적을 9가지(가족지인과 친목, 건강관리, 대인관계교제, 자기만족즐거움 등)로 분류해 1순위 2순위로 응답함\n",
    "\n",
    "- 컬럼"
   ]
  },
  {
   "cell_type": "markdown",
   "id": "e3f3a4cb-3712-4bd3-ba70-fa2220c6e7e4",
   "metadata": {},
   "source": [
    "<center><img src = \"변수정의서3.png\" width = 500></center>"
   ]
  },
  {
   "cell_type": "markdown",
   "id": "d2600ff2-4c0c-40ac-9eb4-ce8c6084c29f",
   "metadata": {},
   "source": [
    "***"
   ]
  },
  {
   "cell_type": "markdown",
   "id": "59f24002-26a3-4d4a-96c9-f42dfbd3fbeb",
   "metadata": {},
   "source": [
    "## 4. 여가문화 유형별 경험 여부(대분류)"
   ]
  },
  {
   "cell_type": "markdown",
   "id": "a7006aa2-1258-461c-9195-ec4296eccc6f",
   "metadata": {},
   "source": [
    "- 2021년 11 - 2024년 04\n",
    "\n",
    "- 온라인(PC모바일) 소비자 서베이 데이터(2021.11월부터 매주 수집)\n",
    "\n",
    "-  여가문화 8개 유형(문화예술 관람하기, 운동스포츠 직접하기, 관광여행, 자기계발자기관리 등)에 대한 지난 1년3개월 이내 경험 여부 소비자 응답값.\n",
    " \n",
    "- 컬럼"
   ]
  },
  {
   "cell_type": "markdown",
   "id": "c91a1f3f-f58c-4f5c-b8a2-d0f7ba9b2b54",
   "metadata": {},
   "source": [
    "<center><img src = \"변수정의서5.png\" width = 500></center>"
   ]
  },
  {
   "cell_type": "markdown",
   "id": "4332b116-49a5-4f2b-a2b9-9ac573a281ba",
   "metadata": {},
   "source": [
    "***"
   ]
  },
  {
   "cell_type": "markdown",
   "id": "83d72def-bee2-48c2-be9a-e6e641cce623",
   "metadata": {},
   "source": [
    "## 5. 문화예술 관람 현황 및 희망 분야"
   ]
  },
  {
   "cell_type": "markdown",
   "id": "1e5433df-7927-4e30-a573-f49a44be86fa",
   "metadata": {},
   "source": [
    "- 2021년 11 - 2024년 04\n",
    "\n",
    "- 온라인(PC모바일) 소비자 서베이 데이터(2021.11월부터 매주 수집)\n",
    "\n",
    "-  문화예술 관람 분야 8종(무용 공연, 문학 행사, 미술관전시관, 연극뮤지컬 등) 중 지난 동시기 대비 관람횟수가 증가한감소한 분야는 무엇이고, 향후 1~2년이내 지출을 늘려서라도 하고 싶은 분야가 무엇인지에 대해 응답함\n",
    " \n",
    "- 컬럼"
   ]
  },
  {
   "cell_type": "markdown",
   "id": "9e20dd34-70b6-4b8b-b387-60ff1a69f4aa",
   "metadata": {},
   "source": [
    "<center><img src = \"변수정의서4.png\" width = 500></center>"
   ]
  },
  {
   "cell_type": "markdown",
   "id": "cfda2e14-5159-442d-b6f0-37a03c59fa77",
   "metadata": {},
   "source": [
    "***"
   ]
  },
  {
   "cell_type": "markdown",
   "id": "3f485fd3-8199-4ed4-a13a-cc300c7c68c2",
   "metadata": {},
   "source": [
    "## 6. 추가데이터\n",
    "\n",
    "* 지역별, 월별 코로나 $\\cdot$ 전출입인구 $\\cdot$ 소득? 등등 "
   ]
  },
  {
   "cell_type": "markdown",
   "id": "cf16d481-4280-4471-bd9a-aa63697ca003",
   "metadata": {},
   "source": [
    "***"
   ]
  },
  {
   "cell_type": "markdown",
   "id": "22033373-1c14-428b-9470-94c43a13b144",
   "metadata": {},
   "source": [
    "# 분석 개요"
   ]
  },
  {
   "cell_type": "markdown",
   "id": "8a197607-1c06-486b-b36a-98439ead7d40",
   "metadata": {},
   "source": [
    "`1` 2021년 코로나 이전과 현시점에서 문화생활의 관심도, 목적, 시간 등이 어떻게 변화했는지 알고 싶음\n",
    "\n",
    "`2` 또한, 이러한 변화에 코로나라는 요인이 얼마나 작용했는지 확인하고 싶음\n",
    "\n",
    "`3` 그리고 문화생활 관심도가 높은 지역이지만, 여건 조성이 잘 되어있지 않은 지역들을 파악하여 향후 문화산업정책 수행 시 우선적으로 고려해야할 지역으로 분류"
   ]
  },
  {
   "cell_type": "markdown",
   "id": "2187969f-82cf-4660-9d92-09f64254dfc5",
   "metadata": {},
   "source": [
    "***"
   ]
  },
  {
   "cell_type": "markdown",
   "id": "d57afde2-baf7-462a-9078-5f5790707149",
   "metadata": {},
   "source": [
    "# 데이터 출처"
   ]
  },
  {
   "cell_type": "markdown",
   "id": "90fb2c24-8aa6-413b-a29b-ded85247e3eb",
   "metadata": {},
   "source": [
    "`1` [하루 평균 여가문화 시간 및 사용 비중](https://www.bigdata-culture.kr/bigdata/user/data_market/detail.do?id=e057a550-f06b-11ec-a6e8-cdf27550dc0d)\n",
    "\n",
    "`2` [여가문화 유형별 관심도](https://www.bigdata-culture.kr/bigdata/user/data_market/detail.do?id=6a5451f0-eb98-11ec-a6e8-cdf27550dc0d)\n",
    "\n",
    "`3` [여가시간 활용 목적](https://www.bigdata-culture.kr/bigdata/user/data_market/detail.do?id=62b70280-eb98-11ec-a6e8-cdf27550dc0d)\n",
    "\n",
    "`4` [여가문화 유형별 경험 여부(대분류)](https://www.bigdata-culture.kr/bigdata/user/data_market/detail.do?id=ed8d9a90-f06b-11ec-a6e8-cdf27550dc0d)\n",
    "\n",
    "`5` [문화예술 관람 현황 및 희망 분야](https://www.bigdata-culture.kr/bigdata/user/data_market/detail.do?id=30d14290-fcea-11ec-a6e8-cdf27550dc0d)"
   ]
  },
  {
   "cell_type": "markdown",
   "id": "93f74f20-7849-497b-bae3-062a3c9c4295",
   "metadata": {},
   "source": [
    "****"
   ]
  },
  {
   "cell_type": "markdown",
   "id": "0888ee6f-ccb6-45f4-bb4a-3e13025a2698",
   "metadata": {},
   "source": [
    "# 회의록"
   ]
  }
 ],
 "metadata": {
  "kernelspec": {
   "display_name": "Python 3 (ipykernel)",
   "language": "python",
   "name": "python3"
  },
  "language_info": {
   "codemirror_mode": {
    "name": "ipython",
    "version": 3
   },
   "file_extension": ".py",
   "mimetype": "text/x-python",
   "name": "python",
   "nbconvert_exporter": "python",
   "pygments_lexer": "ipython3",
   "version": "3.12.2"
  }
 },
 "nbformat": 4,
 "nbformat_minor": 5
}
