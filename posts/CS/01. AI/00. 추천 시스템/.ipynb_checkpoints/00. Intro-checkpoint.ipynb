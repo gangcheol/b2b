{
 "cells": [
  {
   "cell_type": "raw",
   "id": "a7237711-b508-4a26-95ac-2cf461438e14",
   "metadata": {},
   "source": [
    "---\n",
    "title : \"00. Intro\"\n",
    "author : \"GC\"\n",
    "date : \"05/17/24\"\n",
    "---"
   ]
  },
  {
   "cell_type": "markdown",
   "id": "b7a849dc-08e7-4fe7-a4d7-d3faf58c0532",
   "metadata": {},
   "source": [
    "# 0. Intro"
   ]
  },
  {
   "cell_type": "markdown",
   "id": "c15a5257-6ee3-4eb7-826c-b8d8152e1e2d",
   "metadata": {},
   "source": [
    "`-` 넷플릭스, 음악 추천, 페이스북(인스타) 친구 추천 등등 모두 AI를 활용한 추천 시스템을 이용한다.\n",
    "\n",
    "`-` 좋은 추천 시스템 $\\to$ 사회적 이익, 많은 매출 등으로 이어진다.\n",
    "\n",
    "`-` 대부분의 경우 머신러닝을 활용해서 추천 시스템이 만들어진다.\n",
    "\n",
    "`-` 어떤 머신러닝 주제들보다 우리 생활 속에 깊게 자리잡고 있음"
   ]
  },
  {
   "cell_type": "markdown",
   "id": "a9fb2094-f360-485b-a4d1-a4942c05e1a4",
   "metadata": {},
   "source": [
    "`-` 정의 :  어떤 작업(`추천`)을 할 때, 경험(`유저의 행동 패턴`)을 통해, 그 작업에 대한 성능(`추천을 더 정확하게!`)이 향상되는 프로그램($\\star\\star\\star$)"
   ]
  },
  {
   "cell_type": "markdown",
   "id": "9b3ad0c1-19ac-4635-ad96-1ae6723db0bc",
   "metadata": {},
   "source": [
    "> example : 상품에 대한 영화 평점데이터(rating data)\n",
    "> \n",
    "> * 목적 : 아래와 같이 빈칸(`-`)들 즉, 주어진 평점 데이터를 바탕으로 어떤 대상이 어떤 영화를 보았을 때 평점이 얼마인지 예측하는 것!\n",
    "> \n",
    "> ||러브 액츄얼리|반지의 제왕|해리 포터|극한 직업|\n",
    "> |:---:|:---:|:---:|:---:|:---:|\n",
    "> |현승|5|1|-|5|\n",
    "> |영훈|-|2|2|0|\n",
    "> |동욱|-|4|0|1|\n",
    "> |종훈|3|-|4|3|\n",
    "> |우재|5|4|-|2|\n",
    "> |...|...|...|...|...|\n",
    ">\n",
    "> * 즉, 유저와 상품의 관계를 표현한 데이터 사용\n",
    "> * 유저와 상호 작요이 없었던 상품에 대한 선호도를 예측\n",
    "> * 선호도가 높게 예측되는 상품들을 유저에게 추천"
   ]
  },
  {
   "cell_type": "markdown",
   "id": "4af2e424-b2b6-4a98-90e5-6db6c9212ac0",
   "metadata": {},
   "source": [
    "`-` 사용되는 데이터 종류\n",
    "\n",
    "1. 직접 데이터(explicit data)\n",
    "    * 유저가 직접적으로 상품에 대한 만족/선호도를 표시한 데이터\n",
    "    * 유저 영화 평점 데이터, 유튜브 좋아요/싫어요 데이터\n",
    "    * 유저 선호도를 정확하게 나타낸다."
   ]
  },
  {
   "cell_type": "markdown",
   "id": "85656687-c343-4e85-be2d-93babeeaf9e3",
   "metadata": {},
   "source": [
    "2. 간접 데이터(implicit data)\n",
    "    * 유저가 직접적 선호도를 표시하지는 않았지만 유추할 수 있는 데이터\n",
    "    * 유튜브 유저 영상 시청 데이터\n",
    "    * 아마존 유저 구매 데이터\n",
    "    * 데이터 형태는 똑같이 표현함\n",
    "    * 무엇을 의미하는 지 정확하지 않음\n",
    "    * 데이터를 수집하기 쉬워 직접 데이터보다 자주 이용된다.($\\star\\star\\star$)"
   ]
  }
 ],
 "metadata": {
  "kernelspec": {
   "display_name": "Python 3 (ipykernel)",
   "language": "python",
   "name": "python3"
  },
  "language_info": {
   "codemirror_mode": {
    "name": "ipython",
    "version": 3
   },
   "file_extension": ".py",
   "mimetype": "text/x-python",
   "name": "python",
   "nbconvert_exporter": "python",
   "pygments_lexer": "ipython3",
   "version": "3.12.2"
  }
 },
 "nbformat": 4,
 "nbformat_minor": 5
}
