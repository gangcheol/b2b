{
 "cells": [
  {
   "cell_type": "raw",
   "id": "90e7202f-a944-448e-a6df-43bd9cee2059",
   "metadata": {},
   "source": [
    "---\n",
    "title : \"00. Intro\"\n",
    "author : \"GC\"\n",
    "date : \"05/18/24\"\n",
    "---"
   ]
  },
  {
   "cell_type": "markdown",
   "id": "386b2859-0cb5-416d-8685-cd62bb7ebe35",
   "metadata": {},
   "source": [
    "# 1. MNIST"
   ]
  },
  {
   "cell_type": "markdown",
   "id": "63c52b9d-d3c5-4b89-b579-524feea52d2d",
   "metadata": {},
   "source": [
    "`-` 흑백 손글씨 숫자 데이터\n",
    "\n",
    "* MNIST DATABASE : Modified National Institute of Standards and Technology database\n",
    "\n",
    "* 총 6만 개의 학습 데이터와 만 개의 테스트 데이터로 이뤄져 있다.\n",
    "\n",
    "* `28 x 28` 픽셀 이미지 : 픽셀은 하나의 색을 가진다. 즉, 하나의 이미지는 `28 x 28 = 784`개의 색으로 이루어진다.\n",
    "\n",
    "* 또한, 해당 데이터튼 검정, 흰색, 회색으로 이루어진다. 밝음의 정도는 0 ~ 1 사이의 숫자로 표현한다.\n",
    "\n",
    "* 픽셀정보는 파이썬 리스트처럼 표현한다.(784개의 한 줄로 저장되어 있음)\n",
    "\n",
    "* 각 이미지마다 어떤 숫자를 나타내는 지도 정해져 있음\n",
    "\n",
    "* 입력 변수 : 픽셀 데이터, 목표 변수 : 이미지가 나타내는 숫자\n",
    "\n",
    "* MNIST와 같은 데이터 셋을 이용하면 인공 신경망을 조금 더 직관적으로 이해할 수 있음!\n",
    "\n",
    "* [데이터 다운로드](https://www.kaggle.com/datasets/oddrationale/mnist-in-csv)"
   ]
  },
  {
   "cell_type": "markdown",
   "id": "fb95c6b2-628d-4305-8531-4ecdbf621d90",
   "metadata": {},
   "source": [
    "***"
   ]
  },
  {
   "cell_type": "markdown",
   "id": "18f1ab5f-3ab3-49d8-b359-3d4651679555",
   "metadata": {},
   "source": [
    "# 2. 로지스틱 회귀"
   ]
  },
  {
   "cell_type": "markdown",
   "id": "382e7880-852c-4564-99e8-0c4a1c554182",
   "metadata": {},
   "source": [
    "* 숫자 5인지를 예측하는 경우 가설함수 설정(픽셀이 1개 일경우)"
   ]
  },
  {
   "cell_type": "markdown",
   "id": "b2bddd1d-aaae-44a1-a853-1eedaffc8a3d",
   "metadata": {},
   "source": [
    "$$h_{\\theta}(x) = \\frac{1}{e^{-(\\theta_0 + \\theta_1 x)}}$$"
   ]
  },
  {
   "cell_type": "markdown",
   "id": "8f6744c6-4e65-4a96-8063-bbaf1e14a395",
   "metadata": {},
   "source": [
    "* 그러나 mnist 데이터는 픽셀 데이터가 하나가 아니라 784개 이다.\n",
    "\n",
    "* 즉, 입력 변수의 개수는 : `784+1`, 추정해야할 파라미터 $\\theta_i$는 `785`개이다.\n",
    "\n",
    "* 따라서 가설함수를 다시 쓰면, 아래와 같이 표현할 수 있다.\n",
    "\n",
    "* 0에 가까울 수록 해당 숫자가 5가 아닐 확률이 높고, 맞을 경우 1에 가깝게 나온다."
   ]
  },
  {
   "cell_type": "markdown",
   "id": "795eac36-eb55-49c1-a5e1-75b590a9632f",
   "metadata": {},
   "source": [
    "$$x = \\begin{bmatrix} x_0 \\\\  \\\\ x_1 \\\\ \\\\ \\dots \\\\ \\\\ x_{785}\\end{bmatrix},\\,\\, \\theta = \\begin{bmatrix} \\theta_0 \\\\  \\\\ \\theta_1 \\\\ \\\\ \\dots \\\\ \\\\ \\theta_{785}\\end{bmatrix}, \\quad h_{\\theta}(x) = \\frac{1}{e^{-(\\theta_0 + \\theta_1 x_1 \\dots \\theta_{785}x_{785})}} = \\sigma(\\theta^{\\top}x)$$"
   ]
  },
  {
   "cell_type": "markdown",
   "id": "ec4dec10-4e29-4e4a-a08e-1a6937e5d782",
   "metadata": {},
   "source": [
    "* $\\theta_0 = b$ : 편향(bias), $\\theta_{i} = w_i(i \\neq 0)$ : 가중치라고 한다.\n",
    "\n",
    "* 입력 변수를 종합하는 가설 함수를 꼭, 시그모이드 함수를 사용해야 하는 것은 아님(relu, tanh 등등)\n",
    "\n",
    "* 그리고 이 시그모이드 함수와 같은 것들을 `활성 함수`(activation function)이라고 한다."
   ]
  },
  {
   "cell_type": "markdown",
   "id": "3dc96d98-76d7-42a0-a836-20c1de5f472f",
   "metadata": {},
   "source": [
    "***"
   ]
  },
  {
   "cell_type": "markdown",
   "id": "795b51e8-7e88-4391-a5d6-065984e42a0d",
   "metadata": {},
   "source": [
    "# 3. 인공신경망"
   ]
  },
  {
   "cell_type": "markdown",
   "id": "37a03ff4-cc6b-491f-8064-77c7d161e6ba",
   "metadata": {},
   "source": [
    "`-` 인공 신경망은 수많은 인공 뉴런(로지스틱 등등)을 엮어서 예측을 하는 머신 러닝 알고리즘\n",
    "\n",
    "`-` 보통 여러 뉴런들은 `층`이라는 단위로 묶어서 표현\n",
    "\n",
    "1. 입력층에서 인풋을 받아, 다음 층 모든 뉴런들의 출력을 구함\n",
    "\n",
    "2. 구한 뉴런들의 출력을 사용해 다음 층 모든 뉴런들의 출력을 계산\n",
    "\n",
    "3. 반복 후, 마지막 층 모든 뉴런들의 출력을 계산한다."
   ]
  },
  {
   "cell_type": "markdown",
   "id": "dc6e66ef-b5fb-4356-8aaf-c7dcb57b805d",
   "metadata": {},
   "source": [
    "`-` 뒤에 있는 층으로 갈수록 그림안에서 아래와 같이 좀 더 고차원적인 패턴을 찾는데 최적화되어 있음\n",
    "\n",
    "* 이해를 위해 우리에게 익숙한 패턴을 찾는 것이라고 생각하자."
   ]
  },
  {
   "cell_type": "markdown",
   "id": "15cbff93-7f76-49bf-a68e-63bf23331b3f",
   "metadata": {},
   "source": [
    "> 출력층 전 단계층"
   ]
  },
  {
   "cell_type": "markdown",
   "id": "74c7c8f2-0062-4871-8745-3451a2fbf03c",
   "metadata": {},
   "source": [
    "<center><img src = \"1.png\" width = 200></center>"
   ]
  },
  {
   "cell_type": "markdown",
   "id": "3efbf053-bed3-40fa-952d-be8b03468dff",
   "metadata": {},
   "source": [
    "> 출력층 전 단계층의 전 단계층"
   ]
  },
  {
   "cell_type": "markdown",
   "id": "8b4210a8-4eba-48fc-b3ec-7cefbdb8d54d",
   "metadata": {},
   "source": [
    "<center><img src = \"2.png\" width = 200></center>"
   ]
  },
  {
   "cell_type": "markdown",
   "id": "c3b9a632-a728-435c-a1a3-7935a65c26fa",
   "metadata": {},
   "source": [
    "`-` 즉, 인공신경망은?\n",
    "\n",
    "* 신경계의 뉴런들는 작은 패턴을 찾아내는 데 특화\n",
    "\n",
    "* 작은 단위의 패턴을 다음 층의 인풋으로 사용해서 더 섬세하게 예측한다.\n",
    "\n",
    "* 따라서, 인공 신경망은 로지스틱 회귀나 다르 알고리즘보다 성능이 좋게 나옴을 기대할 수 있다!"
   ]
  }
 ],
 "metadata": {
  "kernelspec": {
   "display_name": "Python 3 (ipykernel)",
   "language": "python",
   "name": "python3"
  },
  "language_info": {
   "codemirror_mode": {
    "name": "ipython",
    "version": 3
   },
   "file_extension": ".py",
   "mimetype": "text/x-python",
   "name": "python",
   "nbconvert_exporter": "python",
   "pygments_lexer": "ipython3",
   "version": "3.12.2"
  }
 },
 "nbformat": 4,
 "nbformat_minor": 5
}
