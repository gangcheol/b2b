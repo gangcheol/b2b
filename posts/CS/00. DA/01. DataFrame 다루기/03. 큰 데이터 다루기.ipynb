{
 "cells": [
  {
   "cell_type": "raw",
   "id": "bef80565-e05e-4933-9e1c-3401d27016b2",
   "metadata": {},
   "source": [
    "---\n",
    "title : \"03. 큰 데이터 다루기\"\n",
    "author : \"GC\"\n",
    "date : \"04/19/24\"\n",
    "---"
   ]
  },
  {
   "cell_type": "markdown",
   "id": "5e34d917-c5bd-41dd-b3c8-0ef624c04516",
   "metadata": {},
   "source": [
    "# import"
   ]
  },
  {
   "cell_type": "code",
   "execution_count": 235,
   "id": "2ae67138-0ff9-4004-9ead-710aa650fadf",
   "metadata": {},
   "outputs": [],
   "source": [
    "import pandas as pd"
   ]
  },
  {
   "cell_type": "markdown",
   "id": "925d4708-1c60-48c8-9395-e05139c45f57",
   "metadata": {},
   "source": [
    "# ex1"
   ]
  },
  {
   "cell_type": "markdown",
   "id": "4877d160-0f2d-433d-8713-897a6eaaa891",
   "metadata": {},
   "source": [
    "## (1) 주어진 데이터에 총 몇개의 도시와 몇 개의 나라가 있는지 출력"
   ]
  },
  {
   "cell_type": "markdown",
   "id": "7fc6ab30-6270-4ea2-b1a2-b485ed3f54d4",
   "metadata": {},
   "source": [
    "### sol1"
   ]
  },
  {
   "cell_type": "code",
   "execution_count": 236,
   "id": "875cdc08-d743-44a2-8eb3-ef04561cad9e",
   "metadata": {},
   "outputs": [
    {
     "name": "stdout",
     "output_type": "stream",
     "text": [
      "249/61\n"
     ]
    }
   ],
   "source": [
    "df = pd.read_csv('data/world_cities.csv')\n",
    "\n",
    "print(f'{len(df[\"City / Urban area\"].unique())}/{len(df[\"Country\"].unique())}') "
   ]
  },
  {
   "cell_type": "markdown",
   "id": "985d2a6f-c7bf-4bcd-810c-81c13f9c5309",
   "metadata": {},
   "source": [
    "### sol2"
   ]
  },
  {
   "cell_type": "code",
   "execution_count": 237,
   "id": "1488527c-b756-42d1-af5a-e3853c49981b",
   "metadata": {},
   "outputs": [
    {
     "data": {
      "text/plain": [
       "(249,)"
      ]
     },
     "execution_count": 237,
     "metadata": {},
     "output_type": "execute_result"
    }
   ],
   "source": [
    "df['City / Urban area'].value_counts().shape"
   ]
  },
  {
   "cell_type": "code",
   "execution_count": 238,
   "id": "d1014d9b-2bcc-42d0-bf47-e55c2bda44ed",
   "metadata": {},
   "outputs": [
    {
     "data": {
      "text/plain": [
       "(61,)"
      ]
     },
     "execution_count": 238,
     "metadata": {},
     "output_type": "execute_result"
    }
   ],
   "source": [
    "df['Country'].value_counts().shape"
   ]
  },
  {
   "cell_type": "markdown",
   "id": "bc2fb2a3-64d4-4f29-b2e7-81f9c2d93982",
   "metadata": {},
   "source": [
    "## (2) 인구 밀도(명/sqKm) 가 10000 이 넘는 도시는 총 몇 개인지 확인"
   ]
  },
  {
   "cell_type": "markdown",
   "id": "53531b2f-84f9-4417-9008-9e4dd7d38d5f",
   "metadata": {},
   "source": [
    "### sol1"
   ]
  },
  {
   "cell_type": "code",
   "execution_count": 239,
   "id": "a365e7a6-52fd-48d1-b1fb-e20a03bd2f23",
   "metadata": {},
   "outputs": [
    {
     "data": {
      "text/plain": [
       "19"
      ]
     },
     "execution_count": 239,
     "metadata": {},
     "output_type": "execute_result"
    }
   ],
   "source": [
    "sum((df[\"Population\"]/df[\"Land area (in sqKm)\"])>10000)"
   ]
  },
  {
   "cell_type": "markdown",
   "id": "4b289869-5cc2-4fef-bc78-98539f43047e",
   "metadata": {},
   "source": [
    "## (3) 인구 밀도가 가장 높은 도시"
   ]
  },
  {
   "cell_type": "markdown",
   "id": "1d542956-1f92-4e75-b9ae-e91bb2e8acda",
   "metadata": {},
   "source": [
    "### sol1"
   ]
  },
  {
   "cell_type": "code",
   "execution_count": 240,
   "id": "d62ca7a6-5b08-45b1-ad4a-1d09eb9290d5",
   "metadata": {},
   "outputs": [],
   "source": [
    "max_value = max(df[\"Population\"]/df[\"Land area (in sqKm)\"])"
   ]
  },
  {
   "cell_type": "code",
   "execution_count": 241,
   "id": "5fc431c4-5f56-4a49-a81a-7f6763b5ddff",
   "metadata": {},
   "outputs": [
    {
     "data": {
      "text/plain": [
       "75    Mumbai\n",
       "Name: City / Urban area, dtype: object"
      ]
     },
     "execution_count": 241,
     "metadata": {},
     "output_type": "execute_result"
    }
   ],
   "source": [
    "df.loc[df[\"Population\"]/df[\"Land area (in sqKm)\"] == max_value, \"City / Urban area\"]"
   ]
  },
  {
   "cell_type": "markdown",
   "id": "bad08293-e6c0-47a5-a741-c3b8163e3b91",
   "metadata": {},
   "source": [
    "## (4) 도시가 4개인 나라 출력"
   ]
  },
  {
   "cell_type": "markdown",
   "id": "53c07228-b8ed-4a71-ab41-e9e21394ef6a",
   "metadata": {},
   "source": [
    "### sol"
   ]
  },
  {
   "cell_type": "code",
   "execution_count": 242,
   "id": "fcfe3ce7-2314-49af-96e4-7686e2f0efbb",
   "metadata": {},
   "outputs": [
    {
     "data": {
      "text/plain": [
       "Country\n",
       "Italy    4\n",
       "Name: count, dtype: int64"
      ]
     },
     "execution_count": 242,
     "metadata": {},
     "output_type": "execute_result"
    }
   ],
   "source": [
    "df[\"Country\"].value_counts()[df[\"Country\"].value_counts() == 4]"
   ]
  },
  {
   "cell_type": "markdown",
   "id": "437dfdee-ac13-4b46-9ee3-b792c73d52a5",
   "metadata": {},
   "source": [
    "***"
   ]
  },
  {
   "cell_type": "markdown",
   "id": "d208b2da-42a6-4a08-8472-63ef29e8d79b",
   "metadata": {},
   "source": [
    "# ex2. 조건에 부합하는지를 구별하는 컬럼 추가"
   ]
  },
  {
   "cell_type": "markdown",
   "id": "74e85249-cd98-484f-ac6a-c5fa24f801d0",
   "metadata": {},
   "source": [
    "`1` “information technology” 과목은 심화과목이라 1학년은 수강 x\n",
    "\n",
    "`2` “commerce” 과목은 기초과목이고 많은 학생들이 듣는 수업이라 4학년은 수강 x\n",
    "\n",
    "`3` 수강생이 5명이 되지 않으면 강의는 폐강되어 수강 x"
   ]
  },
  {
   "cell_type": "markdown",
   "id": "4e238b2f-24a7-42fb-a1b4-870c0c2a4a84",
   "metadata": {},
   "source": [
    "### sol1"
   ]
  },
  {
   "cell_type": "code",
   "execution_count": 243,
   "id": "a0031321-6be5-4b5f-b183-2fa202979659",
   "metadata": {},
   "outputs": [],
   "source": [
    "df = pd.read_csv('data/enrolment_1.csv')"
   ]
  },
  {
   "cell_type": "code",
   "execution_count": 244,
   "id": "edcd3aaf-8fcd-4d42-8b40-4fb0603fc446",
   "metadata": {},
   "outputs": [],
   "source": [
    "df[\"status\"] = [\"not allowed\" if ((i == 1) & (j == \"information technology\") | (i == 4) & (j == \"commerce\")) else \"allowed\" for i, j in zip(df.year,df[\"course name\"])]"
   ]
  },
  {
   "cell_type": "code",
   "execution_count": 245,
   "id": "fdbd63d9-0e50-4190-aee2-b9a3998566de",
   "metadata": {},
   "outputs": [],
   "source": [
    "v_count = df.loc[df.status == \"allowed\"][\"course name\"].value_counts()"
   ]
  },
  {
   "cell_type": "code",
   "execution_count": 246,
   "id": "c86e6012-9e14-4a27-bfdf-4702b761bd80",
   "metadata": {},
   "outputs": [],
   "source": [
    "f = v_count[v_count<5].index"
   ]
  },
  {
   "cell_type": "code",
   "execution_count": 247,
   "id": "9a2029e7-ec5c-4210-a993-a8dcbe122951",
   "metadata": {},
   "outputs": [],
   "source": [
    "df.loc[map(lambda x : x in f, df[\"course name\"]), \"status\"] = \"not allowed\""
   ]
  },
  {
   "cell_type": "code",
   "execution_count": 248,
   "id": "425a4d00-f5e2-42e5-abb0-98c936894147",
   "metadata": {},
   "outputs": [
    {
     "data": {
      "text/html": [
       "<div>\n",
       "<style scoped>\n",
       "    .dataframe tbody tr th:only-of-type {\n",
       "        vertical-align: middle;\n",
       "    }\n",
       "\n",
       "    .dataframe tbody tr th {\n",
       "        vertical-align: top;\n",
       "    }\n",
       "\n",
       "    .dataframe thead th {\n",
       "        text-align: right;\n",
       "    }\n",
       "</style>\n",
       "<table border=\"1\" class=\"dataframe\">\n",
       "  <thead>\n",
       "    <tr style=\"text-align: right;\">\n",
       "      <th></th>\n",
       "      <th>id</th>\n",
       "      <th>year</th>\n",
       "      <th>course name</th>\n",
       "      <th>status</th>\n",
       "    </tr>\n",
       "  </thead>\n",
       "  <tbody>\n",
       "    <tr>\n",
       "      <th>0</th>\n",
       "      <td>2777729</td>\n",
       "      <td>1</td>\n",
       "      <td>information technology</td>\n",
       "      <td>not allowed</td>\n",
       "    </tr>\n",
       "    <tr>\n",
       "      <th>1</th>\n",
       "      <td>2777730</td>\n",
       "      <td>2</td>\n",
       "      <td>science</td>\n",
       "      <td>allowed</td>\n",
       "    </tr>\n",
       "    <tr>\n",
       "      <th>2</th>\n",
       "      <td>2777765</td>\n",
       "      <td>1</td>\n",
       "      <td>arts</td>\n",
       "      <td>allowed</td>\n",
       "    </tr>\n",
       "    <tr>\n",
       "      <th>3</th>\n",
       "      <td>2777766</td>\n",
       "      <td>2</td>\n",
       "      <td>arts</td>\n",
       "      <td>allowed</td>\n",
       "    </tr>\n",
       "    <tr>\n",
       "      <th>4</th>\n",
       "      <td>2777785</td>\n",
       "      <td>1</td>\n",
       "      <td>mba</td>\n",
       "      <td>allowed</td>\n",
       "    </tr>\n",
       "  </tbody>\n",
       "</table>\n",
       "</div>"
      ],
      "text/plain": [
       "        id  year             course name       status\n",
       "0  2777729     1  information technology  not allowed\n",
       "1  2777730     2                 science      allowed\n",
       "2  2777765     1                    arts      allowed\n",
       "3  2777766     2                    arts      allowed\n",
       "4  2777785     1                     mba      allowed"
      ]
     },
     "execution_count": 248,
     "metadata": {},
     "output_type": "execute_result"
    }
   ],
   "source": [
    "df.head()"
   ]
  },
  {
   "cell_type": "markdown",
   "id": "dd9409cb-c456-4b50-bc1b-f98e5d75f542",
   "metadata": {},
   "source": [
    "### sol2"
   ]
  },
  {
   "cell_type": "code",
   "execution_count": 249,
   "id": "9f9255b5-43ca-4a04-a0ea-6f62d2c88c93",
   "metadata": {},
   "outputs": [
    {
     "data": {
      "text/html": [
       "<div>\n",
       "<style scoped>\n",
       "    .dataframe tbody tr th:only-of-type {\n",
       "        vertical-align: middle;\n",
       "    }\n",
       "\n",
       "    .dataframe tbody tr th {\n",
       "        vertical-align: top;\n",
       "    }\n",
       "\n",
       "    .dataframe thead th {\n",
       "        text-align: right;\n",
       "    }\n",
       "</style>\n",
       "<table border=\"1\" class=\"dataframe\">\n",
       "  <thead>\n",
       "    <tr style=\"text-align: right;\">\n",
       "      <th></th>\n",
       "      <th>id</th>\n",
       "      <th>year</th>\n",
       "      <th>course name</th>\n",
       "      <th>status</th>\n",
       "    </tr>\n",
       "  </thead>\n",
       "  <tbody>\n",
       "    <tr>\n",
       "      <th>0</th>\n",
       "      <td>2777729</td>\n",
       "      <td>1</td>\n",
       "      <td>information technology</td>\n",
       "      <td>not allowed</td>\n",
       "    </tr>\n",
       "    <tr>\n",
       "      <th>1</th>\n",
       "      <td>2777730</td>\n",
       "      <td>2</td>\n",
       "      <td>science</td>\n",
       "      <td>allowed</td>\n",
       "    </tr>\n",
       "    <tr>\n",
       "      <th>2</th>\n",
       "      <td>2777765</td>\n",
       "      <td>1</td>\n",
       "      <td>arts</td>\n",
       "      <td>allowed</td>\n",
       "    </tr>\n",
       "    <tr>\n",
       "      <th>3</th>\n",
       "      <td>2777766</td>\n",
       "      <td>2</td>\n",
       "      <td>arts</td>\n",
       "      <td>allowed</td>\n",
       "    </tr>\n",
       "    <tr>\n",
       "      <th>4</th>\n",
       "      <td>2777785</td>\n",
       "      <td>1</td>\n",
       "      <td>mba</td>\n",
       "      <td>allowed</td>\n",
       "    </tr>\n",
       "    <tr>\n",
       "      <th>...</th>\n",
       "      <td>...</td>\n",
       "      <td>...</td>\n",
       "      <td>...</td>\n",
       "      <td>...</td>\n",
       "    </tr>\n",
       "    <tr>\n",
       "      <th>1995</th>\n",
       "      <td>2796805</td>\n",
       "      <td>3</td>\n",
       "      <td>computer application</td>\n",
       "      <td>allowed</td>\n",
       "    </tr>\n",
       "    <tr>\n",
       "      <th>1996</th>\n",
       "      <td>2796812</td>\n",
       "      <td>1</td>\n",
       "      <td>nursing</td>\n",
       "      <td>allowed</td>\n",
       "    </tr>\n",
       "    <tr>\n",
       "      <th>1997</th>\n",
       "      <td>2796813</td>\n",
       "      <td>2</td>\n",
       "      <td>nursing</td>\n",
       "      <td>allowed</td>\n",
       "    </tr>\n",
       "    <tr>\n",
       "      <th>1998</th>\n",
       "      <td>2796814</td>\n",
       "      <td>3</td>\n",
       "      <td>nursing</td>\n",
       "      <td>allowed</td>\n",
       "    </tr>\n",
       "    <tr>\n",
       "      <th>1999</th>\n",
       "      <td>2796815</td>\n",
       "      <td>4</td>\n",
       "      <td>nursing</td>\n",
       "      <td>allowed</td>\n",
       "    </tr>\n",
       "  </tbody>\n",
       "</table>\n",
       "<p>2000 rows × 4 columns</p>\n",
       "</div>"
      ],
      "text/plain": [
       "           id  year             course name       status\n",
       "0     2777729     1  information technology  not allowed\n",
       "1     2777730     2                 science      allowed\n",
       "2     2777765     1                    arts      allowed\n",
       "3     2777766     2                    arts      allowed\n",
       "4     2777785     1                     mba      allowed\n",
       "...       ...   ...                     ...          ...\n",
       "1995  2796805     3    computer application      allowed\n",
       "1996  2796812     1                 nursing      allowed\n",
       "1997  2796813     2                 nursing      allowed\n",
       "1998  2796814     3                 nursing      allowed\n",
       "1999  2796815     4                 nursing      allowed\n",
       "\n",
       "[2000 rows x 4 columns]"
      ]
     },
     "execution_count": 249,
     "metadata": {},
     "output_type": "execute_result"
    }
   ],
   "source": [
    "import pandas as pd\n",
    "\n",
    "df = pd.read_csv('data/enrolment_1.csv')\n",
    "df[\"status\"] = \"allowed\"\n",
    "\n",
    "# 조건 1\n",
    "boolean1 = df[\"course name\"] == \"information technology\"\n",
    "boolean2 = df[\"year\"] == 1\n",
    "df.loc[boolean1 & boolean2, \"status\"] = \"not allowed\"\n",
    "\n",
    "# 조건 2\n",
    "boolean3= df[\"course name\"] == \"commerce\"\n",
    "boolean4= df[\"year\"] == 4\n",
    "df.loc[boolean3& boolean4, \"status\"] = \"not allowed\"\n",
    "\n",
    "# 조건 3\n",
    "allowed = df[\"status\"] == \"allowed\"\n",
    "course_counts = df.loc[allowed, \"course name\"].value_counts()\n",
    "closed_courses = list(course_counts[course_counts < 5].index)\n",
    "for course in closed_courses:\n",
    "    df.loc[df[\"course name\"] == course, \"status\"] = \"not allowed\"\n",
    "\n",
    "# 테스트 코드\n",
    "df"
   ]
  },
  {
   "cell_type": "markdown",
   "id": "d36d9607-3527-442b-8fe9-ae111bce2003",
   "metadata": {},
   "source": [
    "`-` 접근방식은 같은데, `sol2`가 확실히 코드 가독성이 좋다..."
   ]
  },
  {
   "cell_type": "markdown",
   "id": "8e01543f-240a-49bf-a02f-6cdf0dfd341d",
   "metadata": {},
   "source": [
    "***"
   ]
  },
  {
   "cell_type": "markdown",
   "id": "70731ccc-9878-466e-992e-ffa0cb6490c7",
   "metadata": {},
   "source": [
    "# ex3. 조건에 따라 문제 해결"
   ]
  },
  {
   "cell_type": "markdown",
   "id": "5d2a9203-dcc1-4150-b27c-db529fa59e11",
   "metadata": {},
   "source": [
    "1.  80명 이상의 학생이 수강하는 과목은 “Auditorium”에서 진행됩니다.\n",
    "\n",
    "2. 40명 이상, 80명 미만의 학생이 수강하는 과목은 “Large room”에서 진행됩니다.\n",
    "\n",
    "3. 15명 이상, 40명 미만의 학생이 수강하는 과목은 “Medium room”에서 진행됩니다.\n",
    "\n",
    "4. 5명 이상, 15명 미만의 학생이 수강하는 과목은 “Small room”에서 진행됩니다.\n",
    "\n",
    "5. 폐강 등의 이유로 status가 “not allowed”인 수강생은 room assignment 또한 “not assigned”가 되어야 합니다."
   ]
  },
  {
   "cell_type": "markdown",
   "id": "c6f1045d-b1b1-4b20-838a-b61e33a41c72",
   "metadata": {},
   "source": [
    "### sol1"
   ]
  },
  {
   "cell_type": "code",
   "execution_count": 250,
   "id": "d6d8f7e7-8feb-45ab-a53b-c0d03f416b75",
   "metadata": {},
   "outputs": [],
   "source": [
    "import pandas as pd\n",
    "\n",
    "df = pd.read_csv('data/enrolment_2.csv')"
   ]
  },
  {
   "cell_type": "markdown",
   "id": "adb9878a-50a4-4fe6-8907-23d273626fb9",
   "metadata": {},
   "source": [
    "`1` 폐강되지 않은 강의만 표시"
   ]
  },
  {
   "cell_type": "code",
   "execution_count": 251,
   "id": "f0820d3e-6242-4443-8fc2-0e0513ec009f",
   "metadata": {},
   "outputs": [],
   "source": [
    "allowed = df.status == \"allowed\""
   ]
  },
  {
   "cell_type": "markdown",
   "id": "f673bc20-ec2e-4a8c-90fa-64bc930ed9f9",
   "metadata": {},
   "source": [
    "`2` 학생 수 count"
   ]
  },
  {
   "cell_type": "code",
   "execution_count": 252,
   "id": "3cd0521b-9b0b-4793-9b21-fc31981d24df",
   "metadata": {},
   "outputs": [],
   "source": [
    "s_count = df.loc[allowed][\"course name\"].value_counts()\n",
    "s_count = pd.DataFrame(s_count).reset_index()"
   ]
  },
  {
   "cell_type": "markdown",
   "id": "65331964-8d3d-4836-9660-71f1b2218a45",
   "metadata": {},
   "source": [
    "`3` 컬럼생성"
   ]
  },
  {
   "cell_type": "code",
   "execution_count": 253,
   "id": "4700c104-78f4-47a4-80b1-4a15cf46d47e",
   "metadata": {},
   "outputs": [],
   "source": [
    "s_count.loc[s_count[\"count\"] >= 80 ,\"room assignment\"] = \"Auditorium\"\n",
    "s_count.loc[(s_count[\"count\"]>=40) & (s_count[\"count\"]<80)  ,\"room assignment\"] = \"Large room\"\n",
    "s_count.loc[(s_count[\"count\"]>=15) & (s_count[\"count\"]<40)  ,\"room assignment\"] = \"Medium room\"\n",
    "s_count.loc[(s_count[\"count\"]>=5) & (s_count[\"count\"]<15)  ,\"room assignment\"] = \"Small room\""
   ]
  },
  {
   "cell_type": "markdown",
   "id": "d88e2da5-fa5d-4f2b-b013-e379b8c10a9e",
   "metadata": {},
   "source": [
    "`4` 2개 테이블 조인"
   ]
  },
  {
   "cell_type": "code",
   "execution_count": 254,
   "id": "a1c9f71c-0226-4e07-89cc-fe99f96d1039",
   "metadata": {},
   "outputs": [],
   "source": [
    "df = pd.merge(df, s_count, on = \"course name\")"
   ]
  },
  {
   "cell_type": "code",
   "execution_count": 255,
   "id": "a006d7aa-e1c6-453a-8017-f4e989454e35",
   "metadata": {},
   "outputs": [],
   "source": [
    "df.loc[df.status == \"not allowed\", \"room assignment\"] = \"not assigned\""
   ]
  },
  {
   "cell_type": "code",
   "execution_count": 256,
   "id": "34e1d1ed-6941-4b7a-b7a3-d547def799bd",
   "metadata": {},
   "outputs": [
    {
     "data": {
      "text/html": [
       "<div>\n",
       "<style scoped>\n",
       "    .dataframe tbody tr th:only-of-type {\n",
       "        vertical-align: middle;\n",
       "    }\n",
       "\n",
       "    .dataframe tbody tr th {\n",
       "        vertical-align: top;\n",
       "    }\n",
       "\n",
       "    .dataframe thead th {\n",
       "        text-align: right;\n",
       "    }\n",
       "</style>\n",
       "<table border=\"1\" class=\"dataframe\">\n",
       "  <thead>\n",
       "    <tr style=\"text-align: right;\">\n",
       "      <th></th>\n",
       "      <th>id</th>\n",
       "      <th>year</th>\n",
       "      <th>course name</th>\n",
       "      <th>status</th>\n",
       "      <th>count</th>\n",
       "      <th>room assignment</th>\n",
       "    </tr>\n",
       "  </thead>\n",
       "  <tbody>\n",
       "    <tr>\n",
       "      <th>0</th>\n",
       "      <td>2777729</td>\n",
       "      <td>1</td>\n",
       "      <td>information technology</td>\n",
       "      <td>not allowed</td>\n",
       "      <td>13</td>\n",
       "      <td>not assigned</td>\n",
       "    </tr>\n",
       "    <tr>\n",
       "      <th>1</th>\n",
       "      <td>2777730</td>\n",
       "      <td>2</td>\n",
       "      <td>science</td>\n",
       "      <td>allowed</td>\n",
       "      <td>123</td>\n",
       "      <td>Auditorium</td>\n",
       "    </tr>\n",
       "    <tr>\n",
       "      <th>2</th>\n",
       "      <td>2777765</td>\n",
       "      <td>1</td>\n",
       "      <td>arts</td>\n",
       "      <td>allowed</td>\n",
       "      <td>158</td>\n",
       "      <td>Auditorium</td>\n",
       "    </tr>\n",
       "    <tr>\n",
       "      <th>3</th>\n",
       "      <td>2777766</td>\n",
       "      <td>2</td>\n",
       "      <td>arts</td>\n",
       "      <td>allowed</td>\n",
       "      <td>158</td>\n",
       "      <td>Auditorium</td>\n",
       "    </tr>\n",
       "    <tr>\n",
       "      <th>4</th>\n",
       "      <td>2777785</td>\n",
       "      <td>1</td>\n",
       "      <td>mba</td>\n",
       "      <td>allowed</td>\n",
       "      <td>6</td>\n",
       "      <td>Small room</td>\n",
       "    </tr>\n",
       "    <tr>\n",
       "      <th>...</th>\n",
       "      <td>...</td>\n",
       "      <td>...</td>\n",
       "      <td>...</td>\n",
       "      <td>...</td>\n",
       "      <td>...</td>\n",
       "      <td>...</td>\n",
       "    </tr>\n",
       "    <tr>\n",
       "      <th>1453</th>\n",
       "      <td>2796805</td>\n",
       "      <td>3</td>\n",
       "      <td>computer application</td>\n",
       "      <td>allowed</td>\n",
       "      <td>16</td>\n",
       "      <td>Medium room</td>\n",
       "    </tr>\n",
       "    <tr>\n",
       "      <th>1454</th>\n",
       "      <td>2796812</td>\n",
       "      <td>1</td>\n",
       "      <td>nursing</td>\n",
       "      <td>allowed</td>\n",
       "      <td>36</td>\n",
       "      <td>Medium room</td>\n",
       "    </tr>\n",
       "    <tr>\n",
       "      <th>1455</th>\n",
       "      <td>2796813</td>\n",
       "      <td>2</td>\n",
       "      <td>nursing</td>\n",
       "      <td>allowed</td>\n",
       "      <td>36</td>\n",
       "      <td>Medium room</td>\n",
       "    </tr>\n",
       "    <tr>\n",
       "      <th>1456</th>\n",
       "      <td>2796814</td>\n",
       "      <td>3</td>\n",
       "      <td>nursing</td>\n",
       "      <td>allowed</td>\n",
       "      <td>36</td>\n",
       "      <td>Medium room</td>\n",
       "    </tr>\n",
       "    <tr>\n",
       "      <th>1457</th>\n",
       "      <td>2796815</td>\n",
       "      <td>4</td>\n",
       "      <td>nursing</td>\n",
       "      <td>allowed</td>\n",
       "      <td>36</td>\n",
       "      <td>Medium room</td>\n",
       "    </tr>\n",
       "  </tbody>\n",
       "</table>\n",
       "<p>1458 rows × 6 columns</p>\n",
       "</div>"
      ],
      "text/plain": [
       "           id  year             course name       status  count  \\\n",
       "0     2777729     1  information technology  not allowed     13   \n",
       "1     2777730     2                 science      allowed    123   \n",
       "2     2777765     1                    arts      allowed    158   \n",
       "3     2777766     2                    arts      allowed    158   \n",
       "4     2777785     1                     mba      allowed      6   \n",
       "...       ...   ...                     ...          ...    ...   \n",
       "1453  2796805     3    computer application      allowed     16   \n",
       "1454  2796812     1                 nursing      allowed     36   \n",
       "1455  2796813     2                 nursing      allowed     36   \n",
       "1456  2796814     3                 nursing      allowed     36   \n",
       "1457  2796815     4                 nursing      allowed     36   \n",
       "\n",
       "     room assignment  \n",
       "0       not assigned  \n",
       "1         Auditorium  \n",
       "2         Auditorium  \n",
       "3         Auditorium  \n",
       "4         Small room  \n",
       "...              ...  \n",
       "1453     Medium room  \n",
       "1454     Medium room  \n",
       "1455     Medium room  \n",
       "1456     Medium room  \n",
       "1457     Medium room  \n",
       "\n",
       "[1458 rows x 6 columns]"
      ]
     },
     "execution_count": 256,
     "metadata": {},
     "output_type": "execute_result"
    }
   ],
   "source": [
    "df"
   ]
  },
  {
   "cell_type": "markdown",
   "id": "1444cc32-ccf7-429b-9716-15381fa30a3c",
   "metadata": {},
   "source": [
    "## sol2 "
   ]
  },
  {
   "cell_type": "code",
   "execution_count": 257,
   "id": "2f3352c1-2c3c-43e0-9607-adbd1e05a15d",
   "metadata": {},
   "outputs": [
    {
     "data": {
      "text/html": [
       "<div>\n",
       "<style scoped>\n",
       "    .dataframe tbody tr th:only-of-type {\n",
       "        vertical-align: middle;\n",
       "    }\n",
       "\n",
       "    .dataframe tbody tr th {\n",
       "        vertical-align: top;\n",
       "    }\n",
       "\n",
       "    .dataframe thead th {\n",
       "        text-align: right;\n",
       "    }\n",
       "</style>\n",
       "<table border=\"1\" class=\"dataframe\">\n",
       "  <thead>\n",
       "    <tr style=\"text-align: right;\">\n",
       "      <th></th>\n",
       "      <th>id</th>\n",
       "      <th>year</th>\n",
       "      <th>course name</th>\n",
       "      <th>status</th>\n",
       "      <th>room assignment</th>\n",
       "    </tr>\n",
       "  </thead>\n",
       "  <tbody>\n",
       "    <tr>\n",
       "      <th>0</th>\n",
       "      <td>2777729</td>\n",
       "      <td>1</td>\n",
       "      <td>information technology</td>\n",
       "      <td>not allowed</td>\n",
       "      <td>not assigned</td>\n",
       "    </tr>\n",
       "    <tr>\n",
       "      <th>1</th>\n",
       "      <td>2777730</td>\n",
       "      <td>2</td>\n",
       "      <td>science</td>\n",
       "      <td>allowed</td>\n",
       "      <td>Auditorium</td>\n",
       "    </tr>\n",
       "    <tr>\n",
       "      <th>2</th>\n",
       "      <td>2777765</td>\n",
       "      <td>1</td>\n",
       "      <td>arts</td>\n",
       "      <td>allowed</td>\n",
       "      <td>Auditorium</td>\n",
       "    </tr>\n",
       "    <tr>\n",
       "      <th>3</th>\n",
       "      <td>2777766</td>\n",
       "      <td>2</td>\n",
       "      <td>arts</td>\n",
       "      <td>allowed</td>\n",
       "      <td>Auditorium</td>\n",
       "    </tr>\n",
       "    <tr>\n",
       "      <th>4</th>\n",
       "      <td>2777785</td>\n",
       "      <td>1</td>\n",
       "      <td>mba</td>\n",
       "      <td>allowed</td>\n",
       "      <td>Small room</td>\n",
       "    </tr>\n",
       "    <tr>\n",
       "      <th>...</th>\n",
       "      <td>...</td>\n",
       "      <td>...</td>\n",
       "      <td>...</td>\n",
       "      <td>...</td>\n",
       "      <td>...</td>\n",
       "    </tr>\n",
       "    <tr>\n",
       "      <th>1995</th>\n",
       "      <td>2796805</td>\n",
       "      <td>3</td>\n",
       "      <td>computer application</td>\n",
       "      <td>allowed</td>\n",
       "      <td>Medium room</td>\n",
       "    </tr>\n",
       "    <tr>\n",
       "      <th>1996</th>\n",
       "      <td>2796812</td>\n",
       "      <td>1</td>\n",
       "      <td>nursing</td>\n",
       "      <td>allowed</td>\n",
       "      <td>Medium room</td>\n",
       "    </tr>\n",
       "    <tr>\n",
       "      <th>1997</th>\n",
       "      <td>2796813</td>\n",
       "      <td>2</td>\n",
       "      <td>nursing</td>\n",
       "      <td>allowed</td>\n",
       "      <td>Medium room</td>\n",
       "    </tr>\n",
       "    <tr>\n",
       "      <th>1998</th>\n",
       "      <td>2796814</td>\n",
       "      <td>3</td>\n",
       "      <td>nursing</td>\n",
       "      <td>allowed</td>\n",
       "      <td>Medium room</td>\n",
       "    </tr>\n",
       "    <tr>\n",
       "      <th>1999</th>\n",
       "      <td>2796815</td>\n",
       "      <td>4</td>\n",
       "      <td>nursing</td>\n",
       "      <td>allowed</td>\n",
       "      <td>Medium room</td>\n",
       "    </tr>\n",
       "  </tbody>\n",
       "</table>\n",
       "<p>2000 rows × 5 columns</p>\n",
       "</div>"
      ],
      "text/plain": [
       "           id  year             course name       status room assignment\n",
       "0     2777729     1  information technology  not allowed    not assigned\n",
       "1     2777730     2                 science      allowed      Auditorium\n",
       "2     2777765     1                    arts      allowed      Auditorium\n",
       "3     2777766     2                    arts      allowed      Auditorium\n",
       "4     2777785     1                     mba      allowed      Small room\n",
       "...       ...   ...                     ...          ...             ...\n",
       "1995  2796805     3    computer application      allowed     Medium room\n",
       "1996  2796812     1                 nursing      allowed     Medium room\n",
       "1997  2796813     2                 nursing      allowed     Medium room\n",
       "1998  2796814     3                 nursing      allowed     Medium room\n",
       "1999  2796815     4                 nursing      allowed     Medium room\n",
       "\n",
       "[2000 rows x 5 columns]"
      ]
     },
     "execution_count": 257,
     "metadata": {},
     "output_type": "execute_result"
    }
   ],
   "source": [
    "import pandas as pd\n",
    "\n",
    "df = pd.read_csv('data/enrolment_2.csv')\n",
    "\n",
    "# 과목별 인원 가져오기\n",
    "allowed = df[\"status\"] == \"allowed\"\n",
    "course_counts = df.loc[allowed, \"course name\"].value_counts()\n",
    "\n",
    "# 각 강의실 규모에 해당되는 과목 리스트 만들기\n",
    "auditorium_list = list(course_counts[course_counts >= 80].index)\n",
    "large_room_list = list(course_counts[(80 > course_counts) & (course_counts >= 40)].index)\n",
    "medium_room_list = list(course_counts[(40 > course_counts) & (course_counts >= 15)].index)\n",
    "small_room_list = list(course_counts[(15 > course_counts) & (course_counts > 4)].index)\n",
    "\n",
    "# not allowed 과목에 대해 값 지정해주기\n",
    "not_allowed = df[\"status\"] == \"not allowed\"\n",
    "df.loc[not_allowed, \"room assignment\"] = \"not assigned\"\n",
    "\n",
    "# allowed 과목에 대해 값 지정해주기\n",
    "for course in auditorium_list:\n",
    "    df.loc[(df[\"course name\"] == course) & allowed, \"room assignment\"] = \"Auditorium\"\n",
    "\n",
    "for course in large_room_list:\n",
    "    df.loc[(df[\"course name\"] == course) & allowed, \"room assignment\"] = \"Large room\"\n",
    "    \n",
    "for course in medium_room_list:\n",
    "    df.loc[(df[\"course name\"] == course) & allowed, \"room assignment\"] = \"Medium room\"\n",
    "    \n",
    "for course in small_room_list:\n",
    "    df.loc[(df[\"course name\"] == course) & allowed, \"room assignment\"] = \"Small room\"\n",
    "    \n",
    "# 정답 출력\n",
    "df"
   ]
  },
  {
   "cell_type": "markdown",
   "id": "476ff69d-aff3-4839-8e3e-21eb12ddc28f",
   "metadata": {},
   "source": [
    "`-` 큼.. 이건 내 코드가 더 효율적인 것 같음(가독성도!)"
   ]
  },
  {
   "cell_type": "markdown",
   "id": "b2fee50d-f9d9-4aa3-90a5-5a11be15f7cd",
   "metadata": {},
   "source": [
    "***"
   ]
  },
  {
   "cell_type": "markdown",
   "id": "874f2523-8864-49ac-8490-f195e1236c93",
   "metadata": {},
   "source": [
    "# ex4. 조건에 따라 문제 해결"
   ]
  },
  {
   "cell_type": "markdown",
   "id": "43ceae14-e2e4-46a8-bbf3-f8489d084874",
   "metadata": {},
   "source": [
    "`1` 같은 크기의 강의실이 필요한 과목에 대해 알파벳 순서대로 방 번호를 배정하세요.\n",
    "\n",
    "* 예를 들어 \"Auditorium\"이 필요한 과목으로 “arts”, “commerce”, “science” 세 과목이 있다면, “arts”는 “Auditorium-1”, “commerce”는 “Auditorium-2”, “science”는 “Auditorium-3” 순서로 방 배정이 되어야 합니다.\n",
    "\n",
    "*  방 번호에 room 은 포함되지 않습니다. 아래 스크린샷을 참고하여 작성해주세요.\n",
    "\n",
    "`2` status column이 “not allowed”인 수강생은 room assignment column을 그대로 “not assigned”로 남겨둡니다. \"not allowed\" 인 수강생의 room assignment 상태가 변경되지 않도록 유의해주세요.\n",
    "\n",
    "`3` room assignment column의 이름을 room number로 바꿔주세요."
   ]
  },
  {
   "cell_type": "markdown",
   "id": "d1c4230c-d257-48c2-a589-d8e58c5bbb46",
   "metadata": {},
   "source": [
    "## sol1"
   ]
  },
  {
   "cell_type": "code",
   "execution_count": 258,
   "id": "0407608a-f1bd-4530-a3d6-768f799259df",
   "metadata": {},
   "outputs": [],
   "source": [
    "import pandas as pd\n",
    "import warnings\n",
    "\n",
    "warnings.filterwarnings(action = \"ignore\")\n",
    "df = pd.read_csv('data/enrolment_3.csv')"
   ]
  },
  {
   "cell_type": "code",
   "execution_count": 259,
   "id": "d65eff40-929a-466d-a032-2a8939460426",
   "metadata": {},
   "outputs": [],
   "source": [
    "allowed = df.status == \"allowed\""
   ]
  },
  {
   "cell_type": "markdown",
   "id": "98468144-54a6-45fb-a42a-33ca2f25dea8",
   "metadata": {},
   "source": [
    "`-` 고유값만 출력"
   ]
  },
  {
   "cell_type": "code",
   "execution_count": 260,
   "id": "aa30a06f-0d85-4aa7-8908-95cc45c66e99",
   "metadata": {},
   "outputs": [],
   "source": [
    "u_df = df.loc[allowed,  [\"course name\", \"room assignment\"]].\\\n",
    "                drop_duplicates().sort_values([\"room assignment\",\"course name\"])"
   ]
  },
  {
   "cell_type": "code",
   "execution_count": 261,
   "id": "ef21a294-2294-4573-9624-d854459ec011",
   "metadata": {},
   "outputs": [
    {
     "data": {
      "text/html": [
       "<div>\n",
       "<style scoped>\n",
       "    .dataframe tbody tr th:only-of-type {\n",
       "        vertical-align: middle;\n",
       "    }\n",
       "\n",
       "    .dataframe tbody tr th {\n",
       "        vertical-align: top;\n",
       "    }\n",
       "\n",
       "    .dataframe thead th {\n",
       "        text-align: right;\n",
       "    }\n",
       "</style>\n",
       "<table border=\"1\" class=\"dataframe\">\n",
       "  <thead>\n",
       "    <tr style=\"text-align: right;\">\n",
       "      <th></th>\n",
       "      <th>course name</th>\n",
       "      <th>room assignment</th>\n",
       "    </tr>\n",
       "  </thead>\n",
       "  <tbody>\n",
       "    <tr>\n",
       "      <th>2</th>\n",
       "      <td>arts</td>\n",
       "      <td>Auditorium</td>\n",
       "    </tr>\n",
       "    <tr>\n",
       "      <th>60</th>\n",
       "      <td>commerce</td>\n",
       "      <td>Auditorium</td>\n",
       "    </tr>\n",
       "    <tr>\n",
       "      <th>1</th>\n",
       "      <td>science</td>\n",
       "      <td>Auditorium</td>\n",
       "    </tr>\n",
       "    <tr>\n",
       "      <th>202</th>\n",
       "      <td>education</td>\n",
       "      <td>Large room</td>\n",
       "    </tr>\n",
       "    <tr>\n",
       "      <th>24</th>\n",
       "      <td>english</td>\n",
       "      <td>Large room</td>\n",
       "    </tr>\n",
       "  </tbody>\n",
       "</table>\n",
       "</div>"
      ],
      "text/plain": [
       "    course name room assignment\n",
       "2          arts      Auditorium\n",
       "60     commerce      Auditorium\n",
       "1       science      Auditorium\n",
       "202   education      Large room\n",
       "24      english      Large room"
      ]
     },
     "execution_count": 261,
     "metadata": {},
     "output_type": "execute_result"
    }
   ],
   "source": [
    "u_df.head()"
   ]
  },
  {
   "cell_type": "markdown",
   "id": "e9434755-4389-4409-b8d1-5035a9381c47",
   "metadata": {},
   "source": [
    "`-` room_index"
   ]
  },
  {
   "cell_type": "code",
   "execution_count": 262,
   "id": "4a1af675-5082-4130-80d8-c4ec97fcb62b",
   "metadata": {},
   "outputs": [
    {
     "data": {
      "text/plain": [
       "(Index(['Small room', 'Medium room', 'Auditorium', 'Large room'], dtype='object', name='room assignment'),\n",
       " array([53, 24,  3,  2], dtype=int64))"
      ]
     },
     "execution_count": 262,
     "metadata": {},
     "output_type": "execute_result"
    }
   ],
   "source": [
    "room_index = u_df[\"room assignment\"].value_counts().index\n",
    "room_values = u_df[\"room assignment\"].value_counts().values\n",
    "\n",
    "room_index, room_values"
   ]
  },
  {
   "cell_type": "markdown",
   "id": "b5d83701-fede-4ac1-9794-73b5d11be555",
   "metadata": {},
   "source": [
    "`-` 룸 넘버링"
   ]
  },
  {
   "cell_type": "code",
   "execution_count": 263,
   "id": "9ec47f62-4e88-41c5-8743-53e4d0ecfb93",
   "metadata": {},
   "outputs": [],
   "source": [
    "new_df = pd.DataFrame()\n",
    "for k in range(4) :\n",
    "    temp = u_df.loc[u_df[\"room assignment\"] == room_index[k],:]\n",
    "    temp[\"room number\"] = [i + \"-\" + str(j) for i,j in zip(temp[\"room assignment\"], range(1, room_values[k]+1))]\n",
    "    new_df = pd.concat([new_df,temp], axis = 0)"
   ]
  },
  {
   "cell_type": "code",
   "execution_count": 264,
   "id": "241a160e-509e-4f16-97fa-af3e3c702191",
   "metadata": {},
   "outputs": [],
   "source": [
    "new_df = new_df[[\"course name\",\"room number\"]]"
   ]
  },
  {
   "cell_type": "code",
   "execution_count": 265,
   "id": "52dc01fb-7a1d-4d9f-b16d-d10cbf4833d8",
   "metadata": {},
   "outputs": [],
   "source": [
    "df1 = pd.merge(df, new_df, on = \"course name\",how = \"left\")"
   ]
  },
  {
   "cell_type": "code",
   "execution_count": 266,
   "id": "5760a2b9-88b1-4b24-a268-df452a2ee568",
   "metadata": {},
   "outputs": [],
   "source": [
    "df1.loc[df1[\"room assignment\"] == \"not assigned\", \"room number\"] = \"not assigned\""
   ]
  },
  {
   "cell_type": "code",
   "execution_count": 267,
   "id": "6721f26d-253c-4d26-8965-73fdb89f2d9d",
   "metadata": {},
   "outputs": [
    {
     "data": {
      "text/html": [
       "<div>\n",
       "<style scoped>\n",
       "    .dataframe tbody tr th:only-of-type {\n",
       "        vertical-align: middle;\n",
       "    }\n",
       "\n",
       "    .dataframe tbody tr th {\n",
       "        vertical-align: top;\n",
       "    }\n",
       "\n",
       "    .dataframe thead th {\n",
       "        text-align: right;\n",
       "    }\n",
       "</style>\n",
       "<table border=\"1\" class=\"dataframe\">\n",
       "  <thead>\n",
       "    <tr style=\"text-align: right;\">\n",
       "      <th></th>\n",
       "      <th>id</th>\n",
       "      <th>year</th>\n",
       "      <th>course name</th>\n",
       "      <th>status</th>\n",
       "      <th>room number</th>\n",
       "    </tr>\n",
       "  </thead>\n",
       "  <tbody>\n",
       "    <tr>\n",
       "      <th>0</th>\n",
       "      <td>2777729</td>\n",
       "      <td>1</td>\n",
       "      <td>information technology</td>\n",
       "      <td>not allowed</td>\n",
       "      <td>not assigned</td>\n",
       "    </tr>\n",
       "    <tr>\n",
       "      <th>1</th>\n",
       "      <td>2777730</td>\n",
       "      <td>2</td>\n",
       "      <td>science</td>\n",
       "      <td>allowed</td>\n",
       "      <td>Auditorium-3</td>\n",
       "    </tr>\n",
       "    <tr>\n",
       "      <th>2</th>\n",
       "      <td>2777765</td>\n",
       "      <td>1</td>\n",
       "      <td>arts</td>\n",
       "      <td>allowed</td>\n",
       "      <td>Auditorium-1</td>\n",
       "    </tr>\n",
       "    <tr>\n",
       "      <th>3</th>\n",
       "      <td>2777766</td>\n",
       "      <td>2</td>\n",
       "      <td>arts</td>\n",
       "      <td>allowed</td>\n",
       "      <td>Auditorium-1</td>\n",
       "    </tr>\n",
       "    <tr>\n",
       "      <th>4</th>\n",
       "      <td>2777785</td>\n",
       "      <td>1</td>\n",
       "      <td>mba</td>\n",
       "      <td>allowed</td>\n",
       "      <td>Small-34</td>\n",
       "    </tr>\n",
       "    <tr>\n",
       "      <th>...</th>\n",
       "      <td>...</td>\n",
       "      <td>...</td>\n",
       "      <td>...</td>\n",
       "      <td>...</td>\n",
       "      <td>...</td>\n",
       "    </tr>\n",
       "    <tr>\n",
       "      <th>1995</th>\n",
       "      <td>2796805</td>\n",
       "      <td>3</td>\n",
       "      <td>computer application</td>\n",
       "      <td>allowed</td>\n",
       "      <td>Medium-7</td>\n",
       "    </tr>\n",
       "    <tr>\n",
       "      <th>1996</th>\n",
       "      <td>2796812</td>\n",
       "      <td>1</td>\n",
       "      <td>nursing</td>\n",
       "      <td>allowed</td>\n",
       "      <td>Medium-22</td>\n",
       "    </tr>\n",
       "    <tr>\n",
       "      <th>1997</th>\n",
       "      <td>2796813</td>\n",
       "      <td>2</td>\n",
       "      <td>nursing</td>\n",
       "      <td>allowed</td>\n",
       "      <td>Medium-22</td>\n",
       "    </tr>\n",
       "    <tr>\n",
       "      <th>1998</th>\n",
       "      <td>2796814</td>\n",
       "      <td>3</td>\n",
       "      <td>nursing</td>\n",
       "      <td>allowed</td>\n",
       "      <td>Medium-22</td>\n",
       "    </tr>\n",
       "    <tr>\n",
       "      <th>1999</th>\n",
       "      <td>2796815</td>\n",
       "      <td>4</td>\n",
       "      <td>nursing</td>\n",
       "      <td>allowed</td>\n",
       "      <td>Medium-22</td>\n",
       "    </tr>\n",
       "  </tbody>\n",
       "</table>\n",
       "<p>2000 rows × 5 columns</p>\n",
       "</div>"
      ],
      "text/plain": [
       "           id  year             course name       status   room number\n",
       "0     2777729     1  information technology  not allowed  not assigned\n",
       "1     2777730     2                 science      allowed  Auditorium-3\n",
       "2     2777765     1                    arts      allowed  Auditorium-1\n",
       "3     2777766     2                    arts      allowed  Auditorium-1\n",
       "4     2777785     1                     mba      allowed      Small-34\n",
       "...       ...   ...                     ...          ...           ...\n",
       "1995  2796805     3    computer application      allowed      Medium-7\n",
       "1996  2796812     1                 nursing      allowed     Medium-22\n",
       "1997  2796813     2                 nursing      allowed     Medium-22\n",
       "1998  2796814     3                 nursing      allowed     Medium-22\n",
       "1999  2796815     4                 nursing      allowed     Medium-22\n",
       "\n",
       "[2000 rows x 5 columns]"
      ]
     },
     "execution_count": 267,
     "metadata": {},
     "output_type": "execute_result"
    }
   ],
   "source": [
    "df1[\"room number\"] = [i.replace(\" room\", \"\") for i in df1[\"room number\"]]\n",
    "df = df1.drop(\"room assignment\", axis = 1)\n",
    "df"
   ]
  },
  {
   "cell_type": "markdown",
   "id": "15b3a768-992c-45e9-9909-9c7311a4d827",
   "metadata": {},
   "source": [
    "### 전체코드"
   ]
  },
  {
   "cell_type": "code",
   "execution_count": 269,
   "id": "38a8643e-688d-47f5-b906-37a2c1ea8eef",
   "metadata": {},
   "outputs": [
    {
     "data": {
      "text/html": [
       "<div>\n",
       "<style scoped>\n",
       "    .dataframe tbody tr th:only-of-type {\n",
       "        vertical-align: middle;\n",
       "    }\n",
       "\n",
       "    .dataframe tbody tr th {\n",
       "        vertical-align: top;\n",
       "    }\n",
       "\n",
       "    .dataframe thead th {\n",
       "        text-align: right;\n",
       "    }\n",
       "</style>\n",
       "<table border=\"1\" class=\"dataframe\">\n",
       "  <thead>\n",
       "    <tr style=\"text-align: right;\">\n",
       "      <th></th>\n",
       "      <th>id</th>\n",
       "      <th>year</th>\n",
       "      <th>course name</th>\n",
       "      <th>status</th>\n",
       "      <th>room number</th>\n",
       "    </tr>\n",
       "  </thead>\n",
       "  <tbody>\n",
       "    <tr>\n",
       "      <th>0</th>\n",
       "      <td>2777729</td>\n",
       "      <td>1</td>\n",
       "      <td>information technology</td>\n",
       "      <td>not allowed</td>\n",
       "      <td>not assigned</td>\n",
       "    </tr>\n",
       "    <tr>\n",
       "      <th>1</th>\n",
       "      <td>2777730</td>\n",
       "      <td>2</td>\n",
       "      <td>science</td>\n",
       "      <td>allowed</td>\n",
       "      <td>Auditorium-3</td>\n",
       "    </tr>\n",
       "    <tr>\n",
       "      <th>2</th>\n",
       "      <td>2777765</td>\n",
       "      <td>1</td>\n",
       "      <td>arts</td>\n",
       "      <td>allowed</td>\n",
       "      <td>Auditorium-1</td>\n",
       "    </tr>\n",
       "    <tr>\n",
       "      <th>3</th>\n",
       "      <td>2777766</td>\n",
       "      <td>2</td>\n",
       "      <td>arts</td>\n",
       "      <td>allowed</td>\n",
       "      <td>Auditorium-1</td>\n",
       "    </tr>\n",
       "    <tr>\n",
       "      <th>4</th>\n",
       "      <td>2777785</td>\n",
       "      <td>1</td>\n",
       "      <td>mba</td>\n",
       "      <td>allowed</td>\n",
       "      <td>Small-34</td>\n",
       "    </tr>\n",
       "    <tr>\n",
       "      <th>...</th>\n",
       "      <td>...</td>\n",
       "      <td>...</td>\n",
       "      <td>...</td>\n",
       "      <td>...</td>\n",
       "      <td>...</td>\n",
       "    </tr>\n",
       "    <tr>\n",
       "      <th>1995</th>\n",
       "      <td>2796805</td>\n",
       "      <td>3</td>\n",
       "      <td>computer application</td>\n",
       "      <td>allowed</td>\n",
       "      <td>Medium-7</td>\n",
       "    </tr>\n",
       "    <tr>\n",
       "      <th>1996</th>\n",
       "      <td>2796812</td>\n",
       "      <td>1</td>\n",
       "      <td>nursing</td>\n",
       "      <td>allowed</td>\n",
       "      <td>Medium-22</td>\n",
       "    </tr>\n",
       "    <tr>\n",
       "      <th>1997</th>\n",
       "      <td>2796813</td>\n",
       "      <td>2</td>\n",
       "      <td>nursing</td>\n",
       "      <td>allowed</td>\n",
       "      <td>Medium-22</td>\n",
       "    </tr>\n",
       "    <tr>\n",
       "      <th>1998</th>\n",
       "      <td>2796814</td>\n",
       "      <td>3</td>\n",
       "      <td>nursing</td>\n",
       "      <td>allowed</td>\n",
       "      <td>Medium-22</td>\n",
       "    </tr>\n",
       "    <tr>\n",
       "      <th>1999</th>\n",
       "      <td>2796815</td>\n",
       "      <td>4</td>\n",
       "      <td>nursing</td>\n",
       "      <td>allowed</td>\n",
       "      <td>Medium-22</td>\n",
       "    </tr>\n",
       "  </tbody>\n",
       "</table>\n",
       "<p>2000 rows × 5 columns</p>\n",
       "</div>"
      ],
      "text/plain": [
       "           id  year             course name       status   room number\n",
       "0     2777729     1  information technology  not allowed  not assigned\n",
       "1     2777730     2                 science      allowed  Auditorium-3\n",
       "2     2777765     1                    arts      allowed  Auditorium-1\n",
       "3     2777766     2                    arts      allowed  Auditorium-1\n",
       "4     2777785     1                     mba      allowed      Small-34\n",
       "...       ...   ...                     ...          ...           ...\n",
       "1995  2796805     3    computer application      allowed      Medium-7\n",
       "1996  2796812     1                 nursing      allowed     Medium-22\n",
       "1997  2796813     2                 nursing      allowed     Medium-22\n",
       "1998  2796814     3                 nursing      allowed     Medium-22\n",
       "1999  2796815     4                 nursing      allowed     Medium-22\n",
       "\n",
       "[2000 rows x 5 columns]"
      ]
     },
     "execution_count": 269,
     "metadata": {},
     "output_type": "execute_result"
    }
   ],
   "source": [
    "import pandas as pd\n",
    "\n",
    "df = pd.read_csv('data/enrolment_3.csv')\n",
    "\n",
    "# 여기에 코드를 작성하세요\n",
    "allowed = df.status == \"allowed\"\n",
    "u_df = df.loc[allowed,  [\"course name\", \"room assignment\"]].\\\n",
    "                drop_duplicates().sort_values([\"room assignment\",\"course name\"])\n",
    "room_index = u_df[\"room assignment\"].value_counts().index\n",
    "room_values = u_df[\"room assignment\"].value_counts().values\n",
    "\n",
    "new_df = pd.DataFrame()\n",
    "for k in range(4) :\n",
    "    temp = u_df.loc[u_df[\"room assignment\"] == room_index[k],:]\n",
    "    temp[\"room number\"] = [i + \"-\" + str(j) for i,j in zip(temp[\"room assignment\"], range(1, room_values[k]+1))]\n",
    "    new_df = pd.concat([new_df,temp], axis = 0)\n",
    "new_df = new_df[[\"course name\",\"room number\"]]\n",
    "df1 = pd.merge(df, new_df, on = \"course name\",how = \"left\")\n",
    "df1.loc[df1[\"room assignment\"] == \"not assigned\", \"room number\"] = \"not assigned\"\n",
    "df1[\"room number\"] = [i.replace(\" room\", \"\") for i in df1[\"room number\"]]\n",
    "df = df1.drop(\"room assignment\", axis = 1)\n",
    "df"
   ]
  },
  {
   "cell_type": "markdown",
   "id": "c3210025-21d2-468f-9322-d88296d18f96",
   "metadata": {},
   "source": [
    "## sol2"
   ]
  },
  {
   "cell_type": "code",
   "execution_count": 268,
   "id": "08c5c895-1a99-468e-afef-8328dc97c03a",
   "metadata": {},
   "outputs": [
    {
     "data": {
      "text/html": [
       "<div>\n",
       "<style scoped>\n",
       "    .dataframe tbody tr th:only-of-type {\n",
       "        vertical-align: middle;\n",
       "    }\n",
       "\n",
       "    .dataframe tbody tr th {\n",
       "        vertical-align: top;\n",
       "    }\n",
       "\n",
       "    .dataframe thead th {\n",
       "        text-align: right;\n",
       "    }\n",
       "</style>\n",
       "<table border=\"1\" class=\"dataframe\">\n",
       "  <thead>\n",
       "    <tr style=\"text-align: right;\">\n",
       "      <th></th>\n",
       "      <th>id</th>\n",
       "      <th>year</th>\n",
       "      <th>course name</th>\n",
       "      <th>status</th>\n",
       "      <th>room number</th>\n",
       "    </tr>\n",
       "  </thead>\n",
       "  <tbody>\n",
       "    <tr>\n",
       "      <th>0</th>\n",
       "      <td>2777729</td>\n",
       "      <td>1</td>\n",
       "      <td>information technology</td>\n",
       "      <td>not allowed</td>\n",
       "      <td>not assigned</td>\n",
       "    </tr>\n",
       "    <tr>\n",
       "      <th>1</th>\n",
       "      <td>2777730</td>\n",
       "      <td>2</td>\n",
       "      <td>science</td>\n",
       "      <td>allowed</td>\n",
       "      <td>Auditorium-3</td>\n",
       "    </tr>\n",
       "    <tr>\n",
       "      <th>2</th>\n",
       "      <td>2777765</td>\n",
       "      <td>1</td>\n",
       "      <td>arts</td>\n",
       "      <td>allowed</td>\n",
       "      <td>Auditorium-1</td>\n",
       "    </tr>\n",
       "    <tr>\n",
       "      <th>3</th>\n",
       "      <td>2777766</td>\n",
       "      <td>2</td>\n",
       "      <td>arts</td>\n",
       "      <td>allowed</td>\n",
       "      <td>Auditorium-1</td>\n",
       "    </tr>\n",
       "    <tr>\n",
       "      <th>4</th>\n",
       "      <td>2777785</td>\n",
       "      <td>1</td>\n",
       "      <td>mba</td>\n",
       "      <td>allowed</td>\n",
       "      <td>Small-34</td>\n",
       "    </tr>\n",
       "    <tr>\n",
       "      <th>...</th>\n",
       "      <td>...</td>\n",
       "      <td>...</td>\n",
       "      <td>...</td>\n",
       "      <td>...</td>\n",
       "      <td>...</td>\n",
       "    </tr>\n",
       "    <tr>\n",
       "      <th>1995</th>\n",
       "      <td>2796805</td>\n",
       "      <td>3</td>\n",
       "      <td>computer application</td>\n",
       "      <td>allowed</td>\n",
       "      <td>Medium-7</td>\n",
       "    </tr>\n",
       "    <tr>\n",
       "      <th>1996</th>\n",
       "      <td>2796812</td>\n",
       "      <td>1</td>\n",
       "      <td>nursing</td>\n",
       "      <td>allowed</td>\n",
       "      <td>Medium-22</td>\n",
       "    </tr>\n",
       "    <tr>\n",
       "      <th>1997</th>\n",
       "      <td>2796813</td>\n",
       "      <td>2</td>\n",
       "      <td>nursing</td>\n",
       "      <td>allowed</td>\n",
       "      <td>Medium-22</td>\n",
       "    </tr>\n",
       "    <tr>\n",
       "      <th>1998</th>\n",
       "      <td>2796814</td>\n",
       "      <td>3</td>\n",
       "      <td>nursing</td>\n",
       "      <td>allowed</td>\n",
       "      <td>Medium-22</td>\n",
       "    </tr>\n",
       "    <tr>\n",
       "      <th>1999</th>\n",
       "      <td>2796815</td>\n",
       "      <td>4</td>\n",
       "      <td>nursing</td>\n",
       "      <td>allowed</td>\n",
       "      <td>Medium-22</td>\n",
       "    </tr>\n",
       "  </tbody>\n",
       "</table>\n",
       "<p>2000 rows × 5 columns</p>\n",
       "</div>"
      ],
      "text/plain": [
       "           id  year             course name       status   room number\n",
       "0     2777729     1  information technology  not allowed  not assigned\n",
       "1     2777730     2                 science      allowed  Auditorium-3\n",
       "2     2777765     1                    arts      allowed  Auditorium-1\n",
       "3     2777766     2                    arts      allowed  Auditorium-1\n",
       "4     2777785     1                     mba      allowed      Small-34\n",
       "...       ...   ...                     ...          ...           ...\n",
       "1995  2796805     3    computer application      allowed      Medium-7\n",
       "1996  2796812     1                 nursing      allowed     Medium-22\n",
       "1997  2796813     2                 nursing      allowed     Medium-22\n",
       "1998  2796814     3                 nursing      allowed     Medium-22\n",
       "1999  2796815     4                 nursing      allowed     Medium-22\n",
       "\n",
       "[2000 rows x 5 columns]"
      ]
     },
     "execution_count": 268,
     "metadata": {},
     "output_type": "execute_result"
    }
   ],
   "source": [
    "import pandas as pd\n",
    "\n",
    "df = pd.read_csv('data/enrolment_3.csv')\n",
    "\n",
    "# 과목별 인원 가져오기\n",
    "allowed = df[\"status\"] == \"allowed\"\n",
    "course_counts = df.loc[allowed, \"course name\"].value_counts()\n",
    "\n",
    "# 각 강의실 규모에 해당되는 과목 리스트 만들기\n",
    "auditorium_list = list(course_counts[course_counts >= 80].index)\n",
    "large_room_list = list(course_counts[(80 > course_counts) & (course_counts >= 40)].index)\n",
    "medium_room_list = list(course_counts[(40 > course_counts) & (course_counts >= 15)].index)\n",
    "small_room_list = list(course_counts[(15 > course_counts) & (course_counts > 4)].index)\n",
    "\n",
    "# 강의실 이름 붙이기\n",
    "for i in range(len(auditorium_list)):\n",
    "    df.loc[(df[\"course name\"] == sorted(auditorium_list)[i]) & allowed, \"room assignment\"] = \"Auditorium-\" + str(i + 1)\n",
    "\n",
    "for i in range(len(large_room_list)):\n",
    "    df.loc[(df[\"course name\"] == sorted(large_room_list)[i]) & allowed, \"room assignment\"] = \"Large-\" + str(i + 1)\n",
    "    \n",
    "for i in range(len(medium_room_list)):\n",
    "    df.loc[(df[\"course name\"] == sorted(medium_room_list)[i]) & allowed, \"room assignment\"] = \"Medium-\" + str(i + 1)\n",
    "    \n",
    "for i in range(len(small_room_list)):\n",
    "    df.loc[(df[\"course name\"] == sorted(small_room_list)[i]) & allowed, \"room assignment\"] = \"Small-\" + str(i + 1)\n",
    "\n",
    "# column 이름 바꾸기\n",
    "df.rename(columns={\"room assignment\": \"room number\"}, inplace = True)\n",
    "    \n",
    "# 테스트 코드\n",
    "df"
   ]
  }
 ],
 "metadata": {
  "kernelspec": {
   "display_name": "Python 3 (ipykernel)",
   "language": "python",
   "name": "python3"
  },
  "language_info": {
   "codemirror_mode": {
    "name": "ipython",
    "version": 3
   },
   "file_extension": ".py",
   "mimetype": "text/x-python",
   "name": "python",
   "nbconvert_exporter": "python",
   "pygments_lexer": "ipython3",
   "version": "3.12.2"
  }
 },
 "nbformat": 4,
 "nbformat_minor": 5
}
