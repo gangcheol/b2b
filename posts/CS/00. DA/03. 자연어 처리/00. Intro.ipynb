{
 "cells": [
  {
   "cell_type": "raw",
   "id": "d0f36e1d-0e5e-4446-bd1d-08803928e214",
   "metadata": {},
   "source": [
    "---\n",
    "title : \"00. Intro\"\n",
    "author : \"GC\"\n",
    "date : \"05/14/24\"\n",
    "---"
   ]
  },
  {
   "cell_type": "markdown",
   "id": "c5c52fe1-09ea-4971-85ce-21dc9a5446cb",
   "metadata": {},
   "source": [
    "# 자연어 처리란?"
   ]
  },
  {
   "cell_type": "markdown",
   "id": "b52e1c31-cc7d-41fa-8351-fc46f9754daa",
   "metadata": {},
   "source": [
    "`-` 언어의 종류\n",
    "\n",
    "1. 인공어 : 정보 전달을 위해 인위적으로 만들어진 언어\n",
    "\n",
    "* 프로그래밍 언어(C, Python, R 등등...)\n",
    "\n",
    "2. 자연어 : 사람들의 일상 생활에서 자연 발생된 언어\n",
    "\n",
    "* 영어, 중국어, 한국어 등등..."
   ]
  },
  {
   "cell_type": "markdown",
   "id": "82be68df-dac2-470f-a04a-b2071ac47832",
   "metadata": {},
   "source": [
    "`-` 자연어 처리 (NLP, Natural Language Processing)\n",
    "\n",
    "* 자연어 데이터를 컴퓨터가 처리할 수 있는 형태로 가공하여 의미 있는 분석을 하는 모든 과정"
   ]
  },
  {
   "cell_type": "markdown",
   "id": "d5fe4d1a-2e12-47d9-b0ef-dbd62aa33d9f",
   "metadata": {},
   "source": [
    "## 종류"
   ]
  },
  {
   "cell_type": "markdown",
   "id": "4b40d2ad-61b6-42fc-a545-0b4db4726cea",
   "metadata": {},
   "source": [
    "`-` NLU, Natural Language Understanding\n",
    "\n",
    "* 감성분석, 스팸메일 분류 등\n",
    "\n",
    "`-` NLG, Natural Language Generation\n",
    "\n",
    "* 신문기사 작성, 챗 GPT 등\n",
    "\n",
    "`-` 위 둘은, 자연어 처리의 하위 분야들로, 이름 그대로 자연어의 의미를 잏하고, 새로운 자연어를 생성하기 위한 기술들이 포함된다."
   ]
  },
  {
   "cell_type": "markdown",
   "id": "5beb83b6-da41-46b4-97e1-17386e40e857",
   "metadata": {},
   "source": [
    "***"
   ]
  },
  {
   "cell_type": "markdown",
   "id": "24efaf4c-4fd0-4b54-a3d6-d81112975925",
   "metadata": {},
   "source": [
    "# 자연어 처리를 하는 방법"
   ]
  },
  {
   "cell_type": "markdown",
   "id": "70274078-ee84-478b-97c2-ae4f79131e50",
   "metadata": {},
   "source": [
    "## 규칙 기반 접근법"
   ]
  },
  {
   "cell_type": "markdown",
   "id": "47e49a70-d461-4d01-b75b-bc8447aff7fe",
   "metadata": {},
   "source": [
    "`-` Rule Based Approach"
   ]
  },
  {
   "cell_type": "markdown",
   "id": "5594b2e0-dca3-42f2-a8b3-a69b0ef7007b",
   "metadata": {},
   "source": [
    "`-` 100일, 100미터, 100원 이렇듯이 앞에 숫자가 오고, 뒤에 문자가 온다는 규칙성이 있음\n",
    "\n",
    "* 해당 규칙성을 토대로 숫자 뒤에 나오는 단어에 따라 부여된 의미들을 파악할 수 있다.\n",
    "\n",
    "* 또한, 규칙 기반 접근법은 일정한 패턴을 가지는 자연어에 대해서 안정적으로 좋은 성능을 낼 수 있기 때문에 실제 상용 서비스에서도 많이 활용되고 있다."
   ]
  },
  {
   "cell_type": "markdown",
   "id": "57331fda-3264-48d4-8fe5-14402cfffb8f",
   "metadata": {},
   "source": [
    "## 통계 기반 접근법"
   ]
  },
  {
   "cell_type": "markdown",
   "id": "edabedda-917e-48c9-a755-10c06f84d469",
   "metadata": {},
   "source": [
    "`-` Statistiacl Based Approach"
   ]
  },
  {
   "cell_type": "markdown",
   "id": "19f899b5-3738-4f42-8834-d2526fc4a774",
   "metadata": {},
   "source": [
    "그러나 자연어에는 일정한 규칙이 없는 경우도 많다.... 그럴 때, 통계 기반 접근법을 사용!\n",
    "\n",
    "`-` 출현 빈도 술를 기반으로 문서에서 중요한 내용 파악 등\n",
    "\n",
    "`-` 또한, 머신러닝, 딥러닝을 활용한 자연어 처리 기법도 통계 기반 접근법이다.\n",
    "\n",
    "`-` 일관된 패턴을 파악하기 어려운 자연어에섣고 유의미한 정보를 찾을 수 이기 때문에 통계 기반 접근법은 많은 관심을 받고 있음"
   ]
  },
  {
   "cell_type": "markdown",
   "id": "7c4fcb98-d084-465b-9dd8-0aaa68e8a4e6",
   "metadata": {},
   "source": [
    "***"
   ]
  },
  {
   "cell_type": "markdown",
   "id": "093d1ddd-bcb5-4e34-ae3c-48350835fc65",
   "metadata": {},
   "source": [
    "# 자연어 처리가 어려운 이유"
   ]
  },
  {
   "cell_type": "markdown",
   "id": "675474d3-5124-49aa-a666-28309ccb48b6",
   "metadata": {},
   "source": [
    "## 특성 1. 중의성"
   ]
  },
  {
   "cell_type": "markdown",
   "id": "9e6f4288-f348-40bf-869d-73c64a9743c4",
   "metadata": {},
   "source": [
    "문장 1. She had the lead in a new film\n",
    "\n",
    "문장 2. She found lead."
   ]
  },
  {
   "cell_type": "markdown",
   "id": "5b3f9c13-50f4-4f71-94da-cd00400e9064",
   "metadata": {},
   "source": [
    "위 문장에서 `lead`는 `이끈다`, `납`이라는 두가지 의미를 가짐"
   ]
  },
  {
   "cell_type": "markdown",
   "id": "769f338c-0b5d-4aa0-b63c-b0b7a35c77df",
   "metadata": {},
   "source": [
    "이런 중의적인 단어, 문장을 파악하는 것은 사람에게도 쉽지 않다. 마찬가지로 컴퓨터도 중의적인 문장에 굉장히 취약함..."
   ]
  },
  {
   "cell_type": "markdown",
   "id": "7ea936cf-7a60-4291-8c2b-5c107c66fbb8",
   "metadata": {},
   "source": [
    "## 특성 2. 의미 중복성"
   ]
  },
  {
   "cell_type": "markdown",
   "id": "e9b7059d-0399-444d-a4a0-e44874b144cd",
   "metadata": {},
   "source": [
    "문장 1. 비행기가 1시에 `떠날` 예정입니다.\n",
    "\n",
    "문장 2. 비행기 `출발` 시간은 1시입니다.\n",
    "\n",
    "\n",
    "이렇게 동일한 의미를 다양한 방식으로 표현하는걸 `패러프레이징(Paraphrasing)`이라고 하며 컴퓨터가 이해하하는 데 굉장히 어려움...\n"
   ]
  },
  {
   "cell_type": "markdown",
   "id": "0dc58608-79ef-41bd-b5f0-ea57d8f5fdc7",
   "metadata": {},
   "source": [
    "## 특성 3. 관계성\n",
    "\n",
    "파랑과 빨강 중 분홍과 더 유사한 단어? $\\to$  빨강"
   ]
  },
  {
   "cell_type": "markdown",
   "id": "923950f7-4c52-4922-82a9-31c241839cfb",
   "metadata": {},
   "source": [
    "단어 간에는 의미를 기준으로 관계가 형성됨. 그러나 컴퓨터는 이를 이해하기 어려움..."
   ]
  },
  {
   "cell_type": "markdown",
   "id": "ca241f1d-a4cd-4fef-a2d2-c3f3d4ccddca",
   "metadata": {},
   "source": [
    "## 특성 4. 한국어"
   ]
  },
  {
   "cell_type": "markdown",
   "id": "2639f7ee-68e7-4357-b863-de5922afa8d7",
   "metadata": {},
   "source": [
    "일반적으로 한국어는 다른 언어보다 자연어 처리가 더 어렵다...."
   ]
  },
  {
   "cell_type": "markdown",
   "id": "78b31895-9fd7-4905-9641-8faf8da85219",
   "metadata": {},
   "source": [
    "### (1) 접사와 조사 처리"
   ]
  },
  {
   "cell_type": "markdown",
   "id": "e52b8382-5b5a-4f94-9286-9dd7f69e7e8d",
   "metadata": {},
   "source": [
    "한국어는 교착어, 즉 어근에 붙는 접사에 따라 의미가 변하는 언어이다."
   ]
  },
  {
   "cell_type": "markdown",
   "id": "76a78820-f06a-405b-a9a3-043781f3dc46",
   "metadata": {},
   "source": [
    "보통 자연어 러치를 하려면 어떠한 단어의 어근을 찾아서 사용하는 게 일반적이다. 그러나 한국어는 교착어이기 때문에 조사의 종류에 따라 의미 차이에 큰 변화가 생김"
   ]
  },
  {
   "cell_type": "markdown",
   "id": "f3873f6b-5703-4c4c-bf70-63d9b0381ecb",
   "metadata": {},
   "source": [
    "### (2) 유연한 어순"
   ]
  },
  {
   "cell_type": "markdown",
   "id": "06d0a586-761f-4ff0-9215-f818ab9dd36f",
   "metadata": {},
   "source": [
    "1. 나는 공부하러 간다.\n",
    "\n",
    "2. 공부하러 나는 간다.\n",
    "\n",
    "3. 나는 간다. 공부하러"
   ]
  },
  {
   "cell_type": "markdown",
   "id": "0b120207-a655-4388-9854-3cc08682d745",
   "metadata": {},
   "source": [
    "위 같은 유연한 어순 때문에 컴퓨터가 다음에 출현할 단어를 예측하는 것이 어렵다."
   ]
  },
  {
   "cell_type": "markdown",
   "id": "819ce69f-2dc5-45dd-bc87-6fd4bb6afb0b",
   "metadata": {},
   "source": [
    "### (3) 잘 지켜지지 않는 띄어쓰기"
   ]
  },
  {
   "cell_type": "markdown",
   "id": "47430dea-0d1f-45df-abfa-f3c8e44fe027",
   "metadata": {},
   "source": [
    "* 이건 뭐 한국인이라면 다들 알법한 문제이다...."
   ]
  }
 ],
 "metadata": {
  "kernelspec": {
   "display_name": "Python 3 (ipykernel)",
   "language": "python",
   "name": "python3"
  },
  "language_info": {
   "codemirror_mode": {
    "name": "ipython",
    "version": 3
   },
   "file_extension": ".py",
   "mimetype": "text/x-python",
   "name": "python",
   "nbconvert_exporter": "python",
   "pygments_lexer": "ipython3",
   "version": "3.12.2"
  }
 },
 "nbformat": 4,
 "nbformat_minor": 5
}
