{
 "cells": [
  {
   "cell_type": "raw",
   "id": "414ef9c3-4e5d-48fe-8761-853b054c2789",
   "metadata": {},
   "source": [
    "---\n",
    "title : \"04. 한국어 자연어 처리\"\n",
    "author : \"GC\"\n",
    "date : \"05/15/24\"\n",
    "---"
   ]
  },
  {
   "cell_type": "markdown",
   "id": "2f559c46-2a85-4549-bba2-46eae578bac6",
   "metadata": {},
   "source": [
    "# 1. 띄어쓰기 교정"
   ]
  },
  {
   "cell_type": "markdown",
   "id": "0b267a6e-bbd0-43d4-bfa3-6f13de31c541",
   "metadata": {},
   "source": [
    "## py-hanspell"
   ]
  },
  {
   "cell_type": "markdown",
   "id": "177682bc-4a9f-40f8-91ad-48f14cf48497",
   "metadata": {},
   "source": [
    "네이버 맞춤법 검사기를 이용한 파이썬용 한글 맞춤법 검사 라이브러리\n",
    "\n",
    "띄어 쓰기 교정을 포함한 여러 맞춤법 오류를 교정해줌"
   ]
  },
  {
   "cell_type": "markdown",
   "id": "a37ff007-4efb-4353-9412-75e567a764a3",
   "metadata": {},
   "source": [
    "`1` 패키지 설치"
   ]
  },
  {
   "cell_type": "markdown",
   "id": "a8a73bf8-dea4-4540-a613-2cd6d29a6ad9",
   "metadata": {},
   "source": [
    "1. [링크](https://github.com/ssut/py-hanspell)로 넘어가 code를 다운로드 한다.\n",
    "\n",
    "2. 다운로드한 파일을 현재 작업폴더로 옮긴 후 압축 해제\n",
    "\n",
    "3. 그리고 알맞게 경로 이동 후 다름과 같은 명령어 실행"
   ]
  },
  {
   "cell_type": "markdown",
   "id": "899d7709-9bee-49a7-a4cc-2e81278f6464",
   "metadata": {},
   "source": [
    "```python\n",
    "!python setup.py install\n",
    "```"
   ]
  },
  {
   "cell_type": "markdown",
   "id": "88d2359f-9b90-4e18-9389-94053a050337",
   "metadata": {},
   "source": [
    "`2` 맞춤법 교정"
   ]
  },
  {
   "cell_type": "markdown",
   "id": "8c2d96c0-2f7b-4971-a39c-8380673b0c50",
   "metadata": {},
   "source": [
    "* 패키지가 만들어진지 조금 오래 돼서 다음과 같은 오류가 발생한다...."
   ]
  },
  {
   "cell_type": "code",
   "execution_count": 5,
   "id": "37eaa55d-91d6-4448-b940-3743cb7d9e3d",
   "metadata": {},
   "outputs": [
    {
     "ename": "KeyError",
     "evalue": "'result'",
     "output_type": "error",
     "traceback": [
      "\u001b[1;31m---------------------------------------------------------------------------\u001b[0m",
      "\u001b[1;31mKeyError\u001b[0m                                  Traceback (most recent call last)",
      "Cell \u001b[1;32mIn[5], line 5\u001b[0m\n\u001b[0;32m      1\u001b[0m \u001b[38;5;28;01mfrom\u001b[39;00m \u001b[38;5;21;01mhanspell\u001b[39;00m \u001b[38;5;28;01mimport\u001b[39;00m spell_checker\n\u001b[0;32m      3\u001b[0m text \u001b[38;5;241m=\u001b[39m \u001b[38;5;124mu\u001b[39m\u001b[38;5;124m\"\u001b[39m\u001b[38;5;124m아버지가방에들어가신다나는오늘코딩을했다\u001b[39m\u001b[38;5;124m\"\u001b[39m\n\u001b[1;32m----> 5\u001b[0m hanspell_sent \u001b[38;5;241m=\u001b[39m \u001b[43mspell_checker\u001b[49m\u001b[38;5;241;43m.\u001b[39;49m\u001b[43mcheck\u001b[49m\u001b[43m(\u001b[49m\u001b[43mtext\u001b[49m\u001b[43m)\u001b[49m\n\u001b[0;32m      6\u001b[0m \u001b[38;5;28mprint\u001b[39m(hanspell_sent\u001b[38;5;241m.\u001b[39mchecked)\n",
      "File \u001b[1;32mD:\\projects\\b2b\\posts\\CS\\00. 데이터 분석\\03. 자연어 처리\\hanspell\\spell_checker.py:62\u001b[0m, in \u001b[0;36mcheck\u001b[1;34m(text)\u001b[0m\n\u001b[0;32m     59\u001b[0m passed_time \u001b[38;5;241m=\u001b[39m time\u001b[38;5;241m.\u001b[39mtime() \u001b[38;5;241m-\u001b[39m start_time\n\u001b[0;32m     61\u001b[0m data \u001b[38;5;241m=\u001b[39m json\u001b[38;5;241m.\u001b[39mloads(r\u001b[38;5;241m.\u001b[39mtext)\n\u001b[1;32m---> 62\u001b[0m html \u001b[38;5;241m=\u001b[39m \u001b[43mdata\u001b[49m\u001b[43m[\u001b[49m\u001b[38;5;124;43m'\u001b[39;49m\u001b[38;5;124;43mmessage\u001b[39;49m\u001b[38;5;124;43m'\u001b[39;49m\u001b[43m]\u001b[49m\u001b[43m[\u001b[49m\u001b[38;5;124;43m'\u001b[39;49m\u001b[38;5;124;43mresult\u001b[39;49m\u001b[38;5;124;43m'\u001b[39;49m\u001b[43m]\u001b[49m[\u001b[38;5;124m'\u001b[39m\u001b[38;5;124mhtml\u001b[39m\u001b[38;5;124m'\u001b[39m]\n\u001b[0;32m     63\u001b[0m result \u001b[38;5;241m=\u001b[39m {\n\u001b[0;32m     64\u001b[0m     \u001b[38;5;124m'\u001b[39m\u001b[38;5;124mresult\u001b[39m\u001b[38;5;124m'\u001b[39m: \u001b[38;5;28;01mTrue\u001b[39;00m,\n\u001b[0;32m     65\u001b[0m     \u001b[38;5;124m'\u001b[39m\u001b[38;5;124moriginal\u001b[39m\u001b[38;5;124m'\u001b[39m: text,\n\u001b[1;32m   (...)\u001b[0m\n\u001b[0;32m     69\u001b[0m     \u001b[38;5;124m'\u001b[39m\u001b[38;5;124mwords\u001b[39m\u001b[38;5;124m'\u001b[39m: OrderedDict(),\n\u001b[0;32m     70\u001b[0m }\n\u001b[0;32m     72\u001b[0m \u001b[38;5;66;03m# 띄어쓰기로 구분하기 위해 태그는 일단 보기 쉽게 바꿔둠.\u001b[39;00m\n\u001b[0;32m     73\u001b[0m \u001b[38;5;66;03m# ElementTree의 iter()를 써서 더 좋게 할 수 있는 방법이 있지만\u001b[39;00m\n\u001b[0;32m     74\u001b[0m \u001b[38;5;66;03m# 이 짧은 코드에 굳이 그렇게 할 필요성이 없으므로 일단 문자열을 치환하는 방법으로 작성.\u001b[39;00m\n",
      "\u001b[1;31mKeyError\u001b[0m: 'result'"
     ]
    }
   ],
   "source": [
    "from hanspell import spell_checker\n",
    "\n",
    "text = \"아버지가방에들어가신다나는오늘코딩을했다\"\n",
    "\n",
    "hanspell_sent = spell_checker.check(text)\n",
    "print(hanspell_sent.checked)"
   ]
  },
  {
   "cell_type": "markdown",
   "id": "0994fb33-a7dc-4e01-b9f4-0a91f7f97104",
   "metadata": {},
   "source": [
    "## extra. 이외 교정 도구"
   ]
  },
  {
   "cell_type": "markdown",
   "id": "e8cdbc1f-ec66-466d-a2d2-2e2b76ef89c0",
   "metadata": {},
   "source": [
    "* [soyspacing](https://github.com/lovit/soynlp) : 형태소 분석, 품사 판별, 띄어쓰기 교정 모듈 등을 제공하는 soynlp의 띄어쓰기 교정 모듈입니다. 이 띄어쓰기 교정 모듈은 대량의 코퍼스에서 띄어쓰기 패턴을 학습한 모델을 생성 한 후, 학습한 모델을 통해 패턴대로 띄어쓰기를 교정합니다.\n",
    "\n",
    "* [PyKoSpacinb](https://github.com/haven-jeon/PyKoSpacing) : 전희원님이 개발한 띄어쓰기 교정기입니다. 대용량 코퍼스를 학습하여 만들어진 띄어쓰기 딥러닝 모델로 뛰어난 성능을 가지고 있습니다."
   ]
  },
  {
   "cell_type": "markdown",
   "id": "412c71ec-c3cf-4651-8c76-1b232f85b612",
   "metadata": {},
   "source": [
    "***"
   ]
  },
  {
   "cell_type": "markdown",
   "id": "a8306068-2a27-4a41-88c4-f9ad069a31a5",
   "metadata": {},
   "source": [
    "# 2. 형태소 분석"
   ]
  },
  {
   "cell_type": "markdown",
   "id": "c3b823b5-1ae1-46ea-9b3b-a4a66a78a3b7",
   "metadata": {},
   "source": [
    "단어의 어근과 접사를 분리하는 작업"
   ]
  },
  {
   "cell_type": "markdown",
   "id": "71cce91e-58fd-4e4e-a3df-0aeae3c38ed4",
   "metadata": {},
   "source": [
    "## KoNLPy"
   ]
  },
  {
   "cell_type": "markdown",
   "id": "014f6a81-4401-4778-bbc1-b44436cbcc45",
   "metadata": {},
   "source": [
    "`-` 한국어 자연어 처리를 위한 파이썬 패키지\n",
    "\n",
    "`-` [공식문서](https://konlpy.org/ko/v0.6.0/#)"
   ]
  },
  {
   "cell_type": "markdown",
   "id": "749eeece-cacc-40f1-9cfe-b0563e535b87",
   "metadata": {},
   "source": [
    "`1` 패키지 설치"
   ]
  },
  {
   "cell_type": "markdown",
   "id": "fbd5433e-5692-478c-bb2c-3270b333936a",
   "metadata": {},
   "source": [
    "```python\n",
    "!pip install --upgrade pip\n",
    "!pip install konlpy\n",
    "```"
   ]
  },
  {
   "cell_type": "markdown",
   "id": "9aa78a7e-beaa-467f-85ac-ef6d981153a9",
   "metadata": {},
   "source": [
    "* [추가설치사항 참고](https://www.codeit.kr/tutorials/43/KoNLPy-%EC%84%A4%EC%B9%98%ED%95%98%EA%B8%B0-Windows)\n",
    "\n",
    "* 복잡함, 설치 다 끝내구 주피터 한번 껐다가 켜야함"
   ]
  },
  {
   "cell_type": "markdown",
   "id": "0e43d369-8d5e-4798-817f-c2850f6cea4b",
   "metadata": {},
   "source": [
    "`2` 패키지 로드"
   ]
  },
  {
   "cell_type": "code",
   "execution_count": 1,
   "id": "259e8004-4fe9-4ef7-ba66-d2c68fd55bc6",
   "metadata": {},
   "outputs": [],
   "source": [
    "import konlpy"
   ]
  },
  {
   "cell_type": "markdown",
   "id": "4533b619-abfd-4318-af27-8dcb1bf89449",
   "metadata": {},
   "source": [
    "총 5개의 형태소 분석 모듈이 존재\n",
    "\n",
    "* Kkma\n",
    "* Komoran\n",
    "* Okt\n",
    "* Hannanum\n",
    "* Mecab(이 모듈은 Windows를 지원하지 않음)"
   ]
  },
  {
   "cell_type": "markdown",
   "id": "f756e874-37e3-4207-88ea-6b054a23ee24",
   "metadata": {},
   "source": [
    "`3` 형태소 분석기 생성"
   ]
  },
  {
   "cell_type": "code",
   "execution_count": 2,
   "id": "c1fd4913-c794-4ecd-bf02-59fa31cc9ca9",
   "metadata": {},
   "outputs": [],
   "source": [
    "from konlpy.tag import Kkma, Komoran, Okt, Hannanum\n",
    "\n",
    "kkma = Kkma()\n",
    "komoran = Komoran()\n",
    "okt = Okt()\n",
    "hannanum = Hannanum()"
   ]
  },
  {
   "cell_type": "markdown",
   "id": "6ffcbe07-b670-460b-a88e-b033614dc848",
   "metadata": {},
   "source": [
    "`4` 형태소 분석 결과 확인"
   ]
  },
  {
   "cell_type": "code",
   "execution_count": 3,
   "id": "cba9ca8c-6517-4e5d-86e5-860e183c8800",
   "metadata": {},
   "outputs": [
    {
     "name": "stdout",
     "output_type": "stream",
     "text": [
      "Kkma:  ['아버지', '가', '방', '에', '들어가', '시', 'ㄴ다', '나', '는', '오늘', '코딩', '을', '하', '었', '다']\n",
      "Komoran:  ['아버지', '가', '방', '에', '들어가', '시', 'ㄴ다', '나', '는', '오늘', '코', '딩', '을', '하', '았', '다']\n",
      "Okt:  ['아버지', '가', '방', '에', '들어가신다', '나', '는', '오늘', '코딩', '을', '했다']\n",
      "Hannanum:  ['아버지', '가', '방', '에', '들', '어', '가', '시ㄴ다', '나', '는', '오늘', '코딩', '을', '하', '었다']\n"
     ]
    }
   ],
   "source": [
    "text = \"아버지가 방에 들어가신다 나는 오늘 코딩을 했다\"\n",
    "\n",
    "print(\"Kkma: \", kkma.morphs(text))\n",
    "print(\"Komoran: \", komoran.morphs(text))\n",
    "print(\"Okt: \", okt.morphs(text))\n",
    "print(\"Hannanum: \", hannanum.morphs(text))"
   ]
  },
  {
   "cell_type": "markdown",
   "id": "1adcc191-8cdb-4324-a1e0-506ec3325a19",
   "metadata": {},
   "source": [
    "## 이외 형태소 분석기들"
   ]
  },
  {
   "cell_type": "markdown",
   "id": "166b9fa3-7423-442d-a5d3-7b5d39588245",
   "metadata": {},
   "source": [
    "* [soynlp](https://github.com/lovit/soynlp) : soynlp에서는 L tokenizer, MaxScoreTokenizer와 같은 형태소 분석기도 제공하고 있습니다. 형태소 분석기 외에도 명사 추출기 등 한국어 자연어 분석을 위한 다양한 기능이 있습니다.\n",
    "\n",
    "* [Khaiii](https://tech.kakao.com/2018/12/13/khaiii/) : 2018년에 카카오가 공개한 오픈소스 한국어 형태소 분석기입니다.\n",
    "\n",
    "* [Google sentencepiece](https://github.com/google/sentencepiece) : 2018년에 구글에서 공개한 형태소 분석 패키지 입니다."
   ]
  },
  {
   "cell_type": "markdown",
   "id": "b17b530e-2767-46d5-973f-cb670971ea23",
   "metadata": {},
   "source": [
    "***"
   ]
  },
  {
   "cell_type": "markdown",
   "id": "1b1eafa5-479a-4b4e-b714-0652cf4d4834",
   "metadata": {},
   "source": [
    "# 3. 양질의 데이터 확보하기"
   ]
  },
  {
   "cell_type": "markdown",
   "id": "43ce87a1-1997-48b2-8aff-8c4bcf3d2f7a",
   "metadata": {},
   "source": [
    "* 한국어는 영어, 중국어, 스페인어 등과 같은 다른 언어에 비해 한국어를 구사하는 사람이 많지 않아 리소스 자체가 적다.\n",
    "\n",
    "* 사용하는 사람이 적기 때문에 당연하게도 해당 언어로 된 좋은 데이터가 많이 만들어지지 않는다.\n",
    "\n",
    "* 그래도 여러 기업에서 제공하는 양질의 한국어 데이터 셋이 존재한다. "
   ]
  },
  {
   "cell_type": "markdown",
   "id": "0888a648-76d6-4fc1-ae5c-b3bd244011e7",
   "metadata": {},
   "source": [
    "## KorQuAD"
   ]
  },
  {
   "cell_type": "markdown",
   "id": "f7fa48cf-a6d8-4e85-9fda-c60f283fed99",
   "metadata": {},
   "source": [
    "2018년에 LG CNS에서 구축하여 공개한 한국어 질의응답 데이터셋"
   ]
  },
  {
   "cell_type": "markdown",
   "id": "8b0e0f63-d251-4cf0-beff-f1495a8ee3fb",
   "metadata": {},
   "source": [
    "현재 약 10만 건의 데이터가 있으며, 버전이 업데이트 될 때마다 질의 응답 쌍이 계속 추가되고 있음"
   ]
  },
  {
   "cell_type": "markdown",
   "id": "a48fef0e-37e3-4103-937f-efa2058b41ea",
   "metadata": {},
   "source": [
    "* [KorQuAD](https://korquad.github.io/) 데이터 바로가기"
   ]
  },
  {
   "cell_type": "markdown",
   "id": "85cf4cff-e84a-4db3-986b-76f6ba518c4b",
   "metadata": {},
   "source": [
    "## 네이버 영화리뷰"
   ]
  },
  {
   "cell_type": "markdown",
   "id": "e4979f5a-910b-47df-916f-18386e6c04d7",
   "metadata": {},
   "source": [
    "대표적인 감성 지수에 대한 데이터"
   ]
  },
  {
   "cell_type": "markdown",
   "id": "9b4a419d-d251-48a6-9e1e-5b7f40d67ccd",
   "metadata": {},
   "source": [
    "* [네이버 영화 리뷰](https://github.com/e9t/nsmc/) 데이터 바로가기"
   ]
  },
  {
   "cell_type": "markdown",
   "id": "e988f157-ca43-40e6-a33c-f24bbd0b9d98",
   "metadata": {},
   "source": [
    "## 한국어 위키 백과"
   ]
  },
  {
   "cell_type": "markdown",
   "id": "d40fe87c-f699-46ef-a427-eac7d828adf5",
   "metadata": {},
   "source": [
    "자연어 데이터를 쉽게 다운로드 받을 수 있도록 하지 않음"
   ]
  },
  {
   "cell_type": "markdown",
   "id": "47abed55-3815-4b74-9b39-2941f57c1a15",
   "metadata": {},
   "source": [
    "따라서 크롤링을 수행해야함. 다음 시간에는 크롤링을 학습하여 자동화까지 구축해보자!"
   ]
  }
 ],
 "metadata": {
  "kernelspec": {
   "display_name": "Python 3 (ipykernel)",
   "language": "python",
   "name": "python3"
  },
  "language_info": {
   "codemirror_mode": {
    "name": "ipython",
    "version": 3
   },
   "file_extension": ".py",
   "mimetype": "text/x-python",
   "name": "python",
   "nbconvert_exporter": "python",
   "pygments_lexer": "ipython3",
   "version": "3.12.2"
  }
 },
 "nbformat": 4,
 "nbformat_minor": 5
}
