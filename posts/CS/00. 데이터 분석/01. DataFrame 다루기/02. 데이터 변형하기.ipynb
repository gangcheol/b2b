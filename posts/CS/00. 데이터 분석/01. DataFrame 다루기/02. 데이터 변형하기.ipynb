{
 "cells": [
  {
   "cell_type": "raw",
   "id": "8d5d2cb7-cb56-4c21-8269-d3c3f9e5daaf",
   "metadata": {},
   "source": [
    "---\n",
    "title : \"02. 데이터 변형하기\"\n",
    "author : \"GC\"\n",
    "date : \"04/19/24\"\n",
    "---"
   ]
  },
  {
   "cell_type": "markdown",
   "id": "612734fb-874a-4709-9fb6-d517d2bda987",
   "metadata": {},
   "source": [
    "# import"
   ]
  },
  {
   "cell_type": "code",
   "execution_count": 1,
   "id": "a1255d2a-caa6-4daf-a148-c46047f32c72",
   "metadata": {},
   "outputs": [],
   "source": [
    "import pandas as pd"
   ]
  },
  {
   "cell_type": "markdown",
   "id": "7893a729-6599-48d2-af6a-25c813e7250f",
   "metadata": {},
   "source": [
    "# ex1"
   ]
  },
  {
   "cell_type": "markdown",
   "id": "36038a4f-93fa-4046-a077-ecd5d0bf888a",
   "metadata": {},
   "source": [
    "1. ID 1의 무게를 200으로 변경\n",
    "\n",
    "2. ID 21의 row를 삭제\n",
    "\n",
    "3. ID 20의 row를 추가ID 20의 키는 70, 무게는 200입니다."
   ]
  },
  {
   "cell_type": "markdown",
   "id": "546deb2c-91ba-44a3-b049-237eff166295",
   "metadata": {},
   "source": [
    "`-` 데이터 로드"
   ]
  },
  {
   "cell_type": "code",
   "execution_count": 23,
   "id": "6ab6efd9-0e0a-4b41-9ba9-d494f29668e9",
   "metadata": {},
   "outputs": [
    {
     "data": {
      "text/html": [
       "<div>\n",
       "<style scoped>\n",
       "    .dataframe tbody tr th:only-of-type {\n",
       "        vertical-align: middle;\n",
       "    }\n",
       "\n",
       "    .dataframe tbody tr th {\n",
       "        vertical-align: top;\n",
       "    }\n",
       "\n",
       "    .dataframe thead th {\n",
       "        text-align: right;\n",
       "    }\n",
       "</style>\n",
       "<table border=\"1\" class=\"dataframe\">\n",
       "  <thead>\n",
       "    <tr style=\"text-align: right;\">\n",
       "      <th></th>\n",
       "      <th>Height (Inch)</th>\n",
       "      <th>Weight (Pound)</th>\n",
       "    </tr>\n",
       "    <tr>\n",
       "      <th>ID</th>\n",
       "      <th></th>\n",
       "      <th></th>\n",
       "    </tr>\n",
       "  </thead>\n",
       "  <tbody>\n",
       "    <tr>\n",
       "      <th>0</th>\n",
       "      <td>73.847017</td>\n",
       "      <td>241.893563</td>\n",
       "    </tr>\n",
       "    <tr>\n",
       "      <th>1</th>\n",
       "      <td>70.000000</td>\n",
       "      <td>NaN</td>\n",
       "    </tr>\n",
       "    <tr>\n",
       "      <th>2</th>\n",
       "      <td>74.110105</td>\n",
       "      <td>212.740856</td>\n",
       "    </tr>\n",
       "    <tr>\n",
       "      <th>3</th>\n",
       "      <td>71.730978</td>\n",
       "      <td>220.042470</td>\n",
       "    </tr>\n",
       "    <tr>\n",
       "      <th>4</th>\n",
       "      <td>69.881796</td>\n",
       "      <td>206.349801</td>\n",
       "    </tr>\n",
       "  </tbody>\n",
       "</table>\n",
       "</div>"
      ],
      "text/plain": [
       "    Height (Inch)  Weight (Pound)\n",
       "ID                               \n",
       "0       73.847017      241.893563\n",
       "1       70.000000             NaN\n",
       "2       74.110105      212.740856\n",
       "3       71.730978      220.042470\n",
       "4       69.881796      206.349801"
      ]
     },
     "execution_count": 23,
     "metadata": {},
     "output_type": "execute_result"
    }
   ],
   "source": [
    "df = pd.read_csv('data/body_imperial1.csv', index_col=0)\n",
    "df.head()"
   ]
  },
  {
   "cell_type": "markdown",
   "id": "cd739473-2c0f-4ce9-be16-d04729027173",
   "metadata": {},
   "source": [
    "`1` ID 1의 무게를 200으로 변경"
   ]
  },
  {
   "cell_type": "code",
   "execution_count": 24,
   "id": "5f69fb62-f4a4-4c36-bf90-0db760ee6201",
   "metadata": {},
   "outputs": [],
   "source": [
    "df.loc[1, \"Weight (Pound)\"] = 200"
   ]
  },
  {
   "cell_type": "markdown",
   "id": "02f6c147-1e11-4dca-b186-642ea9e8ef6c",
   "metadata": {},
   "source": [
    "`2`  ID 21의 row를 삭제"
   ]
  },
  {
   "cell_type": "code",
   "execution_count": 25,
   "id": "53bcbd9e-64d7-474f-bb10-6ae83e5f0dd6",
   "metadata": {},
   "outputs": [],
   "source": [
    "df.drop(21, axis = 0, inplace = True)"
   ]
  },
  {
   "cell_type": "markdown",
   "id": "44a23fce-f55d-4860-81d3-35d8b36759f5",
   "metadata": {},
   "source": [
    "`3` ID 20의 row를 추가ID 20의 키는 70, 무게는 200입니다."
   ]
  },
  {
   "cell_type": "code",
   "execution_count": 27,
   "id": "97cd721e-f549-45db-9edd-8252b5a0d6da",
   "metadata": {},
   "outputs": [],
   "source": [
    "df.loc[20] = [70,200]\n",
    "#df"
   ]
  },
  {
   "cell_type": "markdown",
   "id": "a43710ec-dec8-43fd-9950-18236354e84e",
   "metadata": {},
   "source": [
    "***"
   ]
  },
  {
   "cell_type": "markdown",
   "id": "f1db7e22-99cb-41c8-9870-8ec570d99e6f",
   "metadata": {},
   "source": [
    "# ex2"
   ]
  },
  {
   "cell_type": "code",
   "execution_count": 30,
   "id": "5714d869-7c30-44f5-9d0c-be6e53e421bb",
   "metadata": {},
   "outputs": [],
   "source": [
    "df = pd.read_csv('data/body_imperial2.csv', index_col=0)"
   ]
  },
  {
   "cell_type": "markdown",
   "id": "004f8daa-6932-40f6-ab2a-3f08e3d20ca3",
   "metadata": {},
   "source": [
    "`1` '비만도' column을 추가하고, 모든 ID에 대해 '정상'으로 설정"
   ]
  },
  {
   "cell_type": "code",
   "execution_count": 33,
   "id": "34e3a2b6-a581-48d6-a1c8-e70ec691d127",
   "metadata": {},
   "outputs": [],
   "source": [
    "df[\"비만도\"] = \"정상\""
   ]
  },
  {
   "cell_type": "markdown",
   "id": "e4f73ded-20b3-464e-be8d-58d9a39d7896",
   "metadata": {},
   "source": [
    "`2` 'Gender' column의 값을 ID `0~10`까지는 'Male' `11~20`까지는 'Female'로 변경"
   ]
  },
  {
   "cell_type": "code",
   "execution_count": 35,
   "id": "28e599cb-4c2c-4446-b3f9-0c9105c970d2",
   "metadata": {},
   "outputs": [
    {
     "name": "stderr",
     "output_type": "stream",
     "text": [
      "C:\\Users\\rkdcj\\AppData\\Local\\Temp\\ipykernel_10248\\1180722972.py:1: FutureWarning: Setting an item of incompatible dtype is deprecated and will raise an error in a future version of pandas. Value 'Male' has dtype incompatible with float64, please explicitly cast to a compatible dtype first.\n",
      "  df.loc[0:10, \"Gender\"] = \"Male\"\n"
     ]
    }
   ],
   "source": [
    "df.loc[0:10, \"Gender\"] = \"Male\"\n",
    "df.loc[11:20, \"Gender\"] = \"Female\""
   ]
  },
  {
   "cell_type": "markdown",
   "id": "aca16f37-275b-4e06-83a8-32af2d892cf2",
   "metadata": {},
   "source": [
    "***"
   ]
  },
  {
   "cell_type": "markdown",
   "id": "a2fb0fe8-3415-4349-902f-9bf81ef6230d",
   "metadata": {},
   "source": [
    "# ex3"
   ]
  },
  {
   "cell_type": "markdown",
   "id": "446dc558-dc84-414c-82b8-329f19efc1bf",
   "metadata": {},
   "source": [
    "`-` 최종점수가 600점 이상, 각 파트가 최소 250점 이상이면 합격을 의미하는 컬럼 추가"
   ]
  },
  {
   "cell_type": "code",
   "execution_count": 37,
   "id": "75a7b7fc-9a35-42b4-8f28-96c9c7a19738",
   "metadata": {},
   "outputs": [],
   "source": [
    "df = pd.read_csv('data/toeic.csv')"
   ]
  },
  {
   "cell_type": "markdown",
   "id": "9a8b7d09-31e6-41a6-a6d3-b0067224314b",
   "metadata": {},
   "source": [
    "## sol1"
   ]
  },
  {
   "cell_type": "code",
   "execution_count": 49,
   "id": "0c576e84-2f85-41e0-ab07-b3378f1738ad",
   "metadata": {},
   "outputs": [],
   "source": [
    "df[\"합격 여부\"] = [True if (i>=250) & (j>=250) & (i+j >= 600) else False for i,j in zip(df.LC, df.RC)]  "
   ]
  },
  {
   "cell_type": "code",
   "execution_count": 50,
   "id": "af5f8be1-e515-4ddc-90be-27ec89fd28e3",
   "metadata": {},
   "outputs": [
    {
     "data": {
      "text/html": [
       "<div>\n",
       "<style scoped>\n",
       "    .dataframe tbody tr th:only-of-type {\n",
       "        vertical-align: middle;\n",
       "    }\n",
       "\n",
       "    .dataframe tbody tr th {\n",
       "        vertical-align: top;\n",
       "    }\n",
       "\n",
       "    .dataframe thead th {\n",
       "        text-align: right;\n",
       "    }\n",
       "</style>\n",
       "<table border=\"1\" class=\"dataframe\">\n",
       "  <thead>\n",
       "    <tr style=\"text-align: right;\">\n",
       "      <th></th>\n",
       "      <th>Gender</th>\n",
       "      <th>LC</th>\n",
       "      <th>RC</th>\n",
       "      <th>합격 여부</th>\n",
       "    </tr>\n",
       "  </thead>\n",
       "  <tbody>\n",
       "    <tr>\n",
       "      <th>0</th>\n",
       "      <td>female</td>\n",
       "      <td>315</td>\n",
       "      <td>320</td>\n",
       "      <td>True</td>\n",
       "    </tr>\n",
       "    <tr>\n",
       "      <th>1</th>\n",
       "      <td>female</td>\n",
       "      <td>430</td>\n",
       "      <td>245</td>\n",
       "      <td>False</td>\n",
       "    </tr>\n",
       "    <tr>\n",
       "      <th>2</th>\n",
       "      <td>female</td>\n",
       "      <td>430</td>\n",
       "      <td>475</td>\n",
       "      <td>True</td>\n",
       "    </tr>\n",
       "    <tr>\n",
       "      <th>3</th>\n",
       "      <td>male</td>\n",
       "      <td>180</td>\n",
       "      <td>220</td>\n",
       "      <td>False</td>\n",
       "    </tr>\n",
       "    <tr>\n",
       "      <th>4</th>\n",
       "      <td>male</td>\n",
       "      <td>325</td>\n",
       "      <td>350</td>\n",
       "      <td>True</td>\n",
       "    </tr>\n",
       "    <tr>\n",
       "      <th>5</th>\n",
       "      <td>female</td>\n",
       "      <td>295</td>\n",
       "      <td>400</td>\n",
       "      <td>True</td>\n",
       "    </tr>\n",
       "    <tr>\n",
       "      <th>6</th>\n",
       "      <td>female</td>\n",
       "      <td>405</td>\n",
       "      <td>475</td>\n",
       "      <td>True</td>\n",
       "    </tr>\n",
       "    <tr>\n",
       "      <th>7</th>\n",
       "      <td>male</td>\n",
       "      <td>155</td>\n",
       "      <td>150</td>\n",
       "      <td>False</td>\n",
       "    </tr>\n",
       "    <tr>\n",
       "      <th>8</th>\n",
       "      <td>male</td>\n",
       "      <td>280</td>\n",
       "      <td>315</td>\n",
       "      <td>False</td>\n",
       "    </tr>\n",
       "    <tr>\n",
       "      <th>9</th>\n",
       "      <td>female</td>\n",
       "      <td>215</td>\n",
       "      <td>475</td>\n",
       "      <td>False</td>\n",
       "    </tr>\n",
       "  </tbody>\n",
       "</table>\n",
       "</div>"
      ],
      "text/plain": [
       "   Gender   LC   RC  합격 여부\n",
       "0  female  315  320   True\n",
       "1  female  430  245  False\n",
       "2  female  430  475   True\n",
       "3    male  180  220  False\n",
       "4    male  325  350   True\n",
       "5  female  295  400   True\n",
       "6  female  405  475   True\n",
       "7    male  155  150  False\n",
       "8    male  280  315  False\n",
       "9  female  215  475  False"
      ]
     },
     "execution_count": 50,
     "metadata": {},
     "output_type": "execute_result"
    }
   ],
   "source": [
    "df"
   ]
  },
  {
   "cell_type": "markdown",
   "id": "df4bc8e9-79a8-4971-a787-a80ac041e378",
   "metadata": {},
   "source": [
    "## sol2"
   ]
  },
  {
   "cell_type": "code",
   "execution_count": 51,
   "id": "7a8b21c5-9b18-4e0d-9315-41248ef1d9e2",
   "metadata": {},
   "outputs": [],
   "source": [
    "pass_total = df['LC'] + df['RC'] >= 600\n",
    "pass_both = (df['LC'] >= 250) & (df['RC'] >= 250)\n",
    "df['합격 여부'] = pass_total & pass_both"
   ]
  },
  {
   "cell_type": "code",
   "execution_count": 52,
   "id": "bc02fcf4-3fab-450b-93b7-40c75462b2aa",
   "metadata": {},
   "outputs": [
    {
     "data": {
      "text/html": [
       "<div>\n",
       "<style scoped>\n",
       "    .dataframe tbody tr th:only-of-type {\n",
       "        vertical-align: middle;\n",
       "    }\n",
       "\n",
       "    .dataframe tbody tr th {\n",
       "        vertical-align: top;\n",
       "    }\n",
       "\n",
       "    .dataframe thead th {\n",
       "        text-align: right;\n",
       "    }\n",
       "</style>\n",
       "<table border=\"1\" class=\"dataframe\">\n",
       "  <thead>\n",
       "    <tr style=\"text-align: right;\">\n",
       "      <th></th>\n",
       "      <th>Gender</th>\n",
       "      <th>LC</th>\n",
       "      <th>RC</th>\n",
       "      <th>합격 여부</th>\n",
       "    </tr>\n",
       "  </thead>\n",
       "  <tbody>\n",
       "    <tr>\n",
       "      <th>0</th>\n",
       "      <td>female</td>\n",
       "      <td>315</td>\n",
       "      <td>320</td>\n",
       "      <td>True</td>\n",
       "    </tr>\n",
       "    <tr>\n",
       "      <th>1</th>\n",
       "      <td>female</td>\n",
       "      <td>430</td>\n",
       "      <td>245</td>\n",
       "      <td>False</td>\n",
       "    </tr>\n",
       "    <tr>\n",
       "      <th>2</th>\n",
       "      <td>female</td>\n",
       "      <td>430</td>\n",
       "      <td>475</td>\n",
       "      <td>True</td>\n",
       "    </tr>\n",
       "    <tr>\n",
       "      <th>3</th>\n",
       "      <td>male</td>\n",
       "      <td>180</td>\n",
       "      <td>220</td>\n",
       "      <td>False</td>\n",
       "    </tr>\n",
       "    <tr>\n",
       "      <th>4</th>\n",
       "      <td>male</td>\n",
       "      <td>325</td>\n",
       "      <td>350</td>\n",
       "      <td>True</td>\n",
       "    </tr>\n",
       "    <tr>\n",
       "      <th>5</th>\n",
       "      <td>female</td>\n",
       "      <td>295</td>\n",
       "      <td>400</td>\n",
       "      <td>True</td>\n",
       "    </tr>\n",
       "    <tr>\n",
       "      <th>6</th>\n",
       "      <td>female</td>\n",
       "      <td>405</td>\n",
       "      <td>475</td>\n",
       "      <td>True</td>\n",
       "    </tr>\n",
       "    <tr>\n",
       "      <th>7</th>\n",
       "      <td>male</td>\n",
       "      <td>155</td>\n",
       "      <td>150</td>\n",
       "      <td>False</td>\n",
       "    </tr>\n",
       "    <tr>\n",
       "      <th>8</th>\n",
       "      <td>male</td>\n",
       "      <td>280</td>\n",
       "      <td>315</td>\n",
       "      <td>False</td>\n",
       "    </tr>\n",
       "    <tr>\n",
       "      <th>9</th>\n",
       "      <td>female</td>\n",
       "      <td>215</td>\n",
       "      <td>475</td>\n",
       "      <td>False</td>\n",
       "    </tr>\n",
       "  </tbody>\n",
       "</table>\n",
       "</div>"
      ],
      "text/plain": [
       "   Gender   LC   RC  합격 여부\n",
       "0  female  315  320   True\n",
       "1  female  430  245  False\n",
       "2  female  430  475   True\n",
       "3    male  180  220  False\n",
       "4    male  325  350   True\n",
       "5  female  295  400   True\n",
       "6  female  405  475   True\n",
       "7    male  155  150  False\n",
       "8    male  280  315  False\n",
       "9  female  215  475  False"
      ]
     },
     "execution_count": 52,
     "metadata": {},
     "output_type": "execute_result"
    }
   ],
   "source": [
    "df"
   ]
  },
  {
   "cell_type": "markdown",
   "id": "7a3f3e91-3650-4351-a2fb-1fd05d426f54",
   "metadata": {},
   "source": [
    "`-` cowork 할 떄는 리스트 컴프리헨션보다 저렇게 가독성 있는 코드를 짜는게 좋을 것 같다."
   ]
  },
  {
   "cell_type": "markdown",
   "id": "203c4a63-d47c-4768-80c6-d4526837c83d",
   "metadata": {},
   "source": [
    "***"
   ]
  },
  {
   "cell_type": "markdown",
   "id": "da44e18f-4d21-4ff2-8c35-c58d82c70bc0",
   "metadata": {},
   "source": [
    "# ex4"
   ]
  },
  {
   "cell_type": "markdown",
   "id": "3fd613ff-908e-497d-b165-55331205b057",
   "metadata": {},
   "source": [
    "## sol1"
   ]
  },
  {
   "cell_type": "markdown",
   "id": "cb7c2ba1-1eb9-4c2c-abb7-72abcb456a84",
   "metadata": {},
   "source": [
    "`1` 첫 번째 컬럼에 `2`를 곱하기"
   ]
  },
  {
   "cell_type": "code",
   "execution_count": 58,
   "id": "f7c4cfa6-8e0f-4e66-9ab1-0bc6f66dde6b",
   "metadata": {},
   "outputs": [],
   "source": [
    "df = pd.read_csv('data/Puzzle_before.csv')"
   ]
  },
  {
   "cell_type": "code",
   "execution_count": 59,
   "id": "c7ba1912-14b3-44b6-a251-9ed8e7ee6fd7",
   "metadata": {},
   "outputs": [],
   "source": [
    "df[\"A\"] = df[\"A\"]*2"
   ]
  },
  {
   "cell_type": "markdown",
   "id": "f3874f3f-df35-4f4b-acff-0f4813020c71",
   "metadata": {},
   "source": [
    "`2` `B~E` 열 까지 80점 이상이면 1, 아니면 0으로 값 교체"
   ]
  },
  {
   "cell_type": "code",
   "execution_count": 66,
   "id": "2e7155cf-0fe3-4b87-98dd-0656e9f8fd76",
   "metadata": {},
   "outputs": [
    {
     "name": "stderr",
     "output_type": "stream",
     "text": [
      "C:\\Users\\rkdcj\\AppData\\Local\\Temp\\ipykernel_10248\\2975510319.py:1: FutureWarning: DataFrame.applymap has been deprecated. Use DataFrame.map instead.\n",
      "  df.loc[:,\"B\":\"E\"] = df.loc[:,\"B\":\"E\"].applymap(lambda x : 1 if x >=80 else 0)\n"
     ]
    }
   ],
   "source": [
    "df.loc[:,\"B\":\"E\"] = df.loc[:,\"B\":\"E\"].applymap(lambda x : 1 if x >=80 else 0)"
   ]
  },
  {
   "cell_type": "markdown",
   "id": "7bc54abb-8959-4ce4-b241-21ea34edf8db",
   "metadata": {},
   "source": [
    "`3` F열의 2번째 값을 99로 교체"
   ]
  },
  {
   "cell_type": "code",
   "execution_count": 68,
   "id": "4e538c04-9dee-43d9-b339-266c78be975b",
   "metadata": {},
   "outputs": [],
   "source": [
    "df.loc[2, \"F\"] = 99"
   ]
  },
  {
   "cell_type": "code",
   "execution_count": 69,
   "id": "665cad4b-16d5-495e-afb6-9c01709deb3c",
   "metadata": {},
   "outputs": [
    {
     "data": {
      "text/html": [
       "<div>\n",
       "<style scoped>\n",
       "    .dataframe tbody tr th:only-of-type {\n",
       "        vertical-align: middle;\n",
       "    }\n",
       "\n",
       "    .dataframe tbody tr th {\n",
       "        vertical-align: top;\n",
       "    }\n",
       "\n",
       "    .dataframe thead th {\n",
       "        text-align: right;\n",
       "    }\n",
       "</style>\n",
       "<table border=\"1\" class=\"dataframe\">\n",
       "  <thead>\n",
       "    <tr style=\"text-align: right;\">\n",
       "      <th></th>\n",
       "      <th>A</th>\n",
       "      <th>B</th>\n",
       "      <th>C</th>\n",
       "      <th>D</th>\n",
       "      <th>E</th>\n",
       "      <th>F</th>\n",
       "    </tr>\n",
       "  </thead>\n",
       "  <tbody>\n",
       "    <tr>\n",
       "      <th>0</th>\n",
       "      <td>2</td>\n",
       "      <td>0</td>\n",
       "      <td>0</td>\n",
       "      <td>1</td>\n",
       "      <td>0</td>\n",
       "      <td>13</td>\n",
       "    </tr>\n",
       "    <tr>\n",
       "      <th>1</th>\n",
       "      <td>4</td>\n",
       "      <td>0</td>\n",
       "      <td>0</td>\n",
       "      <td>1</td>\n",
       "      <td>0</td>\n",
       "      <td>24</td>\n",
       "    </tr>\n",
       "    <tr>\n",
       "      <th>2</th>\n",
       "      <td>6</td>\n",
       "      <td>1</td>\n",
       "      <td>0</td>\n",
       "      <td>1</td>\n",
       "      <td>0</td>\n",
       "      <td>99</td>\n",
       "    </tr>\n",
       "    <tr>\n",
       "      <th>3</th>\n",
       "      <td>8</td>\n",
       "      <td>1</td>\n",
       "      <td>1</td>\n",
       "      <td>0</td>\n",
       "      <td>1</td>\n",
       "      <td>78</td>\n",
       "    </tr>\n",
       "    <tr>\n",
       "      <th>4</th>\n",
       "      <td>10</td>\n",
       "      <td>0</td>\n",
       "      <td>1</td>\n",
       "      <td>0</td>\n",
       "      <td>1</td>\n",
       "      <td>61</td>\n",
       "    </tr>\n",
       "  </tbody>\n",
       "</table>\n",
       "</div>"
      ],
      "text/plain": [
       "    A  B  C  D  E   F\n",
       "0   2  0  0  1  0  13\n",
       "1   4  0  0  1  0  24\n",
       "2   6  1  0  1  0  99\n",
       "3   8  1  1  0  1  78\n",
       "4  10  0  1  0  1  61"
      ]
     },
     "execution_count": 69,
     "metadata": {},
     "output_type": "execute_result"
    }
   ],
   "source": [
    "df"
   ]
  },
  {
   "cell_type": "markdown",
   "id": "91836950-0519-411a-b254-b63cb6a6a67d",
   "metadata": {},
   "source": [
    "## sol2"
   ]
  },
  {
   "cell_type": "code",
   "execution_count": 70,
   "id": "ee9197ac-e975-47d2-b6b7-5172338242f5",
   "metadata": {},
   "outputs": [
    {
     "data": {
      "text/html": [
       "<div>\n",
       "<style scoped>\n",
       "    .dataframe tbody tr th:only-of-type {\n",
       "        vertical-align: middle;\n",
       "    }\n",
       "\n",
       "    .dataframe tbody tr th {\n",
       "        vertical-align: top;\n",
       "    }\n",
       "\n",
       "    .dataframe thead th {\n",
       "        text-align: right;\n",
       "    }\n",
       "</style>\n",
       "<table border=\"1\" class=\"dataframe\">\n",
       "  <thead>\n",
       "    <tr style=\"text-align: right;\">\n",
       "      <th></th>\n",
       "      <th>A</th>\n",
       "      <th>B</th>\n",
       "      <th>C</th>\n",
       "      <th>D</th>\n",
       "      <th>E</th>\n",
       "      <th>F</th>\n",
       "    </tr>\n",
       "  </thead>\n",
       "  <tbody>\n",
       "    <tr>\n",
       "      <th>0</th>\n",
       "      <td>2</td>\n",
       "      <td>0</td>\n",
       "      <td>0</td>\n",
       "      <td>1</td>\n",
       "      <td>0</td>\n",
       "      <td>13</td>\n",
       "    </tr>\n",
       "    <tr>\n",
       "      <th>1</th>\n",
       "      <td>4</td>\n",
       "      <td>0</td>\n",
       "      <td>0</td>\n",
       "      <td>1</td>\n",
       "      <td>0</td>\n",
       "      <td>24</td>\n",
       "    </tr>\n",
       "    <tr>\n",
       "      <th>2</th>\n",
       "      <td>6</td>\n",
       "      <td>1</td>\n",
       "      <td>0</td>\n",
       "      <td>1</td>\n",
       "      <td>0</td>\n",
       "      <td>99</td>\n",
       "    </tr>\n",
       "    <tr>\n",
       "      <th>3</th>\n",
       "      <td>8</td>\n",
       "      <td>1</td>\n",
       "      <td>1</td>\n",
       "      <td>0</td>\n",
       "      <td>1</td>\n",
       "      <td>78</td>\n",
       "    </tr>\n",
       "    <tr>\n",
       "      <th>4</th>\n",
       "      <td>10</td>\n",
       "      <td>0</td>\n",
       "      <td>1</td>\n",
       "      <td>0</td>\n",
       "      <td>1</td>\n",
       "      <td>61</td>\n",
       "    </tr>\n",
       "  </tbody>\n",
       "</table>\n",
       "</div>"
      ],
      "text/plain": [
       "    A  B  C  D  E   F\n",
       "0   2  0  0  1  0  13\n",
       "1   4  0  0  1  0  24\n",
       "2   6  1  0  1  0  99\n",
       "3   8  1  1  0  1  78\n",
       "4  10  0  1  0  1  61"
      ]
     },
     "execution_count": 70,
     "metadata": {},
     "output_type": "execute_result"
    }
   ],
   "source": [
    "import pandas as pd\n",
    "\n",
    "df = pd.read_csv('data/Puzzle_before.csv')\n",
    "\n",
    "df['A'] = df['A'] * 2\n",
    "df[df.loc[:, 'B':'E'] < 80] = 0\n",
    "df[df.loc[:, 'B':'E'] >= 80] = 1\n",
    "df.loc[2, 'F'] = 99\n",
    "\n",
    "# 테스트 코드\n",
    "df"
   ]
  }
 ],
 "metadata": {
  "kernelspec": {
   "display_name": "Python 3 (ipykernel)",
   "language": "python",
   "name": "python3"
  },
  "language_info": {
   "codemirror_mode": {
    "name": "ipython",
    "version": 3
   },
   "file_extension": ".py",
   "mimetype": "text/x-python",
   "name": "python",
   "nbconvert_exporter": "python",
   "pygments_lexer": "ipython3",
   "version": "3.12.2"
  }
 },
 "nbformat": 4,
 "nbformat_minor": 5
}
