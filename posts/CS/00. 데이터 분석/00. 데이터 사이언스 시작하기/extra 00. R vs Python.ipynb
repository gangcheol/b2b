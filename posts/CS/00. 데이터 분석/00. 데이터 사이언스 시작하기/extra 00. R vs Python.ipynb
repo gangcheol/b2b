{
 "cells": [
  {
   "cell_type": "raw",
   "id": "171f9c4f-3c5f-4ed7-ab75-f6765317967e",
   "metadata": {},
   "source": [
    "---\n",
    "title : \"extra 00. R vs Python\"\n",
    "author : \"gc\"\n",
    "date : \"04/14/24\"\n",
    "---"
   ]
  },
  {
   "cell_type": "markdown",
   "id": "25826397-afda-4d9b-8417-dc02ee8168aa",
   "metadata": {},
   "source": [
    "# 그냥 일반적으로 널리 알려진 사실 끄적..."
   ]
  },
  {
   "cell_type": "markdown",
   "id": "064a6f1b-72b1-440c-ba4f-9de9145fe2ec",
   "metadata": {},
   "source": [
    "## R"
   ]
  },
  {
   "cell_type": "markdown",
   "id": "0e722df1-5fac-4907-93ac-e3a004255462",
   "metadata": {},
   "source": [
    "`1` 통계분석을 위해 만들어진 언어\n",
    "\n",
    "* 1993년 뉴질랜드 오클랜드 대학의 통계학과 교수인 `로버트 젠틀맨`과 `로스 이나카`이라는 분이 만들었음(정말, 고마운 분들)\n",
    "\n",
    "`2` 통계분석과 시각화 측면에서는 python보다 좋다고 알려짐\n",
    "\n",
    "`3` 또한, 애초에 프로그래밍을 처음 배우는 사람도 손쉽게 배울 수 있도록 만들어짐(만들 당시 개발 목표)"
   ]
  },
  {
   "cell_type": "markdown",
   "id": "6cb0698d-a708-41b2-a559-a7c19047cbad",
   "metadata": {},
   "source": [
    "## python"
   ]
  },
  {
   "cell_type": "markdown",
   "id": "5fbd2338-e850-4780-be0a-5c934d8ca324",
   "metadata": {},
   "source": [
    "`1` python은 1991년 귀도 반 로섬이 크리스마스에 연구실 출근했다가 문 닫혀서 심심풀이로 만든 언어\n",
    "\n",
    "`2` 코미디 프로그램인 몬티 파이썬의 날아다니는 써커스 `Monty Python's Flying Circus`에서 python 이름을 따옴\n",
    "\n",
    "`3` 그리고, 데이터 사이언스에서 초기에는 R이 우세했으나 Python이 현재는 앞지름\n",
    "\n",
    "* 사실 앞질른 것은 맞는데, 요즘은 그런지 잘 모르겠음, 평가 기준도 애매함."
   ]
  },
  {
   "cell_type": "markdown",
   "id": "dcb4d62d-daf1-4e86-883b-d1d425462e84",
   "metadata": {},
   "source": [
    "## 일반적으로 알려진 사실에 대한 내 생각"
   ]
  },
  {
   "cell_type": "markdown",
   "id": "3e75b08d-9a13-42a1-8eba-31d59c551020",
   "metadata": {},
   "source": [
    "`1` 음... 일단 데이터 사이언스라는 직무를 보았을 때 numpy, pandas, tensorflow의 등장으로 python이 훨씬 편해진 것은 맞음\n",
    "\n",
    "`2` 그러나! tidyverse, tidymodel이라는 R의 필살 패키지의 등장으로 그 장벽을 어느 정도 허물은 것 같다.\n",
    "\n",
    "`3` 개인적인 경험\n",
    "\n",
    "* 파이프 연산자 `%>%`는 진짜 너무 편함, python의 백엔드 연산처럼 너무 편하게 쓸 수 있음\n",
    "\n",
    "* R이 시각화가 더 좋다고 하는데, plotly가 ggplot2보다 훨씬 코드짜기 편하고 그래프 가독성, 인터랙티브 측면에서도 훨씬 좋은 것 같음\n",
    "\n",
    "* 대용량 데이터를 읽어드릴 때 `python`은 `pandas`를 이용해서 읽어오는데, 백만 단위가 넘어가면 상당히 오래걸림\n",
    "\n",
    "* `R`의 `dplyr`, `data.frame` 패키지를 이용하면 이러한 데이터들도 진짜 빨리 읽어올 수 있음!\n",
    "\n",
    "`4` 결론\n",
    "\n",
    "* 음... 본인에 입맛에 맞는 걸, 그때그때 적절히 사용하면 될 것 같음\n",
    "\n",
    "* 난 아직도, 데이터 50만건만 넘어가도 R로 데이터 전처리하니까...\n",
    "\n",
    "* 그리고 데이터 분석, 모델링이라는 게 결국 전처리가 95%는 차지하는 것 같음\n",
    "\n",
    "* 즉, 두 언어를 비교할 때, 전처리 패키지를 비교하는게 맞다고 생각한다.\n",
    "\n",
    "* AI 모델 설계할 떄도 아직은 R의 `tidymodel` 패키지를 안 다루어 보았지만, `tidyverse`를 다루어 생각해보면 또 압도적이지 않을까라는 생각이 들음\n",
    "\n",
    "* 오늘 그래서, 두 언어에 쓰이는 데이터 로드, 전처리를 코드 길이, 속도 측면에서 비교해보고 싶음"
   ]
  },
  {
   "cell_type": "markdown",
   "id": "5883a689-b12a-4843-a7c3-896fe81878de",
   "metadata": {},
   "source": [
    "***"
   ]
  },
  {
   "cell_type": "markdown",
   "id": "8cf98e67-3671-412b-b756-0ea7e27af42f",
   "metadata": {},
   "source": [
    "# 비교"
   ]
  },
  {
   "cell_type": "markdown",
   "id": "bcbfa200-92bd-4f2e-8fdb-2aa7baf2e766",
   "metadata": {},
   "source": [
    "## 샘플데이터 생성"
   ]
  },
  {
   "cell_type": "markdown",
   "id": "6ff4af8d-38f7-434f-aa39-027369236885",
   "metadata": {},
   "source": [
    "`-` 비교를 위해 가짜 데이터를 만들어 보자(백만개만)"
   ]
  },
  {
   "cell_type": "code",
   "execution_count": 3,
   "id": "d0e6ea5d-e7f6-4429-9a5d-748d09abd19b",
   "metadata": {},
   "outputs": [],
   "source": [
    "import pandas as pd\n",
    "import numpy as np"
   ]
  },
  {
   "cell_type": "code",
   "execution_count": 24,
   "id": "ad468a24-aa03-47cb-9181-c9147cae5777",
   "metadata": {},
   "outputs": [],
   "source": [
    "X = np.random.random((1000000,10))\n",
    "X = pd.DataFrame(X)\n",
    "\n",
    "name = [\"X\"+str(i) for i in range(10)]\n",
    "X.columns = name"
   ]
  },
  {
   "cell_type": "code",
   "execution_count": 26,
   "id": "38b52fd0-9b8d-44ed-b048-197f03e1e308",
   "metadata": {},
   "outputs": [],
   "source": [
    "X.to_csv(\"X.csv\",index = False)"
   ]
  },
  {
   "cell_type": "markdown",
   "id": "eb199965-be8c-457f-be67-516a48d9b47c",
   "metadata": {},
   "source": [
    "## 데이터 로드"
   ]
  },
  {
   "cell_type": "markdown",
   "id": "df3414cc-69dc-4289-b892-947c440cbe78",
   "metadata": {},
   "source": [
    "### python"
   ]
  },
  {
   "cell_type": "code",
   "execution_count": 32,
   "id": "c1e3a01d-0583-4689-9d60-8c6233b8e8a2",
   "metadata": {},
   "outputs": [],
   "source": [
    "import time"
   ]
  },
  {
   "cell_type": "code",
   "execution_count": 33,
   "id": "7edce8bf-06d5-431d-8dc0-260e4ab7adf5",
   "metadata": {},
   "outputs": [],
   "source": [
    "start = time.time()\n",
    "df = pd.read_csv(\"X.csv\")\n",
    "end  = time.time()"
   ]
  },
  {
   "cell_type": "code",
   "execution_count": 35,
   "id": "3437610e-88c8-400a-bb52-f0cf4d919f4b",
   "metadata": {},
   "outputs": [
    {
     "data": {
      "text/plain": [
       "1.315992832183838"
      ]
     },
     "execution_count": 35,
     "metadata": {},
     "output_type": "execute_result"
    }
   ],
   "source": [
    "total = end-start\n",
    "total"
   ]
  },
  {
   "cell_type": "code",
   "execution_count": 36,
   "id": "ebd3962e-df07-4edf-9ce0-59994ea822ae",
   "metadata": {},
   "outputs": [
    {
     "name": "stdout",
     "output_type": "stream",
     "text": [
      "데이터 로드 시간(python) : 1.315992832183838\n"
     ]
    }
   ],
   "source": [
    "print(f\"데이터 로드 시간(python) : {total}\")"
   ]
  },
  {
   "cell_type": "markdown",
   "id": "5c9ac32a-295d-4967-9c3e-bcdfbff409c8",
   "metadata": {},
   "source": [
    "### R"
   ]
  },
  {
   "cell_type": "code",
   "execution_count": 25,
   "id": "3829a056-4ba2-45ca-a933-4714c63f5e37",
   "metadata": {},
   "outputs": [],
   "source": [
    "library(data.table)\n",
    "library(tidyverse)"
   ]
  },
  {
   "cell_type": "code",
   "execution_count": 26,
   "id": "b69ed3c7-abae-413b-9cfa-3f0f5f04754a",
   "metadata": {},
   "outputs": [],
   "source": [
    "start <- Sys.time()\n",
    "df <- fread(\"X.csv\")\n",
    "end <- Sys.time()"
   ]
  },
  {
   "cell_type": "code",
   "execution_count": 27,
   "id": "c25707df-40a9-44c7-b24c-83549d7be5f3",
   "metadata": {},
   "outputs": [
    {
     "name": "stdout",
     "output_type": "stream",
     "text": [
      "[1] \"데이터 로드 시간(R) :  0.220276832580566\"\n"
     ]
    }
   ],
   "source": [
    "total = end-start\n",
    "print(paste(\"데이터 로드 시간(R) : \",total))"
   ]
  },
  {
   "cell_type": "markdown",
   "id": "c3483d41-570b-4a1e-8d29-202ad0044262",
   "metadata": {},
   "source": [
    "* 오, 대략 `6배` 가량 차이남!"
   ]
  },
  {
   "cell_type": "markdown",
   "id": "e010afbb-62a3-4729-b442-b326f84890cf",
   "metadata": {},
   "source": [
    "## 데이터 전처리(filter,select)"
   ]
  },
  {
   "cell_type": "markdown",
   "id": "cadca2b3-96b4-413f-a660-044458d69d46",
   "metadata": {},
   "source": [
    "`-` 저장한 데이터에서 `x1` ~ `x5` 까지만 컬럼을 선택하고, `x1`이 0보다 큰 데이터만 추출해보자 "
   ]
  },
  {
   "cell_type": "markdown",
   "id": "8999b381-1605-4597-bf09-197b8fe34d06",
   "metadata": {},
   "source": [
    "### python"
   ]
  },
  {
   "cell_type": "code",
   "execution_count": 1,
   "id": "5d8e5487-3c3b-4272-8ee1-6b2c8fa18e4e",
   "metadata": {},
   "outputs": [],
   "source": [
    "import pandas as pd\n",
    "import time"
   ]
  },
  {
   "cell_type": "code",
   "execution_count": 2,
   "id": "9c233b94-9e24-4ab3-bbf2-69ffb59ec701",
   "metadata": {},
   "outputs": [],
   "source": [
    "df = pd.read_csv(\"X.csv\")"
   ]
  },
  {
   "cell_type": "code",
   "execution_count": 3,
   "id": "94af91ef-c46d-49af-a4d2-e748d0e79b70",
   "metadata": {},
   "outputs": [],
   "source": [
    "start = time.time()\n",
    "\n",
    "select_col = [\"X1\",\"X2\",\"X3\",\"X4\",\"X5\"]\n",
    "\n",
    "df[select_col].loc[df.X1>0,:]\n",
    "\n",
    "end  = time.time()"
   ]
  },
  {
   "cell_type": "code",
   "execution_count": 4,
   "id": "430e8397-9f76-4a94-9322-0284b5b9098e",
   "metadata": {},
   "outputs": [
    {
     "name": "stdout",
     "output_type": "stream",
     "text": [
      "데이터 전처리 시간(python) : 0.03211045265197754\n"
     ]
    }
   ],
   "source": [
    "total = end-start\n",
    "print(f\"데이터 전처리 시간(python) : {total}\")"
   ]
  },
  {
   "cell_type": "markdown",
   "id": "ec6b754f-ffb4-4d42-b06a-1ab35a749202",
   "metadata": {},
   "source": [
    "### R"
   ]
  },
  {
   "cell_type": "code",
   "execution_count": 3,
   "id": "7c122064-09ad-4d20-a93e-88d842b6edf7",
   "metadata": {},
   "outputs": [],
   "source": [
    "library(data.table)\n",
    "library(tidyverse)\n",
    "\n",
    "df <- fread(\"X.csv\")"
   ]
  },
  {
   "cell_type": "code",
   "execution_count": 4,
   "id": "91e6bf03-aee1-4be6-954d-a654ef0dfe36",
   "metadata": {},
   "outputs": [],
   "source": [
    "start <- Sys.time()\n",
    "df = df %>% select(X1,X2,X3,X4,X5)  %>% \n",
    "            filter(X1 > 0)\n",
    "end <- Sys.time()"
   ]
  },
  {
   "cell_type": "code",
   "execution_count": 5,
   "id": "380cce82-c02b-46d4-99cb-a85572447d12",
   "metadata": {},
   "outputs": [
    {
     "name": "stdout",
     "output_type": "stream",
     "text": [
      "[1] \"데이터 전처리 시간(R) :  0.0224010944366455\"\n"
     ]
    }
   ],
   "source": [
    "total = end-start\n",
    "print(paste(\"데이터 전처리 시간(R) : \",total))"
   ]
  },
  {
   "cell_type": "markdown",
   "id": "492bfbbb-909e-4bd3-aa78-34482e986d9a",
   "metadata": {},
   "source": [
    "`-` 전처리도 미세하게 `R이 더 빠르다.`"
   ]
  },
  {
   "cell_type": "markdown",
   "id": "7742d627-5ced-470a-a562-239b4aafac65",
   "metadata": {},
   "source": [
    "`-` 심지어 `코드 가독성`도 R이 더 좋은 것 같음"
   ]
  },
  {
   "cell_type": "markdown",
   "id": "cb3b24f6-13f7-4dc4-a4f1-0bbf2fc2d396",
   "metadata": {},
   "source": [
    "***"
   ]
  },
  {
   "cell_type": "markdown",
   "id": "33d1d8f7-1a24-4073-9f3d-92c1faffcdf6",
   "metadata": {},
   "source": [
    "## 다중회귀모형 적합"
   ]
  },
  {
   "cell_type": "markdown",
   "id": "ac4eeac5-639d-49eb-92e0-0cb6d43a0fe4",
   "metadata": {},
   "source": [
    "$$x_5 = \\beta_1 x_1+\\beta_2 x_2+\\beta_1 x_3+\\beta_1 x_4+\\beta_1 x_5$$"
   ]
  },
  {
   "cell_type": "markdown",
   "id": "12244e64-3728-4f6b-8a45-416faf4db609",
   "metadata": {},
   "source": [
    "### python"
   ]
  },
  {
   "cell_type": "code",
   "execution_count": 7,
   "id": "25f45dc8-967f-4aa5-b06f-5d3d3f8fc049",
   "metadata": {},
   "outputs": [],
   "source": [
    "import pandas as pd\n",
    "from sklearn.linear_model import LinearRegression\n",
    "import time"
   ]
  },
  {
   "cell_type": "code",
   "execution_count": 2,
   "id": "4413c04a-396a-40f7-a77d-40077f69779b",
   "metadata": {},
   "outputs": [],
   "source": [
    "df = pd.read_csv(\"X.csv\")"
   ]
  },
  {
   "cell_type": "code",
   "execution_count": 3,
   "id": "4b184832-10ff-4c81-bfe9-5a85fcf411cb",
   "metadata": {},
   "outputs": [],
   "source": [
    "df = df[[\"X1\",\"X2\",\"X3\",\"X4\",\"X5\"]]"
   ]
  },
  {
   "cell_type": "code",
   "execution_count": 5,
   "id": "9244c85f-130e-4c64-b6ba-146358e8901b",
   "metadata": {},
   "outputs": [],
   "source": [
    "x5 = df[\"X5\"]\n",
    "X = df.drop(\"X5\", axis = 1)"
   ]
  },
  {
   "cell_type": "code",
   "execution_count": 8,
   "id": "5e612772-5761-4eaf-8b5c-9b6355f44a77",
   "metadata": {},
   "outputs": [],
   "source": [
    "start = time.time()\n",
    "\n",
    "model = LinearRegression()\n",
    "\n",
    "model.fit(X,x5)\n",
    "\n",
    "x5_pred = model.predict(X)\n",
    "\n",
    "end = time.time()"
   ]
  },
  {
   "cell_type": "code",
   "execution_count": 10,
   "id": "b5bf9efa-bdeb-435e-b6b1-86a44ad8da8f",
   "metadata": {},
   "outputs": [],
   "source": [
    "total = end-start"
   ]
  },
  {
   "cell_type": "code",
   "execution_count": 11,
   "id": "741755e1-7024-4273-a033-5320219626b2",
   "metadata": {},
   "outputs": [
    {
     "name": "stdout",
     "output_type": "stream",
     "text": [
      "모형 적합 및 예측 시간(python) : 0.1069481372833252\n"
     ]
    }
   ],
   "source": [
    "print(f\"모형 적합 및 예측 시간(python) : {total}\")"
   ]
  },
  {
   "cell_type": "markdown",
   "id": "6a9e9473-b140-48e3-84be-f509fefa84eb",
   "metadata": {},
   "source": [
    "### R"
   ]
  },
  {
   "cell_type": "code",
   "execution_count": 2,
   "id": "86f3ac10-1120-4cce-b255-d7958e3eee5f",
   "metadata": {},
   "outputs": [],
   "source": [
    "library(data.table)\n",
    "library(tidyverse)"
   ]
  },
  {
   "cell_type": "code",
   "execution_count": 3,
   "id": "bd17fdf1-dee0-48e4-a237-4f355831b786",
   "metadata": {},
   "outputs": [],
   "source": [
    "df <- fread(\"X.csv\")\n",
    "df = df %>% select(X1,X2,X3,X4,X5)  %>% \n",
    "            filter(X1 > 0)"
   ]
  },
  {
   "cell_type": "code",
   "execution_count": 21,
   "id": "ed0c9514-4d27-4047-baf0-d3b0f1b2910c",
   "metadata": {},
   "outputs": [],
   "source": [
    "start <- Sys.time()\n",
    "\n",
    "model <- lm(X5~. ,data = df)\n",
    "\n",
    "x5_pred <- predict(model, df)\n",
    "\n",
    "end <- Sys.time()"
   ]
  },
  {
   "cell_type": "code",
   "execution_count": 22,
   "id": "87d4d5e2-2f23-4c10-b4d9-7196326d80f2",
   "metadata": {},
   "outputs": [
    {
     "name": "stdout",
     "output_type": "stream",
     "text": [
      "[1] \"모형 적합 및 예측 시간(R) :  0.293954849243164\"\n"
     ]
    }
   ],
   "source": [
    "total = end - start\n",
    "print(paste(\"모형 적합 및 예측 시간(R) : \",total))"
   ]
  },
  {
   "cell_type": "markdown",
   "id": "b30e3c5d-fc5e-4a52-9530-a27dc9092886",
   "metadata": {},
   "source": [
    "* 간단한 회귀모형 적합에서는 `python`이 `3배` 가량 더 빨랐다."
   ]
  },
  {
   "cell_type": "markdown",
   "id": "4234632b-6d2a-4aa5-a94b-83450b7a2dc4",
   "metadata": {},
   "source": [
    "# summary"
   ]
  },
  {
   "cell_type": "markdown",
   "id": "1c6d7adf-b6a1-49b9-8b46-6fcfbe25af5c",
   "metadata": {},
   "source": [
    "`1` 실제로 이렇게 비교해 본 경험은 오늘이 처음이다.\n",
    "\n",
    "`2` 일단 데이터 로드, 전처리 부분에서는 R이 각각 `6배, 1.5배` 정도 빨랐음\n",
    "\n",
    "`3` 모델링에서는 `python`이 3배 더 빨랐음\n",
    "\n",
    "`4` 코드 가독성 측면에서는 R이 훨씬 더 좋았음.\n",
    "\n",
    "`5` 그래서? 일단 내가 `R tidymodel`을 활용하여 사이드 프로젝트를 한번 해보는 경험도 좋을 것 같음\n",
    "\n",
    "`6`  **각각 `도메인`에서 사용하는 언어들이 다르니까.....`R`, `Python` 둘 다 잘해야 하는 것 같음...** ($\\star\\star$)\n",
    "\n",
    "`7` 그리고, 작년 7월에 `ISLP`라는책이 나왔는데 python에 AI 모듈들의 단점인 결과 `report` 관련해서 `ISLP` 패키지를 이용하면 어느정도 결과 보고서도 예쁘게 나오는 것 같음!"
   ]
  }
 ],
 "metadata": {
  "kernelspec": {
   "display_name": "R",
   "language": "R",
   "name": "ir"
  },
  "language_info": {
   "codemirror_mode": "r",
   "file_extension": ".r",
   "mimetype": "text/x-r-source",
   "name": "R",
   "pygments_lexer": "r",
   "version": "4.1.3"
  }
 },
 "nbformat": 4,
 "nbformat_minor": 5
}
