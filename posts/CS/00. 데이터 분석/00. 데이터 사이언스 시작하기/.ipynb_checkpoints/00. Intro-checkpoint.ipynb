{
 "cells": [
  {
   "cell_type": "raw",
   "id": "520b93af-c841-4318-a780-b0678a91b6dc",
   "metadata": {},
   "source": [
    "---\n",
    "title : \"00. Intro\"\n",
    "author : \"GC\"\n",
    "date : \"04/14/24\"\n",
    "---"
   ]
  },
  {
   "cell_type": "markdown",
   "id": "a68ba7b4-0a23-40b8-b4da-b1bd2858d212",
   "metadata": {},
   "source": [
    "# Intro"
   ]
  },
  {
   "cell_type": "markdown",
   "id": "0d4b0d07-d192-4bb2-9350-cea8eeb0f3a9",
   "metadata": {},
   "source": [
    "`1` 데이터 사이언스를 배워야 하는 이유\n",
    "\n",
    "* 분야를 막론하고 데이터는 너무나 중요하게 여겨지고 있음(음악 추천, 대선 예측 등등....)\n",
    "\n",
    "`2` 정의 : 한 가지로 정의되어 있지 않음\n",
    "\n",
    "* 위키피디아 : 데이터 마이닝과 유사하게 정형, 비정형 형태를 포함한 `다양한 데이터`로부터 `지식`과 `인사이트`를 추출하는데 과학적 방법론, 프로세스 알고리즘, 시스템을 동원하는 융합 분야다.\n",
    "\n",
    "* journal of Data Science : 데이터와 연관된 모든 것을 의미.\n",
    "\n",
    "* Drew Conway : 프로그래밍, 수학과 통계, 특정분야에 대한 전문성을 가지고 데이터로부터 현실 문제를 해결하는 것\n",
    "\n",
    "* 결론 : 가치를 더할 수 있는일을 데이터를 활용하여 해결하는 것!"
   ]
  },
  {
   "cell_type": "markdown",
   "id": "0de3011c-cb63-4c88-9155-3e5cebd5ba2a",
   "metadata": {},
   "source": [
    "***"
   ]
  },
  {
   "cell_type": "markdown",
   "id": "b90a831e-1652-4006-91ef-611a1539ca9b",
   "metadata": {},
   "source": [
    "# 오해"
   ]
  },
  {
   "cell_type": "markdown",
   "id": "52fb435d-3a50-4a5f-b749-ce5c09bd7f73",
   "metadata": {},
   "source": [
    "## 오해 1"
   ]
  },
  {
   "cell_type": "markdown",
   "id": "83d8250b-a407-4a97-b171-a6064b1840ad",
   "metadata": {},
   "source": [
    "인공지능과 딥러닝만이 DS가 아니다!"
   ]
  },
  {
   "cell_type": "markdown",
   "id": "d276760a-6d55-4e94-9895-6e5ee3722fc5",
   "metadata": {},
   "source": [
    "`-` DS 단계"
   ]
  },
  {
   "cell_type": "markdown",
   "id": "5e638f60-b094-484f-baa5-e697673104ae",
   "metadata": {},
   "source": [
    "1. 데이터 수집 \n",
    "\n",
    "2. 데이터를 옮기고 저장\n",
    "\n",
    "3. 데이터를 정리\n",
    "\n",
    "4. 데이터 분석, A/B test\n",
    "\n",
    "5. 인공지능, 딥러닝"
   ]
  },
  {
   "cell_type": "markdown",
   "id": "feb6304e-34ec-448f-b029-777ac5de1054",
   "metadata": {},
   "source": [
    "* `1` ~ `3`은 데이터 엔지니어의 역할이기도 하다.\n",
    "\n",
    "* 또한, 실제 기업에서는 `1` ~ `4` 까지만 가도 유의미한 가치를 창출할 수 있다."
   ]
  },
  {
   "cell_type": "markdown",
   "id": "1690ae98-60f1-4e41-bc15-20bea44437f9",
   "metadata": {},
   "source": [
    "## 오해 2"
   ]
  },
  {
   "cell_type": "markdown",
   "id": "c81956ca-a86e-4e2f-9faa-4c4184fe8ec8",
   "metadata": {},
   "source": [
    "다시 말하지만, 데이터 사이언스는 단순히 `수학, 통계, 컴퓨팅 능력`이 아닌 `해당 비즈니스 영역에서 협업`을 통해 `문제를 해결`할 줄 알아야한다."
   ]
  },
  {
   "cell_type": "markdown",
   "id": "66b3bdc5-e2d4-4cb1-aad2-a7b32d2007cf",
   "metadata": {},
   "source": [
    "***"
   ]
  },
  {
   "cell_type": "markdown",
   "id": "62fc63eb-2ce4-45fa-81c5-d6a7afb70891",
   "metadata": {},
   "source": [
    "# Why, python?"
   ]
  },
  {
   "cell_type": "markdown",
   "id": "530459c6-6297-4aa7-acc6-3325f0aa7a8b",
   "metadata": {},
   "source": [
    "## R"
   ]
  },
  {
   "cell_type": "markdown",
   "id": "f8e8df6e-d3a7-47f0-8fc0-b69aa12b92fd",
   "metadata": {},
   "source": [
    "`1` 통계와 시각화에 특화된 언어\n",
    "\n",
    "`2` 그러나, R을 배운다고 다른 프로그래밍을 잘하는 것은 아님..."
   ]
  },
  {
   "cell_type": "markdown",
   "id": "63157d99-cc71-4203-b0b4-2007644185f2",
   "metadata": {},
   "source": [
    "## Python"
   ]
  },
  {
   "cell_type": "markdown",
   "id": "a02cb9ee-82ce-433b-8e37-03c5a9c0f4f1",
   "metadata": {},
   "source": [
    "`1` 웹사이트 개발, 이미지 처리, 업무 자동화, 데이터 시각화, 게임 개발, 앱 서버 개발 등 다른 영역에 다채롭게 활용할 수 있음"
   ]
  },
  {
   "cell_type": "markdown",
   "id": "69bb67ee-a154-45fc-8a54-6364a42042e0",
   "metadata": {},
   "source": [
    "`2` DS 토픽에 한정해서는 R이 인기가 많았으나, numpy, pandas, tensorflow의 등장으로 python이 R을 앞지름"
   ]
  },
  {
   "cell_type": "markdown",
   "id": "09f221b7-c2df-4e67-af44-03063f5fd56e",
   "metadata": {},
   "source": [
    "## 내 생각"
   ]
  },
  {
   "cell_type": "markdown",
   "id": "ef6e6829-321a-4b77-8508-79fc47bc5508",
   "metadata": {},
   "source": [
    "`1` 흠.... 이건 좀 내 의견은 반대이다.. 내가 둘 다 배워봐서 그런걸 수도 있지만, R이 tidyverse, tidymodel에 등장으로 훨씬 처음에 배우기 좋은 것 같음\n",
    "\n",
    "`2` 그리고 도메인, 개별 성향에 따라 다르기 때문에 무작정 어떤 언어가 더 쉽다고 말할 순 없는 것 같다..\n",
    "\n",
    "`3` 그냥, python으로 할 수 있는 범위가 많기 때문에 사람들이 배우기 더 쉬워하는 것 같다."
   ]
  },
  {
   "cell_type": "markdown",
   "id": "75957a12-39fe-4bd3-b3f1-ce16974650e2",
   "metadata": {},
   "source": [
    "***"
   ]
  },
  {
   "cell_type": "markdown",
   "id": "cdbe2f40-fcd7-4002-a018-fdea1cd5497f",
   "metadata": {},
   "source": [
    "# 데이터 사이언스 단계"
   ]
  },
  {
   "cell_type": "markdown",
   "id": "d621cdc2-9ff2-4367-bcf2-c8c92d516c10",
   "metadata": {},
   "source": [
    "## 1. 문제 정의하기"
   ]
  },
  {
   "cell_type": "markdown",
   "id": "e82baaf5-ec4e-489f-994d-defab7dfb5a0",
   "metadata": {},
   "source": [
    "`1` 목표 설정\n",
    "\n",
    "`2` 기간 설정\n",
    "\n",
    "`3` 평가 방법 설정\n",
    "\n",
    "`4` 필요한 데이터 설정"
   ]
  },
  {
   "cell_type": "markdown",
   "id": "01acc7a2-a42d-4751-a39f-38c89a54b9c2",
   "metadata": {},
   "source": [
    "## 2. 데이터 모으기"
   ]
  },
  {
   "cell_type": "markdown",
   "id": "b3c43c32-cd6d-495a-a874-1e0c313e8e2d",
   "metadata": {},
   "source": [
    "`1` 웹 크롤링, 자료 모으기, 파일 읽고 쓰기"
   ]
  },
  {
   "cell_type": "markdown",
   "id": "c416619e-c5e5-4fa0-9d94-d108a6db1022",
   "metadata": {},
   "source": [
    "## 3. 데이터 다듬기"
   ]
  },
  {
   "cell_type": "markdown",
   "id": "610a4c6c-42c5-400c-9e35-eb51feae87dd",
   "metadata": {},
   "source": [
    "`1` 데이터 관찰, 오류 제거, 정리"
   ]
  },
  {
   "cell_type": "markdown",
   "id": "c32a4d90-ac0d-43bd-aec8-191aea2eabae",
   "metadata": {},
   "source": [
    "## 4. 데이터 분석"
   ]
  },
  {
   "cell_type": "markdown",
   "id": "abb63d90-8c2a-436f-9bd4-4581a1b0b4b3",
   "metadata": {},
   "source": [
    "`1` 데이터 파악, 변형, 통계 분석, 인사이트 도출"
   ]
  },
  {
   "cell_type": "markdown",
   "id": "c264fc6c-403c-490b-a3b4-0160de858260",
   "metadata": {},
   "source": [
    "## 5. 커뮤니케이션"
   ]
  },
  {
   "cell_type": "markdown",
   "id": "5eb15cec-15c0-4e98-a134-617d51672911",
   "metadata": {},
   "source": [
    "`1` 다양한 시각화, 커뮤니케이션, 리포트를 활용해 구성원들과 소통하며 문제 해결"
   ]
  },
  {
   "cell_type": "markdown",
   "id": "c198e786-81ae-4a68-82aa-83654956174a",
   "metadata": {},
   "source": [
    "***"
   ]
  },
  {
   "cell_type": "markdown",
   "id": "3f77ac3c-7c99-4c8b-bcb4-dd2348f1b199",
   "metadata": {},
   "source": [
    "# 실습"
   ]
  },
  {
   "cell_type": "markdown",
   "id": "074203b0-9386-47bf-a7b8-88e12fc5c3f4",
   "metadata": {},
   "source": [
    "\"토마토\"나 \"기러기\"처럼 거꾸로 읽어도 똑같은 단어를 `팔린드롬(palindrome)`이라고 부릅니다. 문자열 word가 팔린드롬인지 확인하는 함수 `is_palindrome`를 쓰세요. is_palindrome은 word가 팔린드롬이면 True를, 팔린드롬이 아니면 False를 리턴합니다."
   ]
  },
  {
   "cell_type": "code",
   "execution_count": 63,
   "id": "16398d1d-b4a6-4e6a-86ca-42ac348ebd9a",
   "metadata": {},
   "outputs": [
    {
     "name": "stdout",
     "output_type": "stream",
     "text": [
      "True\n",
      "True\n",
      "False\n"
     ]
    }
   ],
   "source": [
    "def is_palindrome(word):\n",
    "    # 문자열을 거꾸로 뒤집어서 비교합니다.\n",
    "    return word == word[::-1]\n",
    "\n",
    "# 예시를 통해 함수를 테스트합니다.\n",
    "print(is_palindrome(\"토마토\"))  # True\n",
    "print(is_palindrome(\"기러기\"))  # True\n",
    "print(is_palindrome(\"hello\"))   # False\n"
   ]
  }
 ],
 "metadata": {
  "kernelspec": {
   "display_name": "Python 3 (ipykernel)",
   "language": "python",
   "name": "python3"
  },
  "language_info": {
   "codemirror_mode": {
    "name": "ipython",
    "version": 3
   },
   "file_extension": ".py",
   "mimetype": "text/x-python",
   "name": "python",
   "nbconvert_exporter": "python",
   "pygments_lexer": "ipython3",
   "version": "3.12.2"
  }
 },
 "nbformat": 4,
 "nbformat_minor": 5
}
