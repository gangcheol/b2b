{
 "cells": [
  {
   "cell_type": "raw",
   "id": "fe39155c-846e-4ede-9880-474dde4c2178",
   "metadata": {},
   "source": [
    "---\n",
    "title: \"01. numpy\"\n",
    "author : \"GC\"\n",
    "date : \"04/14/24\"\n",
    "---"
   ]
  },
  {
   "cell_type": "markdown",
   "id": "eb498853-af3e-4456-bbff-2824aef0cefc",
   "metadata": {},
   "source": [
    "# Intro"
   ]
  },
  {
   "cell_type": "markdown",
   "id": "228fc29e-824a-4332-a806-9300b06c8d58",
   "metadata": {},
   "source": [
    "`-` numpy (numerical python)\n",
    "\n",
    "* python에서 복잡한 수식 계산을 위해 만든 모듈\n",
    "\n",
    "* array라는 데이터 형태를 통해 많은 양의 데이터들을 손쉽게 계산할 수 있음"
   ]
  },
  {
   "cell_type": "markdown",
   "id": "1db6b22e-9612-4e1a-91ff-44c206dddb2c",
   "metadata": {},
   "source": [
    "# numpy array 만들기"
   ]
  },
  {
   "cell_type": "markdown",
   "id": "7d7dd755-6ab1-4213-b4c5-9eb577a9762e",
   "metadata": {},
   "source": [
    "## 1. 파이썬 리스트를 통해 생성"
   ]
  },
  {
   "cell_type": "markdown",
   "id": "16ad32cb-042f-461d-b7e4-fc99abbf92f8",
   "metadata": {},
   "source": [
    "`1` 모듈 불러오기"
   ]
  },
  {
   "cell_type": "code",
   "execution_count": 1,
   "id": "fdd5b13a-aa07-43f4-a369-d39bc39fa619",
   "metadata": {},
   "outputs": [],
   "source": [
    "import numpy"
   ]
  },
  {
   "cell_type": "markdown",
   "id": "f0e8d545-c4e8-4be7-a609-4e6cece08ac3",
   "metadata": {},
   "source": [
    "`2` 파라미터로 python list 전달"
   ]
  },
  {
   "cell_type": "code",
   "execution_count": 2,
   "id": "78e7bb51-b0bf-46bb-9785-8ebba6cb1653",
   "metadata": {},
   "outputs": [
    {
     "data": {
      "text/plain": [
       "array([ 2,  3,  5,  7, 11, 13, 17, 19, 23, 29, 31])"
      ]
     },
     "execution_count": 2,
     "metadata": {},
     "output_type": "execute_result"
    }
   ],
   "source": [
    "a1 = numpy.array([2,3,5,7,11,13,17,19,23,29,31])\n",
    "a1"
   ]
  },
  {
   "cell_type": "markdown",
   "id": "d176ebf2-c6f1-4454-9c69-a52ceaf9339a",
   "metadata": {},
   "source": [
    "`3` type확인\n",
    "\n",
    "* ndarray? `n-dimensional array`"
   ]
  },
  {
   "cell_type": "code",
   "execution_count": 3,
   "id": "b9c9f07c-3f6d-463d-8137-ee913986bc52",
   "metadata": {},
   "outputs": [
    {
     "data": {
      "text/plain": [
       "numpy.ndarray"
      ]
     },
     "execution_count": 3,
     "metadata": {},
     "output_type": "execute_result"
    }
   ],
   "source": [
    "type(a1)"
   ]
  },
  {
   "cell_type": "markdown",
   "id": "65f8a8ea-a32f-4921-a15b-c9f02105cd20",
   "metadata": {},
   "source": [
    "`4` shape 확인"
   ]
  },
  {
   "cell_type": "code",
   "execution_count": 4,
   "id": "cee78d91-07b0-443e-bbac-6800d3eb94c5",
   "metadata": {},
   "outputs": [
    {
     "data": {
      "text/plain": [
       "(11,)"
      ]
     },
     "execution_count": 4,
     "metadata": {},
     "output_type": "execute_result"
    }
   ],
   "source": [
    "a1.shape"
   ]
  },
  {
   "cell_type": "markdown",
   "id": "22e4e06e-5ba6-45e4-b6e3-2d03a8844661",
   "metadata": {},
   "source": [
    "`5` 2차원 array"
   ]
  },
  {
   "cell_type": "code",
   "execution_count": 5,
   "id": "007698be-861f-43b8-92e8-172214d67f12",
   "metadata": {},
   "outputs": [
    {
     "data": {
      "text/plain": [
       "array([[ 2,  3,  5,  7],\n",
       "       [11, 13, 17, 19],\n",
       "       [23, 29, 31, 33]])"
      ]
     },
     "execution_count": 5,
     "metadata": {},
     "output_type": "execute_result"
    }
   ],
   "source": [
    "a2 = numpy.array([[2,3,5,7],[11,13,17,19],[23,29,31,33]])\n",
    "a2"
   ]
  },
  {
   "cell_type": "code",
   "execution_count": 7,
   "id": "5d3bb1f4-de7d-4588-b123-3a57eaade371",
   "metadata": {},
   "outputs": [
    {
     "data": {
      "text/plain": [
       "numpy.ndarray"
      ]
     },
     "execution_count": 7,
     "metadata": {},
     "output_type": "execute_result"
    }
   ],
   "source": [
    "type(a2)"
   ]
  },
  {
   "cell_type": "code",
   "execution_count": 8,
   "id": "741bab97-c903-4d10-921b-34df8646adfc",
   "metadata": {},
   "outputs": [
    {
     "data": {
      "text/plain": [
       "(3, 4)"
      ]
     },
     "execution_count": 8,
     "metadata": {},
     "output_type": "execute_result"
    }
   ],
   "source": [
    "a2.shape"
   ]
  },
  {
   "cell_type": "markdown",
   "id": "2cf59d33-cebd-437c-b721-7f247a87b1d9",
   "metadata": {},
   "source": [
    "`5` 요소개수 확인"
   ]
  },
  {
   "cell_type": "code",
   "execution_count": 9,
   "id": "8b3fd271-52e5-4c8d-bc85-0c2e6f60f47c",
   "metadata": {},
   "outputs": [
    {
     "data": {
      "text/plain": [
       "11"
      ]
     },
     "execution_count": 9,
     "metadata": {},
     "output_type": "execute_result"
    }
   ],
   "source": [
    "a1.size"
   ]
  },
  {
   "cell_type": "code",
   "execution_count": 10,
   "id": "e3b62365-45d0-4690-ba01-e33c00a385e6",
   "metadata": {},
   "outputs": [
    {
     "data": {
      "text/plain": [
       "12"
      ]
     },
     "execution_count": 10,
     "metadata": {},
     "output_type": "execute_result"
    }
   ],
   "source": [
    "a2.size"
   ]
  },
  {
   "cell_type": "markdown",
   "id": "d0028cda-766a-4d6f-a55b-ebaf89b6c6c3",
   "metadata": {},
   "source": [
    "## 2. 균일한 값으로 생성"
   ]
  },
  {
   "cell_type": "code",
   "execution_count": 11,
   "id": "a4b67df1-536b-4b09-a9f8-9910633e43da",
   "metadata": {},
   "outputs": [
    {
     "data": {
      "text/plain": [
       "array([7, 7, 7, 7, 7, 7])"
      ]
     },
     "execution_count": 11,
     "metadata": {},
     "output_type": "execute_result"
    }
   ],
   "source": [
    "numpy.full(6,7)"
   ]
  },
  {
   "cell_type": "markdown",
   "id": "b11d9687-c864-4111-b0f8-b958c11055ea",
   "metadata": {},
   "source": [
    "## 3. 모든 값을 0으로 생성"
   ]
  },
  {
   "cell_type": "code",
   "execution_count": 13,
   "id": "136d0339-9ac1-4504-b30d-8e9fc9d3a01f",
   "metadata": {},
   "outputs": [
    {
     "data": {
      "text/plain": [
       "array([0, 0, 0, 0, 0, 0])"
      ]
     },
     "execution_count": 13,
     "metadata": {},
     "output_type": "execute_result"
    }
   ],
   "source": [
    "numpy.full(6,0)"
   ]
  },
  {
   "cell_type": "code",
   "execution_count": 14,
   "id": "5dee6f3f-438e-4c9c-8459-f59b5b92671c",
   "metadata": {},
   "outputs": [
    {
     "data": {
      "text/plain": [
       "array([0, 0, 0, 0, 0, 0])"
      ]
     },
     "execution_count": 14,
     "metadata": {},
     "output_type": "execute_result"
    }
   ],
   "source": [
    "numpy.zeros(6, dtype = int)"
   ]
  },
  {
   "cell_type": "markdown",
   "id": "40649491-835e-428a-b5b7-5907d8ab72fd",
   "metadata": {},
   "source": [
    "## 4. 모든 값을 1로 생성"
   ]
  },
  {
   "cell_type": "code",
   "execution_count": 15,
   "id": "9b2ae652-0a53-440f-ac1d-9e6113234391",
   "metadata": {},
   "outputs": [
    {
     "data": {
      "text/plain": [
       "array([1, 1, 1, 1, 1, 1])"
      ]
     },
     "execution_count": 15,
     "metadata": {},
     "output_type": "execute_result"
    }
   ],
   "source": [
    "numpy.full(6,1)"
   ]
  },
  {
   "cell_type": "code",
   "execution_count": 16,
   "id": "3a84006f-b3bb-42d1-a0b0-2395b89053fc",
   "metadata": {},
   "outputs": [
    {
     "data": {
      "text/plain": [
       "array([1, 1, 1, 1, 1, 1])"
      ]
     },
     "execution_count": 16,
     "metadata": {},
     "output_type": "execute_result"
    }
   ],
   "source": [
    "numpy.ones(6, dtype = int)"
   ]
  },
  {
   "cell_type": "markdown",
   "id": "80cbe6b6-4eee-4259-a83b-df6fa3c9babe",
   "metadata": {},
   "source": [
    "## 5. 랜덤한 값들로 생성"
   ]
  },
  {
   "cell_type": "code",
   "execution_count": 18,
   "id": "bcdefd21-5932-4c32-96e8-499170756d5c",
   "metadata": {},
   "outputs": [
    {
     "data": {
      "text/plain": [
       "array([0.01877569, 0.64836263, 0.24382533, 0.15821645, 0.10587735,\n",
       "       0.0708292 ])"
      ]
     },
     "execution_count": 18,
     "metadata": {},
     "output_type": "execute_result"
    }
   ],
   "source": [
    "numpy.random.random(6)"
   ]
  },
  {
   "cell_type": "code",
   "execution_count": 19,
   "id": "54f131c2-9267-428e-91d6-f2936c0f5681",
   "metadata": {},
   "outputs": [
    {
     "data": {
      "text/plain": [
       "array([0.08551933, 0.79689483, 0.61449187, 0.55877517, 0.59213215,\n",
       "       0.59484228])"
      ]
     },
     "execution_count": 19,
     "metadata": {},
     "output_type": "execute_result"
    }
   ],
   "source": [
    "numpy.random.random(6)"
   ]
  },
  {
   "cell_type": "markdown",
   "id": "08b99b75-3062-4a8b-aa20-f343cd9851dc",
   "metadata": {},
   "source": [
    "## 6. 연속된 배열 생성"
   ]
  },
  {
   "cell_type": "code",
   "execution_count": 20,
   "id": "e918ea49-4694-4d7f-af1a-df4cdbf3843c",
   "metadata": {},
   "outputs": [
    {
     "data": {
      "text/plain": [
       "array([0, 1, 2, 3, 4, 5])"
      ]
     },
     "execution_count": 20,
     "metadata": {},
     "output_type": "execute_result"
    }
   ],
   "source": [
    "numpy.arange(6)"
   ]
  },
  {
   "cell_type": "code",
   "execution_count": 23,
   "id": "1ddf1a16-bcc0-4094-b77c-ca7ffa06ce3a",
   "metadata": {},
   "outputs": [
    {
     "data": {
      "text/plain": [
       "array([1, 2, 3, 4, 5, 6])"
      ]
     },
     "execution_count": 23,
     "metadata": {},
     "output_type": "execute_result"
    }
   ],
   "source": [
    "numpy.arange(1,7)"
   ]
  },
  {
   "cell_type": "code",
   "execution_count": 22,
   "id": "b76ab694-c299-47c5-b1b8-fa36da9ef756",
   "metadata": {},
   "outputs": [
    {
     "data": {
      "text/plain": [
       "array([1, 3, 5])"
      ]
     },
     "execution_count": 22,
     "metadata": {},
     "output_type": "execute_result"
    }
   ],
   "source": [
    "numpy.arange(1,7,2)"
   ]
  },
  {
   "cell_type": "markdown",
   "id": "01add5ab-d0d0-404f-a8d9-bfbc78f48cd6",
   "metadata": {},
   "source": [
    "***"
   ]
  },
  {
   "cell_type": "markdown",
   "id": "fea20655-494c-4cc6-ba47-ca5923b80718",
   "metadata": {},
   "source": [
    "# numpy 기본 통계"
   ]
  },
  {
   "cell_type": "markdown",
   "id": "08e48125-cf60-4f1b-8f97-8ee69d6c93e7",
   "metadata": {},
   "source": [
    "## 1. 최댓값, 최솟값"
   ]
  },
  {
   "cell_type": "code",
   "execution_count": 38,
   "id": "6db9865b-6fb8-42df-a0b9-e0acc35d57e8",
   "metadata": {},
   "outputs": [
    {
     "name": "stdout",
     "output_type": "stream",
     "text": [
      "31\n",
      "5\n"
     ]
    }
   ],
   "source": [
    "import numpy as np\n",
    "\n",
    "array1 = np.array([14, 6, 13, 21, 23, 31, 9, 5])\n",
    "\n",
    "print(array1.max()) # 최댓값\n",
    "print(array1.min()) # 최솟값\n"
   ]
  },
  {
   "cell_type": "markdown",
   "id": "fe1b9aa2-778f-44a5-ade4-85c0b5c6ef2a",
   "metadata": {},
   "source": [
    "## 2. 평균"
   ]
  },
  {
   "cell_type": "code",
   "execution_count": 39,
   "id": "90a315f0-b257-4d93-b30d-3938eb8c113b",
   "metadata": {},
   "outputs": [
    {
     "name": "stdout",
     "output_type": "stream",
     "text": [
      "15.25\n"
     ]
    }
   ],
   "source": [
    "import numpy as np\n",
    "\n",
    "array1 = np.array([14, 6, 13, 21, 23, 31, 9, 5])\n",
    "\n",
    "print(array1.mean()) # 평균값"
   ]
  },
  {
   "cell_type": "markdown",
   "id": "2f8fae86-711f-4c72-aa60-08593288e9ef",
   "metadata": {},
   "source": [
    "## 3. 중앙값"
   ]
  },
  {
   "cell_type": "code",
   "execution_count": 40,
   "id": "7d40bb0e-25d1-4a49-bde5-8301f3b6dacf",
   "metadata": {},
   "outputs": [
    {
     "name": "stdout",
     "output_type": "stream",
     "text": [
      "12.0\n",
      "13.5\n"
     ]
    }
   ],
   "source": [
    "import numpy as np\n",
    "\n",
    "array1 = np.array([8, 12, 9, 15, 16])\n",
    "array2 = np.array([14, 6, 13, 21, 23, 31, 9, 5])\n",
    "\n",
    "print(np.median(array1)) # 중앙값\n",
    "print(np.median(array2)) # 중앙값"
   ]
  },
  {
   "cell_type": "markdown",
   "id": "7b0d68a5-3a19-4f3f-b5df-6d65ef654899",
   "metadata": {},
   "source": [
    "## 4. 표준편차, 분산"
   ]
  },
  {
   "cell_type": "code",
   "execution_count": 41,
   "id": "8e6b0907-b16c-4648-b30a-3191f76c325e",
   "metadata": {},
   "outputs": [
    {
     "name": "stdout",
     "output_type": "stream",
     "text": [
      "8.496322733983215\n",
      "72.1875\n"
     ]
    }
   ],
   "source": [
    "import numpy as np\n",
    "\n",
    "array1 = np.array([14, 6, 13, 21, 23, 31, 9, 5])\n",
    "\n",
    "print(array1.std()) # 표준 편차\n",
    "print(array1.var()) # 분산"
   ]
  }
 ],
 "metadata": {
  "kernelspec": {
   "display_name": "Python 3 (ipykernel)",
   "language": "python",
   "name": "python3"
  },
  "language_info": {
   "codemirror_mode": {
    "name": "ipython",
    "version": 3
   },
   "file_extension": ".py",
   "mimetype": "text/x-python",
   "name": "python",
   "nbconvert_exporter": "python",
   "pygments_lexer": "ipython3",
   "version": "3.12.2"
  }
 },
 "nbformat": 4,
 "nbformat_minor": 5
}
