{
 "cells": [
  {
   "cell_type": "raw",
   "id": "8cd80d6d-f24e-424a-a113-7da5738c0488",
   "metadata": {},
   "source": [
    "---\n",
    "title : \"03. 감성 분석\"\n",
    "author : \"GC\"\n",
    "date : \"05/15/24\"\n",
    "---"
   ]
  },
  {
   "cell_type": "markdown",
   "id": "ee2df955-1987-4c60-ac17-46bd4b7540c3",
   "metadata": {},
   "source": [
    "# 0. Intro"
   ]
  },
  {
   "cell_type": "markdown",
   "id": "2b6ccaf3-9c70-41b6-a6cb-9712692990cf",
   "metadata": {},
   "source": [
    "자연어의 담긴 어조가 긍정, 부정, 중립인지 확인하는 작업"
   ]
  },
  {
   "cell_type": "markdown",
   "id": "05d47628-baae-4997-89ad-07437e0de017",
   "metadata": {},
   "source": [
    "감성을 판단하는 기준을 만드는 방법에 따라 두 가지 접근법이 존재함"
   ]
  },
  {
   "cell_type": "markdown",
   "id": "3624f3f7-37e3-4162-b0d0-b4950e3e22d1",
   "metadata": {},
   "source": [
    "## (1) 규칙 기반 감성 분석"
   ]
  },
  {
   "cell_type": "markdown",
   "id": "a9ec2461-d4a0-41d1-991c-5e91fd83fdc1",
   "metadata": {},
   "source": [
    "`-` **감성 어휘 사전**을 기준으로 특정 단어가 어떠한 감정인지 분류하는 장법\n",
    "\n",
    "* 직관적으로 이해하기 쉽고, 연산 속도가 빠름\n",
    "\n",
    "* 그러나 감성 어휘 사전에 없는 단어들로 이루어진 코퍼스는 분석이 제한된다는 단점이 있다.."
   ]
  },
  {
   "cell_type": "markdown",
   "id": "6ee5f61d-53a4-4acb-99d5-54f1d2aaff6e",
   "metadata": {},
   "source": [
    "## (2) 머신러닝 기반 감성 분석"
   ]
  },
  {
   "cell_type": "markdown",
   "id": "5cee8253-fb85-431e-81bb-7bdc413468cd",
   "metadata": {},
   "source": [
    "`-` 다수의 코퍼스들을 통해 긍정 단어와 부정 단어를 구분하는 모델을 학습시켜 학습한 모델을 기반으로 감성 지수를 확인하는 방법\n",
    "\n",
    "* 이점 : 감성 어휘 사전에 없는 단어들로 이루어졌거나 오타가 많은 코퍼스를 분석할 때 효과적이다.\n",
    "\n",
    "* 단점 : 학습을 위한 대량의 훈련 데이터가 필요함, 분석 결과가 규칙 기반 감성 분석보다 안정적이지 않다는 단점도 있다."
   ]
  },
  {
   "cell_type": "markdown",
   "id": "5bba9717-5a35-4604-aa3a-e22b2e386ff5",
   "metadata": {},
   "source": [
    "***"
   ]
  },
  {
   "cell_type": "markdown",
   "id": "a4550875-9ae8-4300-b8e4-cbaf12c2c7c7",
   "metadata": {},
   "source": [
    "# 1. WordNet"
   ]
  },
  {
   "cell_type": "markdown",
   "id": "9c0bbcba-126a-41dd-9c25-f461ba941dae",
   "metadata": {},
   "source": [
    "NLTK에서 제공하는 대규모 영어 어휘 사전\n",
    "\n",
    "* 단어와 함께 해당 단어의 문맥상 의미가 저장되어 있음"
   ]
  },
  {
   "cell_type": "markdown",
   "id": "08dd8bbb-4709-4882-be83-d3675a8b1136",
   "metadata": {},
   "source": [
    "> ex\n",
    "> * She had the lead in a new film.\n",
    "> * She found lead."
   ]
  },
  {
   "cell_type": "markdown",
   "id": "ec7c74a4-8786-44e4-9196-2f77491d1723",
   "metadata": {},
   "source": [
    "* 위 두 문장의 `lead`는 `이끌다`, `납`이라는 두 가지 의미를 가진다.\n",
    "\n",
    "* WordNet은 이러한 문맥상 의미를 나타내기 위해 `Synset(Sets of Cognitive Synonyms)`을 제공함.\n",
    "    * `Synset` : 특정 단어의 품사와 유의어 목록을 통해 단어의 문맥상 의미를 나타냄"
   ]
  },
  {
   "cell_type": "markdown",
   "id": "f3c16894-62a0-47b7-b275-3e3de7be7b8d",
   "metadata": {},
   "source": [
    "## 실습"
   ]
  },
  {
   "cell_type": "markdown",
   "id": "51d9b831-8500-42fa-8a9f-09dbfde792d0",
   "metadata": {},
   "source": [
    "`1` 함수 로드"
   ]
  },
  {
   "cell_type": "code",
   "execution_count": 1,
   "id": "e0df6a0e-e011-48d5-93d7-3c4a3560d524",
   "metadata": {},
   "outputs": [],
   "source": [
    "from nltk.corpus import wordnet as wn"
   ]
  },
  {
   "cell_type": "markdown",
   "id": "8bb3e782-b56a-46a7-9c0f-437e8a65ccc1",
   "metadata": {},
   "source": [
    "`2` Synset 적용 "
   ]
  },
  {
   "cell_type": "code",
   "execution_count": 2,
   "id": "18a996a3-f55f-485f-81df-ee484f14e88f",
   "metadata": {},
   "outputs": [
    {
     "name": "stdout",
     "output_type": "stream",
     "text": [
      "[Synset('lead.n.01'), Synset('lead.n.02'), Synset('lead.n.03'), Synset('lead.n.04'), Synset('lead.n.05'), Synset('lead.n.06'), Synset('lead.n.07'), Synset('star.n.04'), Synset('lead.n.09'), Synset('tip.n.03'), Synset('lead.n.11'), Synset('spark_advance.n.01'), Synset('leash.n.01'), Synset('lead.n.14'), Synset('lead.n.15'), Synset('jumper_cable.n.01'), Synset('lead.n.17'), Synset('lead.v.01'), Synset('leave.v.07'), Synset('lead.v.03'), Synset('lead.v.04'), Synset('lead.v.05'), Synset('run.v.03'), Synset('head.v.02'), Synset('lead.v.08'), Synset('contribute.v.03'), Synset('conduct.v.02'), Synset('go.v.25'), Synset('precede.v.04'), Synset('run.v.23'), Synset('moderate.v.01')]\n"
     ]
    }
   ],
   "source": [
    "synsets = wn.synsets('lead')\n",
    "print(synsets)"
   ]
  },
  {
   "cell_type": "markdown",
   "id": "cef74f79-c0bc-4a1b-9246-7468087e2fd2",
   "metadata": {},
   "source": [
    "`3` 결과 해석\n",
    "\n",
    "* Synset은 `Synset('단어, 품사, 순번')`의 형태를 가진다.\n",
    "\n",
    "* Wordnet 품사 복기\n",
    "\n",
    "|품사 태그|품사|\n",
    "|:---|:---|\n",
    "|`n` (wn.NOUN)|명사|\n",
    "|`a` (wn.ADJ)|형용사|\n",
    "|`r` (wn.ADV)|부사|\n",
    "|`r` (wn.VERB)|동사|\n",
    "\n",
    "\n",
    "* `Synset('lead.n.01')`과 `Synset('lead.n.02')`처럼 단어의 형태와 품사가 같더라도 의미가 다른 경우를 순번으로 구분\n",
    "\n",
    "* 각 순번에 해당하는 정확한 단어의 의미는 `definition()` 함수로 확인"
   ]
  },
  {
   "cell_type": "code",
   "execution_count": 3,
   "id": "daf8f025-d916-48f6-895a-78df29d3f4e8",
   "metadata": {},
   "outputs": [
    {
     "name": "stdout",
     "output_type": "stream",
     "text": [
      "an advantage held by a competitor in a race\n",
      "a soft heavy toxic malleable metallic element; bluish white when freshly cut but tarnishes readily to dull grey\n"
     ]
    }
   ],
   "source": [
    "print(wn.synset('lead.n.01').definition())\n",
    "print(wn.synset('lead.n.02').definition())"
   ]
  },
  {
   "cell_type": "markdown",
   "id": "45fa8102-9a3b-4891-82f3-074e7ab3f2e0",
   "metadata": {},
   "source": [
    "* 또한, `lead`와 비슷한 의미의 단어들도 `Synset` 목록에 포함된다.\n",
    "    * `Synset('star.n.04')`, `Synset('tip.n.03)`"
   ]
  },
  {
   "cell_type": "markdown",
   "id": "8d5863a3-ee1a-42ef-9d34-23c916cc7dc0",
   "metadata": {},
   "source": [
    " * 마지막으로, 같은 단어가 품사에 따라 의미가 다를 수 있음\n",
    "    *  `Synset('lead.n.01')`, `Synset('lead.v.01')`\n",
    "    *  이럴 경우에는 특별히 원하는 품사의 `Synset`만 따로 추출하여 사용할 수 있다."
   ]
  },
  {
   "cell_type": "code",
   "execution_count": 4,
   "id": "38434736-2cf8-47ca-a0f0-f2abfd5c5036",
   "metadata": {},
   "outputs": [
    {
     "name": "stdout",
     "output_type": "stream",
     "text": [
      "[Synset('lead.n.01'), Synset('lead.n.02'), Synset('lead.n.03'), Synset('lead.n.04'), Synset('lead.n.05'), Synset('lead.n.06'), Synset('lead.n.07'), Synset('star.n.04'), Synset('lead.n.09'), Synset('tip.n.03'), Synset('lead.n.11'), Synset('spark_advance.n.01'), Synset('leash.n.01'), Synset('lead.n.14'), Synset('lead.n.15'), Synset('jumper_cable.n.01'), Synset('lead.n.17')]\n"
     ]
    }
   ],
   "source": [
    "synsets = wn.synsets('lead', 'n')\n",
    "\n",
    "print(synsets)"
   ]
  },
  {
   "cell_type": "code",
   "execution_count": 5,
   "id": "97acd4f5-98e7-4e78-b24b-0f4e8bed393a",
   "metadata": {},
   "outputs": [
    {
     "name": "stdout",
     "output_type": "stream",
     "text": [
      "[Synset('lead.n.01'), Synset('lead.n.02'), Synset('lead.n.03'), Synset('lead.n.04'), Synset('lead.n.05'), Synset('lead.n.06'), Synset('lead.n.07'), Synset('star.n.04'), Synset('lead.n.09'), Synset('tip.n.03'), Synset('lead.n.11'), Synset('spark_advance.n.01'), Synset('leash.n.01'), Synset('lead.n.14'), Synset('lead.n.15'), Synset('jumper_cable.n.01'), Synset('lead.n.17')]\n"
     ]
    }
   ],
   "source": [
    "print(wn.synsets('lead', wn.NOUN))"
   ]
  },
  {
   "cell_type": "markdown",
   "id": "08019736-c61a-4ab0-8609-8f5e3bbd1fd8",
   "metadata": {},
   "source": [
    "`-` 단어의 품사에 따라 감성 지수가 달라진다.\n",
    "\n",
    "* 즉, 감성 지수를 정확하게 계산하려면 원하는 품사의 `Synset`을 정확하게 지정하여 사용해야 한다."
   ]
  },
  {
   "cell_type": "markdown",
   "id": "2c03a844-ae7e-4984-86d2-050e8eac3d9d",
   "metadata": {},
   "source": [
    "***"
   ]
  },
  {
   "cell_type": "markdown",
   "id": "950ebab4-8900-459b-93d5-96bebee0fe4d",
   "metadata": {},
   "source": [
    "# 2. SentiWordNet"
   ]
  },
  {
   "cell_type": "markdown",
   "id": "083c3fcc-199e-47a1-a8a0-bb22ad51773a",
   "metadata": {},
   "source": [
    "Wordnet과 유사하지만,  하지만 Synset별로 긍정 지수, 부정 지수, 객관성 지수를 할당해 준다는 차이가 있다."
   ]
  },
  {
   "cell_type": "markdown",
   "id": "0abec473-3d35-4e85-b7c3-23be84df4ef8",
   "metadata": {},
   "source": [
    "`-` 객관성 지수 : 감성 지수와 반대되는 개념\n",
    "\n",
    "* 해당 단어가 감성적 어조와 얼마나 관계가 없는지를 보여 주는 수치"
   ]
  },
  {
   "cell_type": "markdown",
   "id": "a41a16f8-2e51-4a3d-a835-209b36776ef1",
   "metadata": {},
   "source": [
    "## 실습 1"
   ]
  },
  {
   "cell_type": "markdown",
   "id": "6fa16272-f711-4ac1-8e91-a93fbac869be",
   "metadata": {},
   "source": [
    "`1` 패키지, 함수 로드"
   ]
  },
  {
   "cell_type": "code",
   "execution_count": 6,
   "id": "0fc473ff-33cf-452f-8120-1a4923153300",
   "metadata": {},
   "outputs": [
    {
     "name": "stderr",
     "output_type": "stream",
     "text": [
      "[nltk_data] Downloading package sentiwordnet to\n",
      "[nltk_data]     C:\\Users\\rkdcj\\AppData\\Roaming\\nltk_data...\n",
      "[nltk_data]   Package sentiwordnet is already up-to-date!\n"
     ]
    },
    {
     "data": {
      "text/plain": [
       "True"
      ]
     },
     "execution_count": 6,
     "metadata": {},
     "output_type": "execute_result"
    }
   ],
   "source": [
    "from nltk.corpus import sentiwordnet as swn\n",
    "import nltk\n",
    "nltk.download('sentiwordnet')"
   ]
  },
  {
   "cell_type": "markdown",
   "id": "1305bc90-bcec-4e6e-8bff-c70b1a21835b",
   "metadata": {},
   "source": [
    "`2` wordnet과 결과 비교"
   ]
  },
  {
   "cell_type": "code",
   "execution_count": 7,
   "id": "0f6bb96f-3b57-4dce-af7c-124b8d49a955",
   "metadata": {},
   "outputs": [
    {
     "name": "stdout",
     "output_type": "stream",
     "text": [
      "wordnet-happy:  [Synset('happy.a.01'), Synset('felicitous.s.02'), Synset('glad.s.02'), Synset('happy.s.04')]\n",
      "\n",
      "sentiwordnet-happy:  [SentiSynset('happy.a.01'), SentiSynset('felicitous.s.02'), SentiSynset('glad.s.02'), SentiSynset('happy.s.04')]\n"
     ]
    }
   ],
   "source": [
    "print(\"wordnet-happy: \", wn.synsets('happy'))\n",
    "print(\"\\nsentiwordnet-happy: \", list(swn.senti_synsets('happy')))"
   ]
  },
  {
   "cell_type": "markdown",
   "id": "4437fb23-6bf4-4102-ae5a-c544760e0cc6",
   "metadata": {},
   "source": [
    "* 비슷하다. 그래서 감성 지수는?"
   ]
  },
  {
   "cell_type": "code",
   "execution_count": 8,
   "id": "17feeeda-c300-4c4d-b598-77c1022f3efe",
   "metadata": {},
   "outputs": [
    {
     "name": "stdout",
     "output_type": "stream",
     "text": [
      "0.875 0.0 0.125\n"
     ]
    }
   ],
   "source": [
    "happy_sentisynsets = list(swn.senti_synsets('happy'))\n",
    "\n",
    "pos_score = happy_sentisynsets[0].pos_score()\n",
    "neg_score = happy_sentisynsets[0].neg_score()\n",
    "obj_score = happy_sentisynsets[0].obj_score()\n",
    "\n",
    "print(pos_score, neg_score, obj_score)"
   ]
  },
  {
   "cell_type": "markdown",
   "id": "fd3c16b3-0db2-4e1d-8416-7543bea1a0fe",
   "metadata": {},
   "source": [
    "* 최종 감성 지수는 긍정 시수에서 부정 지수를 뺀 값이 사용된다."
   ]
  },
  {
   "cell_type": "code",
   "execution_count": 9,
   "id": "d82b1008-a1f3-4bcf-837b-89ff01310aaf",
   "metadata": {},
   "outputs": [
    {
     "name": "stdout",
     "output_type": "stream",
     "text": [
      "0.875\n"
     ]
    }
   ],
   "source": [
    "print(pos_score - neg_score)"
   ]
  },
  {
   "cell_type": "markdown",
   "id": "76ae4e1d-de53-4a45-969d-4d24bc777312",
   "metadata": {},
   "source": [
    "1. 긍정 지수, 부정 지수, 객관성 지수는 `0과 1 사이`의 값을 갖는다.\n",
    "\n",
    "2. 긍정 지수에서 부정 지수를 뺀 감정 지수는 `-1과 1 사이`의 값을 갖는다. \n",
    "\n",
    "3. `-1에 가까우면` 부정적인 의미를, `0에 가까우면` 중립적인 의미를, `1에 가까우면` 긍정적인 의미를 가진 단어로 해석할 수 있다."
   ]
  },
  {
   "cell_type": "markdown",
   "id": "31ccc70c-ef2c-4002-a292-0217939e24e8",
   "metadata": {},
   "source": [
    "`3` 특정 품사의 `SentiSynset` 찾기"
   ]
  },
  {
   "cell_type": "markdown",
   "id": "5558259e-06e1-4e7c-9759-0613acbd8f42",
   "metadata": {},
   "source": [
    "* 단어는 품사에 따라 문맥상 의미가 달라진다.\n",
    "\n",
    "* 따라서 단어가 어떤 품사로 사용됐는지에 따라 감성 지수의 결과도 달라진다.\n",
    "\n",
    "* 이렇기 때문에 분석에 사용할 품사인 단어의 `SentiSynset`을 특정해서 찾는게 필요하다."
   ]
  },
  {
   "cell_type": "markdown",
   "id": "13d66e91-1418-452b-8c9c-7ecf7fc89ec2",
   "metadata": {},
   "source": [
    "> ex1. `hard`라는 단어의 형용사, 부사를 기준으로 감성 지수 구하기\n",
    "> * 구한 `synset`의 가장 보편적인 의미로 사용되는 첫번째 `synset`을 가져와서 활용"
   ]
  },
  {
   "cell_type": "code",
   "execution_count": 10,
   "id": "dbe1045a-1d59-4b43-a750-9c49591e0f90",
   "metadata": {},
   "outputs": [],
   "source": [
    "adj_synset = wn.synsets('hard', wn.ADJ)[0]\n",
    "adv_synset = wn.synsets('hard', wn.ADV)[0]"
   ]
  },
  {
   "cell_type": "markdown",
   "id": "53b6e2e5-b418-4feb-a850-c3c2103ede79",
   "metadata": {},
   "source": [
    "* 해당 synset의 `단어, 품사, 순번`정보를 `swn.senti_synset()`파라미터로 넣어 주자.( `name()` 함수 활용)"
   ]
  },
  {
   "cell_type": "code",
   "execution_count": 11,
   "id": "b00a7d12-dd0e-448c-bcd2-d1e67e1aeb42",
   "metadata": {},
   "outputs": [
    {
     "name": "stdout",
     "output_type": "stream",
     "text": [
      "<difficult.a.01: PosScore=0.0 NegScore=0.75>\n",
      "<hard.r.01: PosScore=0.125 NegScore=0.125>\n"
     ]
    }
   ],
   "source": [
    "adj_senti_synset = swn.senti_synset(adj_synset.name())\n",
    "adv_senti_synset = swn.senti_synset(adv_synset.name())\n",
    "\n",
    "print(adj_senti_synset)\n",
    "print(adv_senti_synset)"
   ]
  },
  {
   "cell_type": "markdown",
   "id": "3d25d62a-a8e7-4e20-af85-5ada7acd9e75",
   "metadata": {},
   "source": [
    "* 형용사 hard : 부정적인 의미로 확인\n",
    "\n",
    "* 부사 hard : 중립적인 의미로 확인된다."
   ]
  },
  {
   "cell_type": "code",
   "execution_count": 12,
   "id": "64057b14-59e4-49f2-8843-52f3a92db0ad",
   "metadata": {},
   "outputs": [
    {
     "data": {
      "text/plain": [
       "0.5"
      ]
     },
     "execution_count": 12,
     "metadata": {},
     "output_type": "execute_result"
    }
   ],
   "source": [
    "def get_sentiment_score(word, pos):\n",
    "    # 단어와 품사 태그를 기반으로 Synsets 구하기\n",
    "    synsets = wn.synsets(word, pos)\n",
    "        \n",
    "    # SentiSynset의 긍정 지수, 부정 지수 구하기\n",
    "    pos_score = swn.senti_synset(synsets[0].name()).pos_score()\n",
    "    neg_score = swn.senti_synset(synsets[0].name()).neg_score()\n",
    "\n",
    "    # 긍정 지수 - 부정 지수로 감성 지수 값 계산해 반환하기\n",
    "    sentiment_score = pos_score - neg_score\n",
    "\n",
    "    return sentiment_score\n",
    "\n",
    "get_sentiment_score('love', wn.VERB)"
   ]
  },
  {
   "cell_type": "markdown",
   "id": "21ee6fea-dfce-4b7d-9175-e3798fdf2423",
   "metadata": {},
   "source": [
    "## 실습 2"
   ]
  },
  {
   "cell_type": "code",
   "execution_count": 13,
   "id": "017369d0-06c8-42d3-9e5b-57ce37af93ad",
   "metadata": {},
   "outputs": [],
   "source": [
    "import warnings\n",
    "warnings.filterwarnings(action = \"ignore\")"
   ]
  },
  {
   "cell_type": "code",
   "execution_count": 14,
   "id": "8e8d1474-3e21-4dc4-8445-dadb0ffa2744",
   "metadata": {},
   "outputs": [
    {
     "name": "stderr",
     "output_type": "stream",
     "text": [
      "[nltk_data] Downloading package wordnet to\n",
      "[nltk_data]     C:\\Users\\rkdcj\\AppData\\Roaming\\nltk_data...\n",
      "[nltk_data]   Package wordnet is already up-to-date!\n",
      "[nltk_data] Downloading package omw-1.4 to\n",
      "[nltk_data]     C:\\Users\\rkdcj\\AppData\\Roaming\\nltk_data...\n",
      "[nltk_data]   Package omw-1.4 is already up-to-date!\n"
     ]
    }
   ],
   "source": [
    "# | code-fold : true\n",
    "import pandas as pd\n",
    "from nltk.corpus import stopwords\n",
    "from preprocess import *\n",
    "\n",
    "df = pd.read_csv('imdb.tsv', delimiter = \"\\\\t\")\n",
    "\n",
    "df['review'] = df['review'].str.lower()\n",
    "df['sent_tokens'] = df['review'].apply(sent_tokenize)\n",
    "df['pos_tagged_tokens'] = df['sent_tokens'].apply(pos_tagger)\n",
    "df['lemmatized_tokens'] = df['pos_tagged_tokens'].apply(words_lemmatizer)\n",
    "stopwords_set = set(stopwords.words('english'))\n",
    "\n",
    "df['cleaned_tokens'] = df['lemmatized_tokens'].apply(lambda x: clean_by_freq(x, 1))\n",
    "df['cleaned_tokens'] = df['cleaned_tokens'].apply(lambda x: clean_by_len(x, 2))\n",
    "df['cleaned_tokens'] = df['cleaned_tokens'].apply(lambda x: clean_by_stopwords(x, stopwords_set))"
   ]
  },
  {
   "cell_type": "markdown",
   "id": "536cd1d5-e9e0-42b1-960c-8da189b5144e",
   "metadata": {},
   "source": [
    "`1` 첫 번째 로우에 있는 코퍼스를 받아온 다음 감성 전수 초기값을 0으로  설정"
   ]
  },
  {
   "cell_type": "code",
   "execution_count": 15,
   "id": "8a2e8254-ac3e-4c2e-87e7-a6dfb0fef879",
   "metadata": {},
   "outputs": [],
   "source": [
    "pos_tagged_words = df['pos_tagged_tokens'][0]\n",
    "senti_score = 0"
   ]
  },
  {
   "cell_type": "markdown",
   "id": "71f63165-a9d2-4fa3-a0d5-8c0cfc7b7e8b",
   "metadata": {},
   "source": [
    "`2` PennTreebank Tag로 태깅된 품사를 WordNet Tag 기준으로 변경\n",
    "\n",
    "* PennTreebank Tag에는 있지만 WordNet Tag에는 없는 품사가 있기 때문에 이 경우는 분석에서 제외"
   ]
  },
  {
   "cell_type": "code",
   "execution_count": 16,
   "id": "c2a1d44c-3d59-4931-8dbb-08b66c0222da",
   "metadata": {},
   "outputs": [],
   "source": [
    "for word, tag in pos_tagged_words:\n",
    "    wn_tag = penn_to_wn(tag)\n",
    "    \n",
    "    # WordNet Tag에 포함되지 않는 경우는 제외\n",
    "    if wn_tag not in (wn.NOUN, wn.ADJ, wn.ADV, wn.VERB):\n",
    "        continue"
   ]
  },
  {
   "cell_type": "markdown",
   "id": "f1ff4e44-6627-42c0-bfdc-04f559c5f930",
   "metadata": {},
   "source": [
    "`3` Synset, SentiSynset 구하기"
   ]
  },
  {
   "cell_type": "code",
   "execution_count": 17,
   "id": "323d4cbc-f509-4661-8a16-e81d0b2935c6",
   "metadata": {},
   "outputs": [],
   "source": [
    "for word, tag in pos_tagged_words:\n",
    "    # ...\n",
    "    \n",
    "    # Synset 확인, 어휘 사전에 없을 경우에는 제외\n",
    "    if not wn.synsets(word, wn_tag):\n",
    "        continue\n",
    "    else:\n",
    "        synsets = wn.synsets(word, wn_tag)\n",
    "    \n",
    "    # SentiSynset 확인\n",
    "    synset = synsets[0]\n",
    "    swn_synset = swn.senti_synset(synset.name())"
   ]
  },
  {
   "cell_type": "markdown",
   "id": "31e11d80-38fd-4e97-9b9c-bad4ea00c16d",
   "metadata": {},
   "source": [
    "`4` 감성지수 계산"
   ]
  },
  {
   "cell_type": "code",
   "execution_count": 18,
   "id": "23aa33fd-9589-45a2-bcb2-3691485cedac",
   "metadata": {},
   "outputs": [],
   "source": [
    "for word, tag in pos_tagged_words:\n",
    "    # ...\n",
    "    \n",
    "    # 감성 지수 계산\n",
    "    word_senti_score = (swn_synset.pos_score() - swn_synset.neg_score())\n",
    "    senti_score += word_senti_score"
   ]
  },
  {
   "cell_type": "code",
   "execution_count": 19,
   "id": "12809e19-fc9f-4eb0-866c-46fb0689bf9d",
   "metadata": {},
   "outputs": [
    {
     "name": "stdout",
     "output_type": "stream",
     "text": [
      "14.375\n"
     ]
    }
   ],
   "source": [
    "print(senti_score)"
   ]
  },
  {
   "cell_type": "markdown",
   "id": "f92dda74-7689-4a2c-be86-2be8f219adae",
   "metadata": {},
   "source": [
    "`5` 함수로 작성"
   ]
  },
  {
   "cell_type": "code",
   "execution_count": 20,
   "id": "f3e4731a-7f73-4c9a-8b3c-694efa5ee885",
   "metadata": {},
   "outputs": [],
   "source": [
    "def swn_polarity(pos_tagged_words):\n",
    "    senti_score = 0\n",
    "\n",
    "    for word, tag in pos_tagged_words:\n",
    "        # PennTreeBank 기준 품사를 WordNet 기준 품사로 변경\n",
    "        wn_tag = penn_to_wn(tag)\n",
    "        if wn_tag not in (wn.NOUN, wn.ADJ, wn.ADV, wn.VERB):\n",
    "            continue\n",
    "    \n",
    "        # Synset 확인, 어휘 사전에 없을 경우에는 스킵\n",
    "        if not wn.synsets(word, wn_tag):\n",
    "            continue\n",
    "        else:\n",
    "            synsets = wn.synsets(word, wn_tag)\n",
    "    \n",
    "        # SentiSynset 확인\n",
    "        synset = synsets[0]\n",
    "        swn_synset = swn.senti_synset(synset.name())\n",
    "\n",
    "        # 감성 지수 계산\n",
    "        word_senti_score = (swn_synset.pos_score() - swn_synset.neg_score())\n",
    "        senti_score += word_senti_score\n",
    "\n",
    "    return senti_score"
   ]
  },
  {
   "cell_type": "markdown",
   "id": "c1cefc42-b34a-49ec-a6e5-4cb6750e95ab",
   "metadata": {},
   "source": [
    "`7` 감성분석 결과 확인"
   ]
  },
  {
   "cell_type": "code",
   "execution_count": 21,
   "id": "d91a9937-a712-498b-afcb-c9a6ddd493d5",
   "metadata": {},
   "outputs": [
    {
     "data": {
      "text/html": [
       "<div>\n",
       "<style scoped>\n",
       "    .dataframe tbody tr th:only-of-type {\n",
       "        vertical-align: middle;\n",
       "    }\n",
       "\n",
       "    .dataframe tbody tr th {\n",
       "        vertical-align: top;\n",
       "    }\n",
       "\n",
       "    .dataframe thead th {\n",
       "        text-align: right;\n",
       "    }\n",
       "</style>\n",
       "<table border=\"1\" class=\"dataframe\">\n",
       "  <thead>\n",
       "    <tr style=\"text-align: right;\">\n",
       "      <th></th>\n",
       "      <th>review</th>\n",
       "      <th>swn_sentiment</th>\n",
       "    </tr>\n",
       "  </thead>\n",
       "  <tbody>\n",
       "    <tr>\n",
       "      <th>0</th>\n",
       "      <td>\"watching time chasers, it obvious that it was...</td>\n",
       "      <td>-0.375</td>\n",
       "    </tr>\n",
       "    <tr>\n",
       "      <th>1</th>\n",
       "      <td>i saw this film about 20 years ago and remembe...</td>\n",
       "      <td>-1.500</td>\n",
       "    </tr>\n",
       "    <tr>\n",
       "      <th>2</th>\n",
       "      <td>minor spoilers in new york, joan barnard (elvi...</td>\n",
       "      <td>-2.250</td>\n",
       "    </tr>\n",
       "    <tr>\n",
       "      <th>3</th>\n",
       "      <td>i went to see this film with a great deal of e...</td>\n",
       "      <td>-0.500</td>\n",
       "    </tr>\n",
       "    <tr>\n",
       "      <th>4</th>\n",
       "      <td>\"yes, i agree with everyone on this site this ...</td>\n",
       "      <td>3.000</td>\n",
       "    </tr>\n",
       "    <tr>\n",
       "      <th>5</th>\n",
       "      <td>\"jennifer ehle was sparkling in \\\"\"pride and p...</td>\n",
       "      <td>6.750</td>\n",
       "    </tr>\n",
       "    <tr>\n",
       "      <th>6</th>\n",
       "      <td>amy poehler is a terrific comedian on saturday...</td>\n",
       "      <td>0.750</td>\n",
       "    </tr>\n",
       "    <tr>\n",
       "      <th>7</th>\n",
       "      <td>\"a plane carrying employees of a large biotech...</td>\n",
       "      <td>8.750</td>\n",
       "    </tr>\n",
       "    <tr>\n",
       "      <th>8</th>\n",
       "      <td>a well made, gritty science fiction movie, it ...</td>\n",
       "      <td>4.500</td>\n",
       "    </tr>\n",
       "    <tr>\n",
       "      <th>9</th>\n",
       "      <td>\"incredibly dumb and utterly predictable story...</td>\n",
       "      <td>-1.125</td>\n",
       "    </tr>\n",
       "  </tbody>\n",
       "</table>\n",
       "</div>"
      ],
      "text/plain": [
       "                                              review  swn_sentiment\n",
       "0  \"watching time chasers, it obvious that it was...         -0.375\n",
       "1  i saw this film about 20 years ago and remembe...         -1.500\n",
       "2  minor spoilers in new york, joan barnard (elvi...         -2.250\n",
       "3  i went to see this film with a great deal of e...         -0.500\n",
       "4  \"yes, i agree with everyone on this site this ...          3.000\n",
       "5  \"jennifer ehle was sparkling in \\\"\"pride and p...          6.750\n",
       "6  amy poehler is a terrific comedian on saturday...          0.750\n",
       "7  \"a plane carrying employees of a large biotech...          8.750\n",
       "8  a well made, gritty science fiction movie, it ...          4.500\n",
       "9  \"incredibly dumb and utterly predictable story...         -1.125"
      ]
     },
     "execution_count": 21,
     "metadata": {},
     "output_type": "execute_result"
    }
   ],
   "source": [
    "from preprocess import swn_polarity\n",
    "\n",
    "# dataframe에 swn_polarity() 함수 적용\n",
    "df['swn_sentiment'] = df['pos_tagged_tokens'].apply(swn_polarity)\n",
    "\n",
    "df[['review', 'swn_sentiment']]"
   ]
  },
  {
   "cell_type": "markdown",
   "id": "c364d82b-7d44-4481-8112-e9b3348f07d3",
   "metadata": {},
   "source": [
    "***"
   ]
  },
  {
   "cell_type": "markdown",
   "id": "8e822a24-e0c3-416c-8027-308be05b8783",
   "metadata": {},
   "source": [
    "# 3. VADER"
   ]
  },
  {
   "cell_type": "markdown",
   "id": "08972188-efd0-46be-bd75-19a5e458b915",
   "metadata": {},
   "source": [
    "Valence Aware Dictionary and sEntiment Reasoner"
   ]
  },
  {
   "cell_type": "markdown",
   "id": "ca42391c-6e19-47af-a764-0c8f8d4b851b",
   "metadata": {},
   "source": [
    "감성 분석을 위한 어휘 사전이자 알고리즘"
   ]
  },
  {
   "cell_type": "markdown",
   "id": "677e8da3-932a-4d8b-b692-76afa631ccb3",
   "metadata": {},
   "source": [
    "살펴본 `SentiWordNet`과의 큰 차이점은 일반적인 감성 어휘 사전의 규칙 외에도 `축약형`과 `기호` 등을 고려해 감성 지수를 추출할 수 있다는 점이 차이점이다."
   ]
  },
  {
   "cell_type": "markdown",
   "id": "57fe4080-64ed-4279-b2b8-2ee95748889e",
   "metadata": {},
   "source": [
    "이러한 특징을 가지고 있어, 축약형 표혀닝나 특수 문자가 맣이 사용된 소셜 미디어 텍스트를 분석할 때 자주 사용된다."
   ]
  },
  {
   "cell_type": "markdown",
   "id": "255068c0-fb1b-4ede-99ac-ba7085c6624b",
   "metadata": {},
   "source": [
    "`1` 패키지 설치"
   ]
  },
  {
   "cell_type": "markdown",
   "id": "97320c90-4a51-4bf4-8267-e0f129eb05a0",
   "metadata": {},
   "source": [
    "```python\n",
    "pip install vaderSentiment\n",
    "```"
   ]
  },
  {
   "cell_type": "markdown",
   "id": "5f8eae66-0779-42b9-b8da-35189d281af4",
   "metadata": {},
   "source": [
    "`2` 사용법"
   ]
  },
  {
   "cell_type": "markdown",
   "id": "b3e8b8fe-0320-445b-8cc9-deb7cb9993f3",
   "metadata": {},
   "source": [
    "* `SentimentIntensityAnalyzer`를 생성 후 `polarity_scores()`를 호출"
   ]
  },
  {
   "cell_type": "code",
   "execution_count": 23,
   "id": "e0e664e0-e191-40b7-a60e-a9cf22ab890e",
   "metadata": {},
   "outputs": [
    {
     "name": "stderr",
     "output_type": "stream",
     "text": [
      "[nltk_data] Downloading package vader_lexicon to\n",
      "[nltk_data]     C:\\Users\\rkdcj\\AppData\\Roaming\\nltk_data...\n"
     ]
    }
   ],
   "source": [
    "from nltk.sentiment.vader import SentimentIntensityAnalyzer\n",
    "nltk.download('vader_lexicon')\n",
    "\n",
    "senti_analyzer = SentimentIntensityAnalyzer()\n",
    "\n",
    "text1 = \"This is a great movie!\"\n",
    "text2 = \"This is a terrible movie!\"\n",
    "text3 = \"This movie was just okay.\"\n",
    "\n",
    "# VADER 감성 분석\n",
    "senti_scores_text1 = senti_analyzer.polarity_scores(text1)\n",
    "senti_scores_text2 = senti_analyzer.polarity_scores(text2)\n",
    "senti_scores_text3 = senti_analyzer.polarity_scores(text3)"
   ]
  },
  {
   "cell_type": "markdown",
   "id": "2f5bb55f-7de3-4058-bb27-b1ff6d995865",
   "metadata": {},
   "source": [
    "* SentiWordNet은 단어의 감성 지수만 확인가능했다.\n",
    "    * 그래서 코퍼스의 감성 지수도 각 단어의 감성 지수 합으로 계산하였음"
   ]
  },
  {
   "cell_type": "markdown",
   "id": "3faa372a-1696-424d-8d44-dd6f667e9273",
   "metadata": {},
   "source": [
    "* but, `VADER`는 단어, 문장, 여러 문장으로 이루어진 코퍼스 등으로 바로 감성 지수를 계산이 가능!\n",
    "    * 심지어 코퍼스를 단어 단위로 토큰화해 파라미터로 전달할 필요 없음.\n",
    "    * 내부 동작에서 필요한 토큰화와 감성 지수 추출 작업을 알아서 해준다."
   ]
  },
  {
   "cell_type": "code",
   "execution_count": 24,
   "id": "cb2d3557-100a-4b4c-8902-9659ad7ec7cb",
   "metadata": {},
   "outputs": [
    {
     "name": "stdout",
     "output_type": "stream",
     "text": [
      "{'neg': 0.0, 'neu': 0.406, 'pos': 0.594, 'compound': 0.6588}\n",
      "{'neg': 0.531, 'neu': 0.469, 'pos': 0.0, 'compound': -0.5255}\n",
      "{'neg': 0.0, 'neu': 0.678, 'pos': 0.322, 'compound': 0.2263}\n"
     ]
    }
   ],
   "source": [
    "print(senti_scores_text1)\n",
    "print(senti_scores_text2)\n",
    "print(senti_scores_text3)"
   ]
  },
  {
   "cell_type": "markdown",
   "id": "66b504ab-0b07-4d14-aeea-fadd20924b72",
   "metadata": {},
   "source": [
    "## 실습"
   ]
  },
  {
   "cell_type": "markdown",
   "id": "5458dc71-86be-4fa5-a1c7-64ad127e247e",
   "metadata": {},
   "source": [
    "`1` 함수 생성"
   ]
  },
  {
   "cell_type": "code",
   "execution_count": 25,
   "id": "5531d28d-c3a7-4c2d-8647-a06b1b6a73cb",
   "metadata": {},
   "outputs": [],
   "source": [
    "def vader_sentiment(text):\n",
    "    analyzer = SentimentIntensityAnalyzer()\n",
    "    \n",
    "    # VADER 감성 분석\n",
    "    senti_score = analyzer.polarity_scores(text)['compound']\n",
    "    \n",
    "    return senti_score"
   ]
  },
  {
   "cell_type": "markdown",
   "id": "253ec389-a0ca-4f1c-a968-9314bead1349",
   "metadata": {},
   "source": [
    "`2` 데이터에 적용"
   ]
  },
  {
   "cell_type": "code",
   "execution_count": 27,
   "id": "9c0b3379-004f-4bbc-8b35-2593256ea6bd",
   "metadata": {},
   "outputs": [
    {
     "data": {
      "text/html": [
       "<div>\n",
       "<style scoped>\n",
       "    .dataframe tbody tr th:only-of-type {\n",
       "        vertical-align: middle;\n",
       "    }\n",
       "\n",
       "    .dataframe tbody tr th {\n",
       "        vertical-align: top;\n",
       "    }\n",
       "\n",
       "    .dataframe thead th {\n",
       "        text-align: right;\n",
       "    }\n",
       "</style>\n",
       "<table border=\"1\" class=\"dataframe\">\n",
       "  <thead>\n",
       "    <tr style=\"text-align: right;\">\n",
       "      <th></th>\n",
       "      <th>review</th>\n",
       "      <th>swn_sentiment</th>\n",
       "      <th>vader_sentiment</th>\n",
       "    </tr>\n",
       "  </thead>\n",
       "  <tbody>\n",
       "    <tr>\n",
       "      <th>0</th>\n",
       "      <td>\"watching time chasers, it obvious that it was...</td>\n",
       "      <td>-0.375</td>\n",
       "      <td>-0.9095</td>\n",
       "    </tr>\n",
       "    <tr>\n",
       "      <th>1</th>\n",
       "      <td>i saw this film about 20 years ago and remembe...</td>\n",
       "      <td>-1.500</td>\n",
       "      <td>-0.9694</td>\n",
       "    </tr>\n",
       "    <tr>\n",
       "      <th>2</th>\n",
       "      <td>minor spoilers in new york, joan barnard (elvi...</td>\n",
       "      <td>-2.250</td>\n",
       "      <td>-0.2794</td>\n",
       "    </tr>\n",
       "    <tr>\n",
       "      <th>3</th>\n",
       "      <td>i went to see this film with a great deal of e...</td>\n",
       "      <td>-0.500</td>\n",
       "      <td>-0.9707</td>\n",
       "    </tr>\n",
       "    <tr>\n",
       "      <th>4</th>\n",
       "      <td>\"yes, i agree with everyone on this site this ...</td>\n",
       "      <td>3.000</td>\n",
       "      <td>0.8049</td>\n",
       "    </tr>\n",
       "    <tr>\n",
       "      <th>5</th>\n",
       "      <td>\"jennifer ehle was sparkling in \\\"\"pride and p...</td>\n",
       "      <td>6.750</td>\n",
       "      <td>0.9494</td>\n",
       "    </tr>\n",
       "    <tr>\n",
       "      <th>6</th>\n",
       "      <td>amy poehler is a terrific comedian on saturday...</td>\n",
       "      <td>0.750</td>\n",
       "      <td>0.8473</td>\n",
       "    </tr>\n",
       "    <tr>\n",
       "      <th>7</th>\n",
       "      <td>\"a plane carrying employees of a large biotech...</td>\n",
       "      <td>8.750</td>\n",
       "      <td>0.9885</td>\n",
       "    </tr>\n",
       "    <tr>\n",
       "      <th>8</th>\n",
       "      <td>a well made, gritty science fiction movie, it ...</td>\n",
       "      <td>4.500</td>\n",
       "      <td>0.9887</td>\n",
       "    </tr>\n",
       "    <tr>\n",
       "      <th>9</th>\n",
       "      <td>\"incredibly dumb and utterly predictable story...</td>\n",
       "      <td>-1.125</td>\n",
       "      <td>-0.7375</td>\n",
       "    </tr>\n",
       "  </tbody>\n",
       "</table>\n",
       "</div>"
      ],
      "text/plain": [
       "                                              review  swn_sentiment  \\\n",
       "0  \"watching time chasers, it obvious that it was...         -0.375   \n",
       "1  i saw this film about 20 years ago and remembe...         -1.500   \n",
       "2  minor spoilers in new york, joan barnard (elvi...         -2.250   \n",
       "3  i went to see this film with a great deal of e...         -0.500   \n",
       "4  \"yes, i agree with everyone on this site this ...          3.000   \n",
       "5  \"jennifer ehle was sparkling in \\\"\"pride and p...          6.750   \n",
       "6  amy poehler is a terrific comedian on saturday...          0.750   \n",
       "7  \"a plane carrying employees of a large biotech...          8.750   \n",
       "8  a well made, gritty science fiction movie, it ...          4.500   \n",
       "9  \"incredibly dumb and utterly predictable story...         -1.125   \n",
       "\n",
       "   vader_sentiment  \n",
       "0          -0.9095  \n",
       "1          -0.9694  \n",
       "2          -0.2794  \n",
       "3          -0.9707  \n",
       "4           0.8049  \n",
       "5           0.9494  \n",
       "6           0.8473  \n",
       "7           0.9885  \n",
       "8           0.9887  \n",
       "9          -0.7375  "
      ]
     },
     "execution_count": 27,
     "metadata": {},
     "output_type": "execute_result"
    }
   ],
   "source": [
    "df['vader_sentiment'] = df['review'].apply(vader_sentiment)\n",
    "\n",
    "df[['review', 'swn_sentiment', 'vader_sentiment']]"
   ]
  },
  {
   "cell_type": "markdown",
   "id": "701d65c7-1f7e-42a2-8653-084e5a6f88f0",
   "metadata": {},
   "source": [
    "`3` [VADER 공식문서](https://vadersentiment.readthedocs.io/en/latest/index.html)"
   ]
  }
 ],
 "metadata": {
  "kernelspec": {
   "display_name": "Python 3 (ipykernel)",
   "language": "python",
   "name": "python3"
  },
  "language_info": {
   "codemirror_mode": {
    "name": "ipython",
    "version": 3
   },
   "file_extension": ".py",
   "mimetype": "text/x-python",
   "name": "python",
   "nbconvert_exporter": "python",
   "pygments_lexer": "ipython3",
   "version": "3.12.2"
  }
 },
 "nbformat": 4,
 "nbformat_minor": 5
}
