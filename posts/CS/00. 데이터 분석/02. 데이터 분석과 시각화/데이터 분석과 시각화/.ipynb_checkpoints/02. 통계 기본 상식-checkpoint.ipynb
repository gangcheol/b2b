{
 "cells": [
  {
   "cell_type": "raw",
   "id": "d6be3e0f-ff2d-445b-9e28-246ab68437d4",
   "metadata": {},
   "source": [
    "---\n",
    "title : \"02. 통계 기본 상식식\"\n",
    "author : \"GC\"\n",
    "date : \"04/22/24\"\n",
    "---"
   ]
  },
  {
   "cell_type": "markdown",
   "id": "2d5b1aca-a34f-43cc-a13a-7eb4832af85f",
   "metadata": {},
   "source": [
    "# 평균"
   ]
  },
  {
   "cell_type": "markdown",
   "id": "ec0fab31-8d4b-433f-8ffe-659277d9e36d",
   "metadata": {},
   "source": [
    "`-` 대게 일반적으로 많은 사람들에게 친숙한 단어임\n",
    "\n",
    "`-` 조금 전문적인 지식(통계, 수학적 지식이 포함된 정의)\n",
    "\n",
    "*  모든 데이터셋의 값을 더한 후, 그 개수만큼 나눈 것"
   ]
  },
  {
   "cell_type": "markdown",
   "id": "9cd43ef9-4d37-4244-bd37-c86712d04e9a",
   "metadata": {},
   "source": [
    "`-` 평균 구하기 예시 1"
   ]
  },
  {
   "cell_type": "code",
   "execution_count": 1,
   "id": "bceaaeb4-07ad-4e56-ab41-593db7097f47",
   "metadata": {},
   "outputs": [
    {
     "data": {
      "text/plain": [
       "10.0"
      ]
     },
     "execution_count": 1,
     "metadata": {},
     "output_type": "execute_result"
    }
   ],
   "source": [
    "x = [10.3, 9.7, 10.3, 9.5, 10.1, 10.8, 9.5, 9.4, 10.1, 10.3]\n",
    "\n",
    "sum(x)/len(x)"
   ]
  },
  {
   "cell_type": "markdown",
   "id": "beae2d46-5268-4a95-8977-b1529b12b850",
   "metadata": {},
   "source": [
    "***"
   ]
  },
  {
   "cell_type": "markdown",
   "id": "2869d94c-8c84-4051-86b5-2cde3f697ae1",
   "metadata": {},
   "source": [
    "# 중간값"
   ]
  },
  {
   "cell_type": "markdown",
   "id": "ce842850-3a4b-4545-ba5f-4baef1e69e1a",
   "metadata": {},
   "source": [
    "`-` 좀 익숙하지 않은 단어(Median)\n",
    "* 데이터를 크기에 따라 오름차순으로 정렬 했을 때 정가운데에 있는 값"
   ]
  },
  {
   "cell_type": "markdown",
   "id": "95d4c2d8-78b3-443d-8291-9221bb101ae9",
   "metadata": {},
   "source": [
    "`-` 근데 만약 데이터의 개수가 짝수이면?\n",
    "\n",
    "* 중간에 있는 두 개의 값을 더해서 2로 나눈다."
   ]
  },
  {
   "cell_type": "markdown",
   "id": "d488a90e-c78c-4b44-ba9d-2d81858a406e",
   "metadata": {},
   "source": [
    "***"
   ]
  },
  {
   "cell_type": "markdown",
   "id": "48e4ef1a-7999-495c-b705-007361cd9a81",
   "metadata": {},
   "source": [
    "# 평균 vs 중간값"
   ]
  },
  {
   "cell_type": "markdown",
   "id": "6ff24bfc-5770-4f1d-bff7-f747aaec14ab",
   "metadata": {},
   "source": [
    "`-` 우리는 중간값보다 평균이 더 익숙함\n",
    "\n",
    "* 근데 데이터 분석에서는 중간값이 더 유용한 경우가 많음\n",
    "\n",
    "    * 평균값은 이상치 등으로 이상해질 수 있지만, 중앙값은 영향은 덜 받는다."
   ]
  },
  {
   "cell_type": "markdown",
   "id": "5da1ba61-efd6-400f-8579-56027ef18b38",
   "metadata": {},
   "source": [
    "***"
   ]
  },
  {
   "cell_type": "markdown",
   "id": "0cba35c1-5a3d-4117-857f-87e67c8187d2",
   "metadata": {},
   "source": [
    "# Q1, Q3 구하기"
   ]
  },
  {
   "cell_type": "markdown",
   "id": "1d93dbfa-fe03-4384-89e5-6a7525d167f2",
   "metadata": {},
   "source": [
    "`-` Q1 : 데이터를 오름차 순으로 정렬 했을 때 `25%`지점에 있는 값\n",
    "\n",
    "`-` Q3 : 데이터를 오름차 순으로 정렬 했을 때 `75%`지점에 있는 값"
   ]
  },
  {
   "cell_type": "markdown",
   "id": "9a97891c-45fd-4941-b4cf-738db2b6cb15",
   "metadata": {},
   "source": [
    "`1` 데이터의 개수가 홀수 인 경우"
   ]
  },
  {
   "cell_type": "code",
   "execution_count": 20,
   "id": "e608ba71-ba13-471c-9b71-1b1d951fc7ff",
   "metadata": {},
   "outputs": [
    {
     "data": {
      "text/plain": [
       "[32, 48, 56, 78, 86, 96, 100, 120, 156]"
      ]
     },
     "execution_count": 20,
     "metadata": {},
     "output_type": "execute_result"
    }
   ],
   "source": [
    "x = [32, 48, 56, 78, 86, 96, 100, 120, 156]\n",
    "x"
   ]
  },
  {
   "cell_type": "markdown",
   "id": "55804b96-d240-4139-971b-814ca8ed2166",
   "metadata": {},
   "source": [
    "* 데이터의 개수가 총 9개이므로 첫 번째 값부터 중간값까지 5개의 값 중에서 중간에 있는 값이 `Q1`이 된다."
   ]
  },
  {
   "cell_type": "markdown",
   "id": "040ae1fd-766b-4a68-97dd-dd351a082458",
   "metadata": {},
   "source": [
    "여기에서는 3번째 값인 `56`이 중간값이 됨.\n",
    "\n",
    "* 이와 마찬가지로 `Q3=100`이란 사실을 알 수 있음"
   ]
  },
  {
   "cell_type": "markdown",
   "id": "515114d8-caf7-4ad0-bf33-b4aaec6c7e1c",
   "metadata": {},
   "source": [
    "`2` 데이터의 개수가 짝수인 경우"
   ]
  },
  {
   "cell_type": "code",
   "execution_count": 23,
   "id": "2902803c-a61b-4277-b2a0-c7dcb276d6e4",
   "metadata": {},
   "outputs": [
    {
     "data": {
      "text/plain": [
       "[7, 15, 20, 24, 35, 57, 63, 125]"
      ]
     },
     "execution_count": 23,
     "metadata": {},
     "output_type": "execute_result"
    }
   ],
   "source": [
    "x = [7, 15, 20, 24, 35, 57, 63, 125]\n",
    "x"
   ]
  },
  {
   "cell_type": "markdown",
   "id": "9f6d7358-a4ef-4a84-b06a-485f952c59ee",
   "metadata": {},
   "source": [
    "* step1 : 중간값은 `(24+35)/2 = 29.5`\n",
    "\n",
    "* step2 : 짝수일 경우 Q1을 구하는 방법(위 예시의 경우)\n",
    "\n",
    "    * (n+1)을 하는 이유는 데이터가 홀수건, 짝수건 일관성 있게 사용하기 위함이다.\n",
    "\n",
    "$$ (8+1) \\times \\frac 14 = 2.25$$\n",
    "\n",
    "* step3 : `2.25`번째 값이므로 2번째 값인 `15`와 `20`사이의 어떤 값(25%에 해당하는 지점)을 구하면 될 것 같다. 그 값은 다음과 같이 구한다.\n",
    "\n",
    "$$15 \\times0.25 + 20 \\times 0.75= 18.75$$\n",
    "\n",
    "* step4 : Q3 구하기, 흠..여섯 번째와 일곱 번째에 어떤 임의의 값이다.\n",
    "\n",
    "$$(8+1) \\times \\frac 34 = 6.75$$\n",
    "\n",
    "* step5 : `6.75`번쨰 값이므로 6번째 값인 `57`과 7번째 값인 `63`사이의 어떤 값(75%지점)을 구하면 될 것 같음\n",
    "\n",
    "$$57\\times 0.75 + 63 \\times 0.25 = 58.5$$"
   ]
  },
  {
   "cell_type": "markdown",
   "id": "632a2c0d-889c-4417-879c-827a9730dc8b",
   "metadata": {},
   "source": [
    "# 이상치 정의"
   ]
  },
  {
   "cell_type": "markdown",
   "id": "3deae80b-44c6-4290-8d27-54d9a5995aed",
   "metadata": {},
   "source": [
    "`1` IQR = Q3-Q1\n",
    "\n",
    "`2` $(\\text{Q1}- 1.5 \\times \\text{IQR},\\,\\text{Q3}+ 1.5 \\times \\text{IQR})$\n",
    "\n",
    "* 해당 구간을 벗어난 값을 이상치라고 정의한다."
   ]
  },
  {
   "cell_type": "markdown",
   "id": "dd821be6-26f8-4732-af3f-a1044feaa316",
   "metadata": {},
   "source": [
    "***"
   ]
  },
  {
   "cell_type": "markdown",
   "id": "44633fba-a10d-4988-8bcb-e0325a5aedab",
   "metadata": {},
   "source": [
    "# 상관계수"
   ]
  },
  {
   "cell_type": "markdown",
   "id": "20c78930-762b-44f6-9e2f-bfb60f8f88cd",
   "metadata": {},
   "source": [
    "`-` 변수 간 어떤 연관성이 있는지 $\\to$ 주의! 인과관계를 설명하는 것은 아님!\n",
    "\n",
    "* 상관계수는 단순히 두 변수가 직선관계에 있는지를 가늠하는 정도를 나타내는 것이다.\n",
    "\n",
    "    * 즉, 상관계수가 0에 가깝다고 해서 두 변수 사이에 아무런 함수관계가 없다는 것을 의미하지는 않는다!\n",
    "    \n",
    "    * 아래와 같은 경우 상관계수를 구해보면 `0.0138119`가 나온다.\n",
    "    \n",
    "    * 그러면 두 변수 사이에는 어떤 인과관계가 없는거야?"
   ]
  },
  {
   "cell_type": "code",
   "execution_count": 75,
   "id": "96ca89e7-a238-4aec-b3d2-fab33c5ac86e",
   "metadata": {},
   "outputs": [
    {
     "data": {
      "text/plain": [
       "array([[1.        , 0.01388119],\n",
       "       [0.01388119, 1.        ]])"
      ]
     },
     "execution_count": 75,
     "metadata": {},
     "output_type": "execute_result"
    }
   ],
   "source": [
    "np.corrcoef(x1,y1)"
   ]
  },
  {
   "cell_type": "code",
   "execution_count": 76,
   "id": "ca02f545-5a6a-4e10-99ff-faa0dc162f63",
   "metadata": {},
   "outputs": [
    {
     "data": {
      "image/png": "[encoded data removed]",
      "text/plain": [
       "<Figure size 432x288 with 1 Axes>"
      ]
     },
     "metadata": {
      "needs_background": "light"
     },
     "output_type": "display_data"
    }
   ],
   "source": [
    "import numpy as np\n",
    "import matplotlib.pyplot as plt\n",
    "np.random.seed(202150256)\n",
    "\n",
    "x1 = np.linspace(-1,1,100,endpoint=True)\n",
    "y1 = x1**2 + np.random.normal(scale=0.1,size=100)\n",
    "\n",
    "plt.plot(x1,y1,\"o\")\n",
    "plt.title(\"y=x**2\")\n",
    "plt.show()"
   ]
  },
  {
   "cell_type": "markdown",
   "id": "524970f6-aff2-41ce-b916-ed0075bb6aff",
   "metadata": {},
   "source": [
    "`-` 우리는 저 그래프를 보고 경험적으로 $y = x^2$ 형태를 띄고 있음을 알고 있다."
   ]
  },
  {
   "cell_type": "markdown",
   "id": "4a60d550-be62-400d-89e9-c7959ee748e1",
   "metadata": {},
   "source": [
    "## 상관계수 시각화 "
   ]
  },
  {
   "cell_type": "code",
   "execution_count": 80,
   "id": "91b5e079-b66a-444c-809b-e315bab96a99",
   "metadata": {},
   "outputs": [
    {
     "data": {
      "text/html": [
       "<div>\n",
       "<style scoped>\n",
       "    .dataframe tbody tr th:only-of-type {\n",
       "        vertical-align: middle;\n",
       "    }\n",
       "\n",
       "    .dataframe tbody tr th {\n",
       "        vertical-align: top;\n",
       "    }\n",
       "\n",
       "    .dataframe thead th {\n",
       "        text-align: right;\n",
       "    }\n",
       "</style>\n",
       "<table border=\"1\" class=\"dataframe\">\n",
       "  <thead>\n",
       "    <tr style=\"text-align: right;\">\n",
       "      <th></th>\n",
       "      <th>math score</th>\n",
       "      <th>reading score</th>\n",
       "      <th>writing score</th>\n",
       "    </tr>\n",
       "  </thead>\n",
       "  <tbody>\n",
       "    <tr>\n",
       "      <th>math score</th>\n",
       "      <td>1.000000</td>\n",
       "      <td>0.817580</td>\n",
       "      <td>0.802642</td>\n",
       "    </tr>\n",
       "    <tr>\n",
       "      <th>reading score</th>\n",
       "      <td>0.817580</td>\n",
       "      <td>1.000000</td>\n",
       "      <td>0.954598</td>\n",
       "    </tr>\n",
       "    <tr>\n",
       "      <th>writing score</th>\n",
       "      <td>0.802642</td>\n",
       "      <td>0.954598</td>\n",
       "      <td>1.000000</td>\n",
       "    </tr>\n",
       "  </tbody>\n",
       "</table>\n",
       "</div>"
      ],
      "text/plain": [
       "               math score  reading score  writing score\n",
       "math score       1.000000       0.817580       0.802642\n",
       "reading score    0.817580       1.000000       0.954598\n",
       "writing score    0.802642       0.954598       1.000000"
      ]
     },
     "execution_count": 80,
     "metadata": {},
     "output_type": "execute_result"
    }
   ],
   "source": [
    "%matplotlib inline\n",
    "import pandas as pd\n",
    "import seaborn as sns\n",
    "\n",
    "df = pd.read_csv('data/exam.csv')\n",
    "\n",
    "df.corr()"
   ]
  },
  {
   "cell_type": "code",
   "execution_count": 81,
   "id": "13f469d1-1687-4acd-b7fa-2d980ce2ee41",
   "metadata": {},
   "outputs": [
    {
     "data": {
      "text/plain": [
       "<AxesSubplot:>"
      ]
     },
     "execution_count": 81,
     "metadata": {},
     "output_type": "execute_result"
    },
    {
     "data": {
      "image/png": "[encoded data removed]",
      "text/plain": [
       "<Figure size 432x288 with 2 Axes>"
      ]
     },
     "metadata": {
      "needs_background": "light"
     },
     "output_type": "display_data"
    }
   ],
   "source": [
    "sns.heatmap(df.corr(), annot=True)"
   ]
  }
 ],
 "metadata": {
  "kernelspec": {
   "display_name": "Python 3 (ipykernel)",
   "language": "python",
   "name": "python3"
  },
  "language_info": {
   "codemirror_mode": {
    "name": "ipython",
    "version": 3
   },
   "file_extension": ".py",
   "mimetype": "text/x-python",
   "name": "python",
   "nbconvert_exporter": "python",
   "pygments_lexer": "ipython3",
   "version": "3.12.2"
  }
 },
 "nbformat": 4,
 "nbformat_minor": 5
}
