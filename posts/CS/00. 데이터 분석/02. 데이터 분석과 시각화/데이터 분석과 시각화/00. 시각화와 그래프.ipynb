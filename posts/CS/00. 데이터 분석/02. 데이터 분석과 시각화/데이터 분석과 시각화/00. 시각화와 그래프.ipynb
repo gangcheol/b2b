{
 "cells": [
  {
   "cell_type": "raw",
   "id": "17894273-09a3-41e7-8896-b565376bc9cb",
   "metadata": {},
   "source": [
    "---\n",
    "title : \"00. 시각화와 그래프\"\n",
    "author : \"GC\"\n",
    "date : \"04/22/24\"\n",
    "---"
   ]
  },
  {
   "cell_type": "markdown",
   "id": "ec26bc63-78d3-4efc-bdd6-6cbfaba93250",
   "metadata": {},
   "source": [
    "# 01. 시각화의 두 가지 목적"
   ]
  },
  {
   "cell_type": "markdown",
   "id": "3ed38867-45a0-4084-9ded-ae3c08649070",
   "metadata": {},
   "source": [
    "`-` 목적 1 : 분석에 도움이 된다\n",
    "\n",
    "* 일반적인 데이터프레임을 보는 것 보다 그래프를 보고 패턴을 찾아내면 이후에 어떤 분석을 할 지 찾아낼 수 있다.\n",
    "\n",
    "* 또한, 보이지 않는 것(`이상치, 영향치`)들을 파악할 수 있음\n",
    "\n",
    "`-` 목적 2 : 리포팅에 도움이 된다.\n",
    "\n",
    "*  ex : 기획팀에게 보고서를 전달할 때\n",
    "    * 그래프를 기반으로 보고서를 작성해서 커뮤니케이션을 원할하게 함."
   ]
  },
  {
   "cell_type": "markdown",
   "id": "c339449c-15a9-45e6-9e0c-58dcb1cf9212",
   "metadata": {},
   "source": [
    "***"
   ]
  },
  {
   "cell_type": "markdown",
   "id": "0acc7d28-0dae-4f2a-8586-82c064c0d8af",
   "metadata": {},
   "source": [
    "# 02. 선그래프"
   ]
  },
  {
   "cell_type": "markdown",
   "id": "04d60ec0-c6ee-4c8f-b9de-4ec1d520870d",
   "metadata": {},
   "source": [
    "`-` 변화를 보여주기에 적합한 그래프\n",
    "\n",
    "* ex : 매년 변화되는 아이의 키, 매출 변화 등..."
   ]
  },
  {
   "cell_type": "code",
   "execution_count": 2,
   "id": "a4a41526-14bf-46cc-ad55-93dd12bd92fd",
   "metadata": {},
   "outputs": [],
   "source": [
    "import pandas as pd\n",
    "\n",
    "%matplotlib inline"
   ]
  },
  {
   "cell_type": "markdown",
   "id": "eb86a869-0905-4644-ad6c-1fdff35a4902",
   "metadata": {},
   "source": [
    "`-` 각 방송사의 시청률 데이터 시각화"
   ]
  },
  {
   "cell_type": "code",
   "execution_count": 4,
   "id": "63609616-d9d7-4bd3-96bc-bc2eb59994ed",
   "metadata": {},
   "outputs": [
    {
     "data": {
      "text/html": [
       "<div>\n",
       "<style scoped>\n",
       "    .dataframe tbody tr th:only-of-type {\n",
       "        vertical-align: middle;\n",
       "    }\n",
       "\n",
       "    .dataframe tbody tr th {\n",
       "        vertical-align: top;\n",
       "    }\n",
       "\n",
       "    .dataframe thead th {\n",
       "        text-align: right;\n",
       "    }\n",
       "</style>\n",
       "<table border=\"1\" class=\"dataframe\">\n",
       "  <thead>\n",
       "    <tr style=\"text-align: right;\">\n",
       "      <th></th>\n",
       "      <th>KBS</th>\n",
       "      <th>MBC</th>\n",
       "      <th>SBS</th>\n",
       "      <th>TV CHOSUN</th>\n",
       "      <th>JTBC</th>\n",
       "      <th>Channel A</th>\n",
       "      <th>MBN</th>\n",
       "    </tr>\n",
       "  </thead>\n",
       "  <tbody>\n",
       "    <tr>\n",
       "      <th>2011</th>\n",
       "      <td>35.951</td>\n",
       "      <td>18.374</td>\n",
       "      <td>11.173</td>\n",
       "      <td>9.102</td>\n",
       "      <td>7.380</td>\n",
       "      <td>3.771</td>\n",
       "      <td>2.809</td>\n",
       "    </tr>\n",
       "    <tr>\n",
       "      <th>2012</th>\n",
       "      <td>36.163</td>\n",
       "      <td>16.022</td>\n",
       "      <td>11.408</td>\n",
       "      <td>8.785</td>\n",
       "      <td>7.878</td>\n",
       "      <td>5.874</td>\n",
       "      <td>3.310</td>\n",
       "    </tr>\n",
       "    <tr>\n",
       "      <th>2013</th>\n",
       "      <td>31.989</td>\n",
       "      <td>16.778</td>\n",
       "      <td>9.673</td>\n",
       "      <td>9.026</td>\n",
       "      <td>7.810</td>\n",
       "      <td>5.350</td>\n",
       "      <td>3.825</td>\n",
       "    </tr>\n",
       "    <tr>\n",
       "      <th>2014</th>\n",
       "      <td>31.210</td>\n",
       "      <td>15.663</td>\n",
       "      <td>9.108</td>\n",
       "      <td>9.440</td>\n",
       "      <td>7.490</td>\n",
       "      <td>5.776</td>\n",
       "      <td>4.572</td>\n",
       "    </tr>\n",
       "    <tr>\n",
       "      <th>2015</th>\n",
       "      <td>27.777</td>\n",
       "      <td>16.573</td>\n",
       "      <td>9.099</td>\n",
       "      <td>9.940</td>\n",
       "      <td>7.267</td>\n",
       "      <td>6.678</td>\n",
       "      <td>5.520</td>\n",
       "    </tr>\n",
       "    <tr>\n",
       "      <th>2016</th>\n",
       "      <td>27.583</td>\n",
       "      <td>14.982</td>\n",
       "      <td>8.669</td>\n",
       "      <td>9.829</td>\n",
       "      <td>7.727</td>\n",
       "      <td>6.624</td>\n",
       "      <td>5.477</td>\n",
       "    </tr>\n",
       "    <tr>\n",
       "      <th>2017</th>\n",
       "      <td>26.890</td>\n",
       "      <td>12.465</td>\n",
       "      <td>8.661</td>\n",
       "      <td>8.886</td>\n",
       "      <td>9.453</td>\n",
       "      <td>6.056</td>\n",
       "      <td>5.215</td>\n",
       "    </tr>\n",
       "  </tbody>\n",
       "</table>\n",
       "</div>"
      ],
      "text/plain": [
       "         KBS     MBC     SBS  TV CHOSUN   JTBC  Channel A    MBN\n",
       "2011  35.951  18.374  11.173      9.102  7.380      3.771  2.809\n",
       "2012  36.163  16.022  11.408      8.785  7.878      5.874  3.310\n",
       "2013  31.989  16.778   9.673      9.026  7.810      5.350  3.825\n",
       "2014  31.210  15.663   9.108      9.440  7.490      5.776  4.572\n",
       "2015  27.777  16.573   9.099      9.940  7.267      6.678  5.520\n",
       "2016  27.583  14.982   8.669      9.829  7.727      6.624  5.477\n",
       "2017  26.890  12.465   8.661      8.886  9.453      6.056  5.215"
      ]
     },
     "execution_count": 4,
     "metadata": {},
     "output_type": "execute_result"
    }
   ],
   "source": [
    "df = pd.read_csv(\"data/broadcast.csv\", index_col = 0)\n",
    "df"
   ]
  },
  {
   "cell_type": "markdown",
   "id": "6e59f4dd-0474-4b26-b87e-a403ed15de6e",
   "metadata": {},
   "source": [
    "`-` `pandas`의 `plot method` 를 이용"
   ]
  },
  {
   "cell_type": "markdown",
   "id": "4761ed37-3405-4fc6-99ff-957e0d1ce472",
   "metadata": {},
   "source": [
    "* 사실 `kind`인자를 통해 어떤 그래프를 그릴지 전달해줘야 하는데 `line plot`은 `default`로 인자를 전달안해도 된다."
   ]
  },
  {
   "cell_type": "code",
   "execution_count": 5,
   "id": "4217c9e1-343c-4028-9683-20979fb67935",
   "metadata": {},
   "outputs": [
    {
     "data": {
      "text/plain": [
       "<AxesSubplot:>"
      ]
     },
     "execution_count": 5,
     "metadata": {},
     "output_type": "execute_result"
    },
    {
     "data": {
      "image/png": "[encoded data removed]",
      "text/plain": [
       "<Figure size 432x288 with 1 Axes>"
      ]
     },
     "metadata": {
      "needs_background": "light"
     },
     "output_type": "display_data"
    }
   ],
   "source": [
    "df.plot()"
   ]
  },
  {
   "cell_type": "markdown",
   "id": "cde61ebc-e65a-4b44-82e9-f7ba1594d93a",
   "metadata": {},
   "source": [
    "`-` 특정 방송사에 대해서만 시각화"
   ]
  },
  {
   "cell_type": "code",
   "execution_count": 7,
   "id": "ec536716-05eb-4891-b672-a4d16d179a8e",
   "metadata": {},
   "outputs": [
    {
     "data": {
      "text/plain": [
       "<AxesSubplot:>"
      ]
     },
     "execution_count": 7,
     "metadata": {},
     "output_type": "execute_result"
    },
    {
     "data": {
      "image/png": "[encoded data removed]",
      "text/plain": [
       "<Figure size 432x288 with 1 Axes>"
      ]
     },
     "metadata": {
      "needs_background": "light"
     },
     "output_type": "display_data"
    }
   ],
   "source": [
    "df.plot(y = \"KBS\")"
   ]
  },
  {
   "cell_type": "markdown",
   "id": "f66b1644-7343-4a0b-b9e5-8a4329b0a856",
   "metadata": {},
   "source": [
    "`-` 두 개 방송사에 대한 그래프 그리기"
   ]
  },
  {
   "cell_type": "code",
   "execution_count": 8,
   "id": "f51c3f0e-00f9-4c70-8c73-b5b389436eac",
   "metadata": {},
   "outputs": [
    {
     "data": {
      "text/plain": [
       "<AxesSubplot:>"
      ]
     },
     "execution_count": 8,
     "metadata": {},
     "output_type": "execute_result"
    },
    {
     "data": {
      "image/png": "[encoded data removed]",
      "text/plain": [
       "<Figure size 432x288 with 1 Axes>"
      ]
     },
     "metadata": {
      "needs_background": "light"
     },
     "output_type": "display_data"
    }
   ],
   "source": [
    "df.plot(y = [\"KBS\", \"JTBC\"])"
   ]
  },
  {
   "cell_type": "code",
   "execution_count": 9,
   "id": "2ac2bf07-ee9b-496c-afdb-5e05a06db5b2",
   "metadata": {},
   "outputs": [
    {
     "data": {
      "text/plain": [
       "<AxesSubplot:>"
      ]
     },
     "execution_count": 9,
     "metadata": {},
     "output_type": "execute_result"
    },
    {
     "data": {
      "image/png": "[encoded data removed]",
      "text/plain": [
       "<Figure size 432x288 with 1 Axes>"
      ]
     },
     "metadata": {
      "needs_background": "light"
     },
     "output_type": "display_data"
    }
   ],
   "source": [
    "df[[\"KBS\", \"JTBC\"]].plot()"
   ]
  },
  {
   "cell_type": "markdown",
   "id": "9471de8b-ce81-482d-a971-14ca9e2cd5d4",
   "metadata": {},
   "source": [
    "`-` seris로 그리기"
   ]
  },
  {
   "cell_type": "code",
   "execution_count": 10,
   "id": "7ae0cb51-2d2a-4025-b27c-d7ddfdd86cef",
   "metadata": {},
   "outputs": [
    {
     "data": {
      "text/plain": [
       "<AxesSubplot:>"
      ]
     },
     "execution_count": 10,
     "metadata": {},
     "output_type": "execute_result"
    },
    {
     "data": {
      "image/png": "[encoded data removed]",
      "text/plain": [
       "<Figure size 432x288 with 1 Axes>"
      ]
     },
     "metadata": {
      "needs_background": "light"
     },
     "output_type": "display_data"
    }
   ],
   "source": [
    "df[\"KBS\"].plot()"
   ]
  },
  {
   "cell_type": "markdown",
   "id": "0cb33f9f-a0e2-4a26-b345-063f998dac20",
   "metadata": {},
   "source": [
    "## 실습 1. gdp 데이터"
   ]
  },
  {
   "cell_type": "markdown",
   "id": "a9a9ba72-4e6f-4bf8-9d17-fcd1c3742c9a",
   "metadata": {},
   "source": [
    "한국(Korea_Rep), 미국(United_States), 영국(United_Kingdom), 독일(Germany), 중국(China), 일본(Japan)의 GDP 그래프 그리기"
   ]
  },
  {
   "cell_type": "code",
   "execution_count": 15,
   "id": "872dfe53-db64-4d04-b423-d9870aeccd88",
   "metadata": {},
   "outputs": [
    {
     "data": {
      "text/plain": [
       "<AxesSubplot:>"
      ]
     },
     "execution_count": 15,
     "metadata": {},
     "output_type": "execute_result"
    },
    {
     "data": {
      "image/png": "[encoded data removed]",
      "text/plain": [
       "<Figure size 432x288 with 1 Axes>"
      ]
     },
     "metadata": {
      "needs_background": "light"
     },
     "output_type": "display_data"
    }
   ],
   "source": [
    "import pandas as pd\n",
    "\n",
    "%matplotlib inline\n",
    "\n",
    "df = pd.read_csv(\"data/gdp.csv\",index_col = 0)\n",
    "\n",
    "df.plot(y = [\"Korea_Rep\",\"United_States\", \n",
    "                \"United_Kingdom\",\"Germany\", \n",
    "                \"Germany\", \"China\", \"Japan\"])"
   ]
  },
  {
   "cell_type": "markdown",
   "id": "772fc1e2-6710-46f5-90b4-6c2484fba2ce",
   "metadata": {},
   "source": [
    "***"
   ]
  },
  {
   "cell_type": "markdown",
   "id": "0cbb30cf-6c5d-481c-b6fd-8ade4e45fc58",
   "metadata": {},
   "source": [
    "# 03. 막대 그래프"
   ]
  },
  {
   "cell_type": "markdown",
   "id": "a38a4cdb-6463-45b6-a02c-710cd5690391",
   "metadata": {},
   "source": [
    "`-` 카테고리 비교를 위해 사용\n",
    "\n",
    "* ex : 연령별, 성별 선호도 조사"
   ]
  },
  {
   "cell_type": "code",
   "execution_count": 18,
   "id": "b8b93db7-cf90-4252-953f-02333df85d8e",
   "metadata": {},
   "outputs": [],
   "source": [
    "import pandas as pd\n",
    "\n",
    "%matplotlib inline"
   ]
  },
  {
   "cell_type": "code",
   "execution_count": 21,
   "id": "19131c73-3e44-4319-a18b-bc8c985418ae",
   "metadata": {},
   "outputs": [
    {
     "data": {
      "text/html": [
       "<div>\n",
       "<style scoped>\n",
       "    .dataframe tbody tr th:only-of-type {\n",
       "        vertical-align: middle;\n",
       "    }\n",
       "\n",
       "    .dataframe tbody tr th {\n",
       "        vertical-align: top;\n",
       "    }\n",
       "\n",
       "    .dataframe thead th {\n",
       "        text-align: right;\n",
       "    }\n",
       "</style>\n",
       "<table border=\"1\" class=\"dataframe\">\n",
       "  <thead>\n",
       "    <tr style=\"text-align: right;\">\n",
       "      <th></th>\n",
       "      <th>Male</th>\n",
       "      <th>Female</th>\n",
       "    </tr>\n",
       "  </thead>\n",
       "  <tbody>\n",
       "    <tr>\n",
       "      <th>Swimming</th>\n",
       "      <td>103</td>\n",
       "      <td>178</td>\n",
       "    </tr>\n",
       "    <tr>\n",
       "      <th>Baseball</th>\n",
       "      <td>363</td>\n",
       "      <td>289</td>\n",
       "    </tr>\n",
       "    <tr>\n",
       "      <th>Basketball</th>\n",
       "      <td>151</td>\n",
       "      <td>97</td>\n",
       "    </tr>\n",
       "    <tr>\n",
       "      <th>Golf</th>\n",
       "      <td>154</td>\n",
       "      <td>232</td>\n",
       "    </tr>\n",
       "    <tr>\n",
       "      <th>Soccer</th>\n",
       "      <td>413</td>\n",
       "      <td>109</td>\n",
       "    </tr>\n",
       "    <tr>\n",
       "      <th>Bowling</th>\n",
       "      <td>88</td>\n",
       "      <td>129</td>\n",
       "    </tr>\n",
       "  </tbody>\n",
       "</table>\n",
       "</div>"
      ],
      "text/plain": [
       "            Male  Female\n",
       "Swimming     103     178\n",
       "Baseball     363     289\n",
       "Basketball   151      97\n",
       "Golf         154     232\n",
       "Soccer       413     109\n",
       "Bowling       88     129"
      ]
     },
     "execution_count": 21,
     "metadata": {},
     "output_type": "execute_result"
    }
   ],
   "source": [
    "df = pd.read_csv(\"data/sports.csv\", index_col = 0)\n",
    "df"
   ]
  },
  {
   "cell_type": "code",
   "execution_count": 22,
   "id": "c1f4f254-eb07-404d-b4f1-913ad485349c",
   "metadata": {},
   "outputs": [
    {
     "data": {
      "text/plain": [
       "<AxesSubplot:>"
      ]
     },
     "execution_count": 22,
     "metadata": {},
     "output_type": "execute_result"
    },
    {
     "data": {
      "image/png": "[encoded data removed]",
      "text/plain": [
       "<Figure size 432x288 with 1 Axes>"
      ]
     },
     "metadata": {
      "needs_background": "light"
     },
     "output_type": "display_data"
    }
   ],
   "source": [
    "df.plot(kind = \"bar\")"
   ]
  },
  {
   "cell_type": "markdown",
   "id": "32108da6-e271-4390-9517-1daa10e73314",
   "metadata": {},
   "source": [
    "`-` 가로 그래프 그리기"
   ]
  },
  {
   "cell_type": "code",
   "execution_count": 23,
   "id": "f87dc4e4-af90-46b7-8ff3-1fd73c7a617c",
   "metadata": {},
   "outputs": [
    {
     "data": {
      "text/plain": [
       "<AxesSubplot:>"
      ]
     },
     "execution_count": 23,
     "metadata": {},
     "output_type": "execute_result"
    },
    {
     "data": {
      "image/png": "[encoded data removed]",
      "text/plain": [
       "<Figure size 432x288 with 1 Axes>"
      ]
     },
     "metadata": {
      "needs_background": "light"
     },
     "output_type": "display_data"
    }
   ],
   "source": [
    "df.plot(kind = \"barh\")"
   ]
  },
  {
   "cell_type": "markdown",
   "id": "a89a27b0-e606-4531-8672-ef067149cb7b",
   "metadata": {},
   "source": [
    "`-` 그래프 `stack`"
   ]
  },
  {
   "cell_type": "code",
   "execution_count": 24,
   "id": "5fedc863-1fc6-49bf-91f6-4849bf0ded3c",
   "metadata": {},
   "outputs": [
    {
     "data": {
      "text/plain": [
       "<AxesSubplot:>"
      ]
     },
     "execution_count": 24,
     "metadata": {},
     "output_type": "execute_result"
    },
    {
     "data": {
      "image/png": "[encoded data removed]",
      "text/plain": [
       "<Figure size 432x288 with 1 Axes>"
      ]
     },
     "metadata": {
      "needs_background": "light"
     },
     "output_type": "display_data"
    }
   ],
   "source": [
    "df.plot(kind = \"bar\", stacked = True)"
   ]
  },
  {
   "cell_type": "markdown",
   "id": "dcaffe88-a9aa-4fc0-8344-6502ebc263eb",
   "metadata": {},
   "source": [
    "`-` 특정 범주에 대한 결과만 보여주기"
   ]
  },
  {
   "cell_type": "code",
   "execution_count": 28,
   "id": "b8abfd34-6f9c-4008-8001-4a01a47eb5d2",
   "metadata": {},
   "outputs": [
    {
     "data": {
      "text/plain": [
       "<AxesSubplot:>"
      ]
     },
     "execution_count": 28,
     "metadata": {},
     "output_type": "execute_result"
    },
    {
     "data": {
      "image/png": "[encoded data removed]",
      "text/plain": [
       "<Figure size 432x288 with 1 Axes>"
      ]
     },
     "metadata": {
      "needs_background": "light"
     },
     "output_type": "display_data"
    }
   ],
   "source": [
    "df[\"Female\"].plot(kind = \"bar\")"
   ]
  },
  {
   "cell_type": "markdown",
   "id": "c56a8866-112f-4623-9e61-783e1feac4b2",
   "metadata": {},
   "source": [
    "## 실습 1"
   ]
  },
  {
   "cell_type": "markdown",
   "id": "127d8417-5ac6-4db5-8f64-35764c1fd1d2",
   "metadata": {},
   "source": [
    "`-` 실리콘 밸리 남자 매지너의 인종 분포 그리기"
   ]
  },
  {
   "cell_type": "code",
   "execution_count": 55,
   "id": "85cf5a80-7126-4a91-80a7-168a72c336b5",
   "metadata": {},
   "outputs": [
    {
     "data": {
      "text/plain": [
       "<AxesSubplot:xlabel='race_ethnicity'>"
      ]
     },
     "execution_count": 55,
     "metadata": {},
     "output_type": "execute_result"
    },
    {
     "data": {
      "image/png": "[encoded data removed]",
      "text/plain": [
       "<Figure size 432x288 with 1 Axes>"
      ]
     },
     "metadata": {
      "needs_background": "light"
     },
     "output_type": "display_data"
    }
   ],
   "source": [
    "%matplotlib inline\n",
    "import pandas as pd\n",
    "\n",
    "df = pd.read_csv('data/silicon_valley_summary.csv')\n",
    "\n",
    "df.loc[(df[\"job_category\"] == \"Managers\") & (df.gender == \"Male\") & \n",
    "       (df[\"race_ethnicity\"] != \"All\"), \n",
    "                   [\"count\", \"race_ethnicity\"]].plot(kind = \"bar\", x = \"race_ethnicity\", y= \"count\")\n"
   ]
  },
  {
   "cell_type": "markdown",
   "id": "8a866496-491a-4035-9b45-62d7ab77cbc0",
   "metadata": {},
   "source": [
    "***"
   ]
  },
  {
   "cell_type": "markdown",
   "id": "f9841dfe-02ca-4c71-b683-102ca9a471fd",
   "metadata": {},
   "source": [
    "# 04. 파이 그레프"
   ]
  },
  {
   "cell_type": "markdown",
   "id": "0276c2ef-351f-4c5e-96c8-f69ec312d5fc",
   "metadata": {},
   "source": [
    "`-` 절대적인 수치보다 비율을 표현하기 적합한 그래프"
   ]
  },
  {
   "cell_type": "code",
   "execution_count": 153,
   "id": "48a066e8-610d-4985-8203-402ef77559f5",
   "metadata": {},
   "outputs": [
    {
     "data": {
      "text/html": [
       "<div>\n",
       "<style scoped>\n",
       "    .dataframe tbody tr th:only-of-type {\n",
       "        vertical-align: middle;\n",
       "    }\n",
       "\n",
       "    .dataframe tbody tr th {\n",
       "        vertical-align: top;\n",
       "    }\n",
       "\n",
       "    .dataframe thead th {\n",
       "        text-align: right;\n",
       "    }\n",
       "</style>\n",
       "<table border=\"1\" class=\"dataframe\">\n",
       "  <thead>\n",
       "    <tr style=\"text-align: right;\">\n",
       "      <th></th>\n",
       "      <th>KBS</th>\n",
       "      <th>MBC</th>\n",
       "      <th>SBS</th>\n",
       "      <th>TV CHOSUN</th>\n",
       "      <th>JTBC</th>\n",
       "      <th>Channel A</th>\n",
       "      <th>MBN</th>\n",
       "    </tr>\n",
       "  </thead>\n",
       "  <tbody>\n",
       "    <tr>\n",
       "      <th>2011</th>\n",
       "      <td>35.951</td>\n",
       "      <td>18.374</td>\n",
       "      <td>11.173</td>\n",
       "      <td>9.102</td>\n",
       "      <td>7.380</td>\n",
       "      <td>3.771</td>\n",
       "      <td>2.809</td>\n",
       "    </tr>\n",
       "    <tr>\n",
       "      <th>2012</th>\n",
       "      <td>36.163</td>\n",
       "      <td>16.022</td>\n",
       "      <td>11.408</td>\n",
       "      <td>8.785</td>\n",
       "      <td>7.878</td>\n",
       "      <td>5.874</td>\n",
       "      <td>3.310</td>\n",
       "    </tr>\n",
       "    <tr>\n",
       "      <th>2013</th>\n",
       "      <td>31.989</td>\n",
       "      <td>16.778</td>\n",
       "      <td>9.673</td>\n",
       "      <td>9.026</td>\n",
       "      <td>7.810</td>\n",
       "      <td>5.350</td>\n",
       "      <td>3.825</td>\n",
       "    </tr>\n",
       "    <tr>\n",
       "      <th>2014</th>\n",
       "      <td>31.210</td>\n",
       "      <td>15.663</td>\n",
       "      <td>9.108</td>\n",
       "      <td>9.440</td>\n",
       "      <td>7.490</td>\n",
       "      <td>5.776</td>\n",
       "      <td>4.572</td>\n",
       "    </tr>\n",
       "    <tr>\n",
       "      <th>2015</th>\n",
       "      <td>27.777</td>\n",
       "      <td>16.573</td>\n",
       "      <td>9.099</td>\n",
       "      <td>9.940</td>\n",
       "      <td>7.267</td>\n",
       "      <td>6.678</td>\n",
       "      <td>5.520</td>\n",
       "    </tr>\n",
       "    <tr>\n",
       "      <th>2016</th>\n",
       "      <td>27.583</td>\n",
       "      <td>14.982</td>\n",
       "      <td>8.669</td>\n",
       "      <td>9.829</td>\n",
       "      <td>7.727</td>\n",
       "      <td>6.624</td>\n",
       "      <td>5.477</td>\n",
       "    </tr>\n",
       "    <tr>\n",
       "      <th>2017</th>\n",
       "      <td>26.890</td>\n",
       "      <td>12.465</td>\n",
       "      <td>8.661</td>\n",
       "      <td>8.886</td>\n",
       "      <td>9.453</td>\n",
       "      <td>6.056</td>\n",
       "      <td>5.215</td>\n",
       "    </tr>\n",
       "  </tbody>\n",
       "</table>\n",
       "</div>"
      ],
      "text/plain": [
       "         KBS     MBC     SBS  TV CHOSUN   JTBC  Channel A    MBN\n",
       "2011  35.951  18.374  11.173      9.102  7.380      3.771  2.809\n",
       "2012  36.163  16.022  11.408      8.785  7.878      5.874  3.310\n",
       "2013  31.989  16.778   9.673      9.026  7.810      5.350  3.825\n",
       "2014  31.210  15.663   9.108      9.440  7.490      5.776  4.572\n",
       "2015  27.777  16.573   9.099      9.940  7.267      6.678  5.520\n",
       "2016  27.583  14.982   8.669      9.829  7.727      6.624  5.477\n",
       "2017  26.890  12.465   8.661      8.886  9.453      6.056  5.215"
      ]
     },
     "execution_count": 153,
     "metadata": {},
     "output_type": "execute_result"
    }
   ],
   "source": [
    "df = pd.read_csv(\"data/broadcast.csv\", index_col = 0)\n",
    "df"
   ]
  },
  {
   "cell_type": "markdown",
   "id": "99778f9e-2035-4434-b73d-cd376a48dd2b",
   "metadata": {},
   "source": [
    "`-` 2017년 방송사별 비율 그래프 그리기"
   ]
  },
  {
   "cell_type": "code",
   "execution_count": 157,
   "id": "c45a758a-db55-4203-bc6c-55fc915a9657",
   "metadata": {},
   "outputs": [
    {
     "data": {
      "text/plain": [
       "<AxesSubplot:ylabel='2017'>"
      ]
     },
     "execution_count": 157,
     "metadata": {},
     "output_type": "execute_result"
    },
    {
     "data": {
      "image/png": "[encoded data removed]",
      "text/plain": [
       "<Figure size 432x288 with 1 Axes>"
      ]
     },
     "metadata": {},
     "output_type": "display_data"
    }
   ],
   "source": [
    "df.loc[2017].plot(kind = \"pie\")"
   ]
  },
  {
   "cell_type": "markdown",
   "id": "05a4c774-f40e-4be7-ad0f-ba6bd8b7f555",
   "metadata": {},
   "source": [
    "## 실습 1"
   ]
  },
  {
   "cell_type": "markdown",
   "id": "0846c76a-838e-4d0a-a869-d8a0b76051a7",
   "metadata": {},
   "source": [
    "어도비 전체 직원들의 직군 분포를 파이 그래프로 그리"
   ]
  },
  {
   "cell_type": "code",
   "execution_count": 197,
   "id": "472102a5-adbc-4dd0-b8b1-c3fe6c97066f",
   "metadata": {},
   "outputs": [
    {
     "data": {
      "text/html": [
       "<div>\n",
       "<style scoped>\n",
       "    .dataframe tbody tr th:only-of-type {\n",
       "        vertical-align: middle;\n",
       "    }\n",
       "\n",
       "    .dataframe tbody tr th {\n",
       "        vertical-align: top;\n",
       "    }\n",
       "\n",
       "    .dataframe thead th {\n",
       "        text-align: right;\n",
       "    }\n",
       "</style>\n",
       "<table border=\"1\" class=\"dataframe\">\n",
       "  <thead>\n",
       "    <tr style=\"text-align: right;\">\n",
       "      <th></th>\n",
       "      <th>company</th>\n",
       "      <th>year</th>\n",
       "      <th>race</th>\n",
       "      <th>gender</th>\n",
       "      <th>job_category</th>\n",
       "      <th>count</th>\n",
       "    </tr>\n",
       "  </thead>\n",
       "  <tbody>\n",
       "    <tr>\n",
       "      <th>0</th>\n",
       "      <td>23andMe</td>\n",
       "      <td>2016</td>\n",
       "      <td>Hispanic_or_Latino</td>\n",
       "      <td>male</td>\n",
       "      <td>Executives</td>\n",
       "      <td>0</td>\n",
       "    </tr>\n",
       "    <tr>\n",
       "      <th>1</th>\n",
       "      <td>23andMe</td>\n",
       "      <td>2016</td>\n",
       "      <td>Hispanic_or_Latino</td>\n",
       "      <td>male</td>\n",
       "      <td>Managers</td>\n",
       "      <td>1</td>\n",
       "    </tr>\n",
       "    <tr>\n",
       "      <th>2</th>\n",
       "      <td>23andMe</td>\n",
       "      <td>2016</td>\n",
       "      <td>Hispanic_or_Latino</td>\n",
       "      <td>male</td>\n",
       "      <td>Professionals</td>\n",
       "      <td>7</td>\n",
       "    </tr>\n",
       "    <tr>\n",
       "      <th>3</th>\n",
       "      <td>23andMe</td>\n",
       "      <td>2016</td>\n",
       "      <td>Hispanic_or_Latino</td>\n",
       "      <td>male</td>\n",
       "      <td>Technicians</td>\n",
       "      <td>0</td>\n",
       "    </tr>\n",
       "    <tr>\n",
       "      <th>4</th>\n",
       "      <td>23andMe</td>\n",
       "      <td>2016</td>\n",
       "      <td>Hispanic_or_Latino</td>\n",
       "      <td>male</td>\n",
       "      <td>Sales workers</td>\n",
       "      <td>0</td>\n",
       "    </tr>\n",
       "    <tr>\n",
       "      <th>...</th>\n",
       "      <td>...</td>\n",
       "      <td>...</td>\n",
       "      <td>...</td>\n",
       "      <td>...</td>\n",
       "      <td>...</td>\n",
       "      <td>...</td>\n",
       "    </tr>\n",
       "    <tr>\n",
       "      <th>4435</th>\n",
       "      <td>Sanmina</td>\n",
       "      <td>2016</td>\n",
       "      <td>Overall_totals</td>\n",
       "      <td>NaN</td>\n",
       "      <td>laborers and helpers</td>\n",
       "      <td>4</td>\n",
       "    </tr>\n",
       "    <tr>\n",
       "      <th>4436</th>\n",
       "      <td>Sanmina</td>\n",
       "      <td>2016</td>\n",
       "      <td>Overall_totals</td>\n",
       "      <td>NaN</td>\n",
       "      <td>Service workers</td>\n",
       "      <td>57</td>\n",
       "    </tr>\n",
       "    <tr>\n",
       "      <th>4437</th>\n",
       "      <td>Sanmina</td>\n",
       "      <td>2016</td>\n",
       "      <td>Overall_totals</td>\n",
       "      <td>NaN</td>\n",
       "      <td>Totals</td>\n",
       "      <td>5205</td>\n",
       "    </tr>\n",
       "    <tr>\n",
       "      <th>4438</th>\n",
       "      <td>Sanmina</td>\n",
       "      <td>2016</td>\n",
       "      <td>Overall_totals</td>\n",
       "      <td>NaN</td>\n",
       "      <td>Previous_totals</td>\n",
       "      <td>5615</td>\n",
       "    </tr>\n",
       "    <tr>\n",
       "      <th>4439</th>\n",
       "      <td>Sanmina</td>\n",
       "      <td>2016</td>\n",
       "      <td>Overall_totals</td>\n",
       "      <td>NaN</td>\n",
       "      <td>Managers</td>\n",
       "      <td>591</td>\n",
       "    </tr>\n",
       "  </tbody>\n",
       "</table>\n",
       "<p>4440 rows × 6 columns</p>\n",
       "</div>"
      ],
      "text/plain": [
       "      company  year                race gender          job_category  count\n",
       "0     23andMe  2016  Hispanic_or_Latino   male            Executives      0\n",
       "1     23andMe  2016  Hispanic_or_Latino   male              Managers      1\n",
       "2     23andMe  2016  Hispanic_or_Latino   male         Professionals      7\n",
       "3     23andMe  2016  Hispanic_or_Latino   male           Technicians      0\n",
       "4     23andMe  2016  Hispanic_or_Latino   male         Sales workers      0\n",
       "...       ...   ...                 ...    ...                   ...    ...\n",
       "4435  Sanmina  2016      Overall_totals    NaN  laborers and helpers      4\n",
       "4436  Sanmina  2016      Overall_totals    NaN       Service workers     57\n",
       "4437  Sanmina  2016      Overall_totals    NaN                Totals   5205\n",
       "4438  Sanmina  2016      Overall_totals    NaN       Previous_totals   5615\n",
       "4439  Sanmina  2016      Overall_totals    NaN              Managers    591\n",
       "\n",
       "[4440 rows x 6 columns]"
      ]
     },
     "execution_count": 197,
     "metadata": {},
     "output_type": "execute_result"
    }
   ],
   "source": [
    "df"
   ]
  },
  {
   "cell_type": "markdown",
   "id": "0fe98685-494d-4fe0-b3cb-d770b4e3c4b1",
   "metadata": {},
   "source": [
    "### sol1"
   ]
  },
  {
   "cell_type": "markdown",
   "id": "d4a1174a-361b-40d6-b19b-730c04a1d841",
   "metadata": {},
   "source": [
    "`-` 일단 내가 풀어봤는데 그래프가 살짝 각도가 이상하게 나옴"
   ]
  },
  {
   "cell_type": "code",
   "execution_count": 226,
   "id": "0fd26830-0de2-4187-9a38-6e9ccf23f9f5",
   "metadata": {},
   "outputs": [
    {
     "data": {
      "text/html": [
       "<div>\n",
       "<style scoped>\n",
       "    .dataframe tbody tr th:only-of-type {\n",
       "        vertical-align: middle;\n",
       "    }\n",
       "\n",
       "    .dataframe tbody tr th {\n",
       "        vertical-align: top;\n",
       "    }\n",
       "\n",
       "    .dataframe thead th {\n",
       "        text-align: right;\n",
       "    }\n",
       "</style>\n",
       "<table border=\"1\" class=\"dataframe\">\n",
       "  <thead>\n",
       "    <tr style=\"text-align: right;\">\n",
       "      <th></th>\n",
       "      <th>count</th>\n",
       "    </tr>\n",
       "    <tr>\n",
       "      <th>job_category</th>\n",
       "      <th></th>\n",
       "    </tr>\n",
       "  </thead>\n",
       "  <tbody>\n",
       "    <tr>\n",
       "      <th>Administrative support</th>\n",
       "      <td>323</td>\n",
       "    </tr>\n",
       "    <tr>\n",
       "      <th>Executives</th>\n",
       "      <td>93</td>\n",
       "    </tr>\n",
       "    <tr>\n",
       "      <th>Managers</th>\n",
       "      <td>2448</td>\n",
       "    </tr>\n",
       "    <tr>\n",
       "      <th>Professionals</th>\n",
       "      <td>3028</td>\n",
       "    </tr>\n",
       "    <tr>\n",
       "      <th>Sales workers</th>\n",
       "      <td>1270</td>\n",
       "    </tr>\n",
       "  </tbody>\n",
       "</table>\n",
       "</div>"
      ],
      "text/plain": [
       "                        count\n",
       "job_category                 \n",
       "Administrative support    323\n",
       "Executives                 93\n",
       "Managers                 2448\n",
       "Professionals            3028\n",
       "Sales workers            1270"
      ]
     },
     "execution_count": 226,
     "metadata": {},
     "output_type": "execute_result"
    }
   ],
   "source": [
    "%matplotlib inline\n",
    "import pandas as pd\n",
    "\n",
    "df = pd.read_csv('data/silicon_valley_details.csv')\n",
    "\n",
    "\n",
    "df1 = df.loc[(df[\"company\"] == \"Adobe\") & (df[\"race\"] == \"Overall_totals\") & (df[\"count\"] !=0)].\\\n",
    "        groupby(\"job_category\", as_index = False)[[\"count\"]].sum()\n",
    "\n",
    "df1.loc[map(lambda x : x not in [\"Previous_totals\", \"Totals\"],\n",
    "        df1[\"job_category\"])].set_index(\"job_category\")"
   ]
  },
  {
   "cell_type": "markdown",
   "id": "698a82f7-11b6-40af-8ede-9c109bc46acd",
   "metadata": {},
   "source": [
    "### sol2"
   ]
  },
  {
   "cell_type": "code",
   "execution_count": 220,
   "id": "a72865a3-9561-4292-9f7f-6a25217fe6fd",
   "metadata": {},
   "outputs": [
    {
     "data": {
      "text/html": [
       "<div>\n",
       "<style scoped>\n",
       "    .dataframe tbody tr th:only-of-type {\n",
       "        vertical-align: middle;\n",
       "    }\n",
       "\n",
       "    .dataframe tbody tr th {\n",
       "        vertical-align: top;\n",
       "    }\n",
       "\n",
       "    .dataframe thead th {\n",
       "        text-align: right;\n",
       "    }\n",
       "</style>\n",
       "<table border=\"1\" class=\"dataframe\">\n",
       "  <thead>\n",
       "    <tr style=\"text-align: right;\">\n",
       "      <th></th>\n",
       "      <th>company</th>\n",
       "      <th>year</th>\n",
       "      <th>race</th>\n",
       "      <th>gender</th>\n",
       "      <th>job_category</th>\n",
       "      <th>count</th>\n",
       "    </tr>\n",
       "  </thead>\n",
       "  <tbody>\n",
       "    <tr>\n",
       "      <th>0</th>\n",
       "      <td>23andMe</td>\n",
       "      <td>2016</td>\n",
       "      <td>Hispanic_or_Latino</td>\n",
       "      <td>male</td>\n",
       "      <td>Executives</td>\n",
       "      <td>0</td>\n",
       "    </tr>\n",
       "    <tr>\n",
       "      <th>1</th>\n",
       "      <td>23andMe</td>\n",
       "      <td>2016</td>\n",
       "      <td>Hispanic_or_Latino</td>\n",
       "      <td>male</td>\n",
       "      <td>Managers</td>\n",
       "      <td>1</td>\n",
       "    </tr>\n",
       "    <tr>\n",
       "      <th>2</th>\n",
       "      <td>23andMe</td>\n",
       "      <td>2016</td>\n",
       "      <td>Hispanic_or_Latino</td>\n",
       "      <td>male</td>\n",
       "      <td>Professionals</td>\n",
       "      <td>7</td>\n",
       "    </tr>\n",
       "    <tr>\n",
       "      <th>3</th>\n",
       "      <td>23andMe</td>\n",
       "      <td>2016</td>\n",
       "      <td>Hispanic_or_Latino</td>\n",
       "      <td>male</td>\n",
       "      <td>Technicians</td>\n",
       "      <td>0</td>\n",
       "    </tr>\n",
       "    <tr>\n",
       "      <th>4</th>\n",
       "      <td>23andMe</td>\n",
       "      <td>2016</td>\n",
       "      <td>Hispanic_or_Latino</td>\n",
       "      <td>male</td>\n",
       "      <td>Sales workers</td>\n",
       "      <td>0</td>\n",
       "    </tr>\n",
       "    <tr>\n",
       "      <th>...</th>\n",
       "      <td>...</td>\n",
       "      <td>...</td>\n",
       "      <td>...</td>\n",
       "      <td>...</td>\n",
       "      <td>...</td>\n",
       "      <td>...</td>\n",
       "    </tr>\n",
       "    <tr>\n",
       "      <th>4435</th>\n",
       "      <td>Sanmina</td>\n",
       "      <td>2016</td>\n",
       "      <td>Overall_totals</td>\n",
       "      <td>NaN</td>\n",
       "      <td>laborers and helpers</td>\n",
       "      <td>4</td>\n",
       "    </tr>\n",
       "    <tr>\n",
       "      <th>4436</th>\n",
       "      <td>Sanmina</td>\n",
       "      <td>2016</td>\n",
       "      <td>Overall_totals</td>\n",
       "      <td>NaN</td>\n",
       "      <td>Service workers</td>\n",
       "      <td>57</td>\n",
       "    </tr>\n",
       "    <tr>\n",
       "      <th>4437</th>\n",
       "      <td>Sanmina</td>\n",
       "      <td>2016</td>\n",
       "      <td>Overall_totals</td>\n",
       "      <td>NaN</td>\n",
       "      <td>Totals</td>\n",
       "      <td>5205</td>\n",
       "    </tr>\n",
       "    <tr>\n",
       "      <th>4438</th>\n",
       "      <td>Sanmina</td>\n",
       "      <td>2016</td>\n",
       "      <td>Overall_totals</td>\n",
       "      <td>NaN</td>\n",
       "      <td>Previous_totals</td>\n",
       "      <td>5615</td>\n",
       "    </tr>\n",
       "    <tr>\n",
       "      <th>4439</th>\n",
       "      <td>Sanmina</td>\n",
       "      <td>2016</td>\n",
       "      <td>Overall_totals</td>\n",
       "      <td>NaN</td>\n",
       "      <td>Managers</td>\n",
       "      <td>591</td>\n",
       "    </tr>\n",
       "  </tbody>\n",
       "</table>\n",
       "<p>4440 rows × 6 columns</p>\n",
       "</div>"
      ],
      "text/plain": [
       "      company  year                race gender          job_category  count\n",
       "0     23andMe  2016  Hispanic_or_Latino   male            Executives      0\n",
       "1     23andMe  2016  Hispanic_or_Latino   male              Managers      1\n",
       "2     23andMe  2016  Hispanic_or_Latino   male         Professionals      7\n",
       "3     23andMe  2016  Hispanic_or_Latino   male           Technicians      0\n",
       "4     23andMe  2016  Hispanic_or_Latino   male         Sales workers      0\n",
       "...       ...   ...                 ...    ...                   ...    ...\n",
       "4435  Sanmina  2016      Overall_totals    NaN  laborers and helpers      4\n",
       "4436  Sanmina  2016      Overall_totals    NaN       Service workers     57\n",
       "4437  Sanmina  2016      Overall_totals    NaN                Totals   5205\n",
       "4438  Sanmina  2016      Overall_totals    NaN       Previous_totals   5615\n",
       "4439  Sanmina  2016      Overall_totals    NaN              Managers    591\n",
       "\n",
       "[4440 rows x 6 columns]"
      ]
     },
     "execution_count": 220,
     "metadata": {},
     "output_type": "execute_result"
    }
   ],
   "source": [
    "%matplotlib inline\n",
    "import pandas as pd\n",
    "\n",
    "df = pd.read_csv(\"data/silicon_valley_details.csv\")\n",
    "df"
   ]
  },
  {
   "cell_type": "code",
   "execution_count": 222,
   "id": "4faf3ede-f506-4ec0-ab23-504ca219e2a4",
   "metadata": {},
   "outputs": [
    {
     "data": {
      "text/html": [
       "<div>\n",
       "<style scoped>\n",
       "    .dataframe tbody tr th:only-of-type {\n",
       "        vertical-align: middle;\n",
       "    }\n",
       "\n",
       "    .dataframe tbody tr th {\n",
       "        vertical-align: top;\n",
       "    }\n",
       "\n",
       "    .dataframe thead th {\n",
       "        text-align: right;\n",
       "    }\n",
       "</style>\n",
       "<table border=\"1\" class=\"dataframe\">\n",
       "  <thead>\n",
       "    <tr style=\"text-align: right;\">\n",
       "      <th></th>\n",
       "      <th>company</th>\n",
       "      <th>year</th>\n",
       "      <th>race</th>\n",
       "      <th>gender</th>\n",
       "      <th>job_category</th>\n",
       "      <th>count</th>\n",
       "    </tr>\n",
       "  </thead>\n",
       "  <tbody>\n",
       "    <tr>\n",
       "      <th>333</th>\n",
       "      <td>Adobe</td>\n",
       "      <td>2016</td>\n",
       "      <td>Overall_totals</td>\n",
       "      <td>NaN</td>\n",
       "      <td>Executives</td>\n",
       "      <td>93</td>\n",
       "    </tr>\n",
       "    <tr>\n",
       "      <th>334</th>\n",
       "      <td>Adobe</td>\n",
       "      <td>2016</td>\n",
       "      <td>Overall_totals</td>\n",
       "      <td>NaN</td>\n",
       "      <td>Managers</td>\n",
       "      <td>2448</td>\n",
       "    </tr>\n",
       "    <tr>\n",
       "      <th>335</th>\n",
       "      <td>Adobe</td>\n",
       "      <td>2016</td>\n",
       "      <td>Overall_totals</td>\n",
       "      <td>NaN</td>\n",
       "      <td>Professionals</td>\n",
       "      <td>3028</td>\n",
       "    </tr>\n",
       "    <tr>\n",
       "      <th>336</th>\n",
       "      <td>Adobe</td>\n",
       "      <td>2016</td>\n",
       "      <td>Overall_totals</td>\n",
       "      <td>NaN</td>\n",
       "      <td>Technicians</td>\n",
       "      <td>0</td>\n",
       "    </tr>\n",
       "    <tr>\n",
       "      <th>337</th>\n",
       "      <td>Adobe</td>\n",
       "      <td>2016</td>\n",
       "      <td>Overall_totals</td>\n",
       "      <td>NaN</td>\n",
       "      <td>Sales workers</td>\n",
       "      <td>1270</td>\n",
       "    </tr>\n",
       "    <tr>\n",
       "      <th>338</th>\n",
       "      <td>Adobe</td>\n",
       "      <td>2016</td>\n",
       "      <td>Overall_totals</td>\n",
       "      <td>NaN</td>\n",
       "      <td>Administrative support</td>\n",
       "      <td>323</td>\n",
       "    </tr>\n",
       "    <tr>\n",
       "      <th>339</th>\n",
       "      <td>Adobe</td>\n",
       "      <td>2016</td>\n",
       "      <td>Overall_totals</td>\n",
       "      <td>NaN</td>\n",
       "      <td>Craft workers</td>\n",
       "      <td>0</td>\n",
       "    </tr>\n",
       "    <tr>\n",
       "      <th>340</th>\n",
       "      <td>Adobe</td>\n",
       "      <td>2016</td>\n",
       "      <td>Overall_totals</td>\n",
       "      <td>NaN</td>\n",
       "      <td>operatives</td>\n",
       "      <td>0</td>\n",
       "    </tr>\n",
       "    <tr>\n",
       "      <th>341</th>\n",
       "      <td>Adobe</td>\n",
       "      <td>2016</td>\n",
       "      <td>Overall_totals</td>\n",
       "      <td>NaN</td>\n",
       "      <td>laborers and helpers</td>\n",
       "      <td>0</td>\n",
       "    </tr>\n",
       "    <tr>\n",
       "      <th>342</th>\n",
       "      <td>Adobe</td>\n",
       "      <td>2016</td>\n",
       "      <td>Overall_totals</td>\n",
       "      <td>NaN</td>\n",
       "      <td>Service workers</td>\n",
       "      <td>0</td>\n",
       "    </tr>\n",
       "    <tr>\n",
       "      <th>343</th>\n",
       "      <td>Adobe</td>\n",
       "      <td>2016</td>\n",
       "      <td>Overall_totals</td>\n",
       "      <td>NaN</td>\n",
       "      <td>Totals</td>\n",
       "      <td>7162</td>\n",
       "    </tr>\n",
       "    <tr>\n",
       "      <th>344</th>\n",
       "      <td>Adobe</td>\n",
       "      <td>2016</td>\n",
       "      <td>Overall_totals</td>\n",
       "      <td>NaN</td>\n",
       "      <td>Previous_totals</td>\n",
       "      <td>6581</td>\n",
       "    </tr>\n",
       "  </tbody>\n",
       "</table>\n",
       "</div>"
      ],
      "text/plain": [
       "    company  year            race gender            job_category  count\n",
       "333   Adobe  2016  Overall_totals    NaN              Executives     93\n",
       "334   Adobe  2016  Overall_totals    NaN                Managers   2448\n",
       "335   Adobe  2016  Overall_totals    NaN           Professionals   3028\n",
       "336   Adobe  2016  Overall_totals    NaN             Technicians      0\n",
       "337   Adobe  2016  Overall_totals    NaN           Sales workers   1270\n",
       "338   Adobe  2016  Overall_totals    NaN  Administrative support    323\n",
       "339   Adobe  2016  Overall_totals    NaN           Craft workers      0\n",
       "340   Adobe  2016  Overall_totals    NaN              operatives      0\n",
       "341   Adobe  2016  Overall_totals    NaN    laborers and helpers      0\n",
       "342   Adobe  2016  Overall_totals    NaN         Service workers      0\n",
       "343   Adobe  2016  Overall_totals    NaN                  Totals   7162\n",
       "344   Adobe  2016  Overall_totals    NaN         Previous_totals   6581"
      ]
     },
     "execution_count": 222,
     "metadata": {},
     "output_type": "execute_result"
    }
   ],
   "source": [
    "boolean_adobe = df['company'] == 'Adobe'\n",
    "boolean_all_races = df['race'] == 'Overall_totals'\n",
    "df[boolean_adobe & boolean_all_races]"
   ]
  },
  {
   "cell_type": "code",
   "execution_count": 223,
   "id": "5bbfce5d-002f-467b-83b2-e8daeebb902f",
   "metadata": {},
   "outputs": [
    {
     "data": {
      "text/html": [
       "<div>\n",
       "<style scoped>\n",
       "    .dataframe tbody tr th:only-of-type {\n",
       "        vertical-align: middle;\n",
       "    }\n",
       "\n",
       "    .dataframe tbody tr th {\n",
       "        vertical-align: top;\n",
       "    }\n",
       "\n",
       "    .dataframe thead th {\n",
       "        text-align: right;\n",
       "    }\n",
       "</style>\n",
       "<table border=\"1\" class=\"dataframe\">\n",
       "  <thead>\n",
       "    <tr style=\"text-align: right;\">\n",
       "      <th></th>\n",
       "      <th>company</th>\n",
       "      <th>year</th>\n",
       "      <th>race</th>\n",
       "      <th>gender</th>\n",
       "      <th>job_category</th>\n",
       "      <th>count</th>\n",
       "    </tr>\n",
       "  </thead>\n",
       "  <tbody>\n",
       "    <tr>\n",
       "      <th>333</th>\n",
       "      <td>Adobe</td>\n",
       "      <td>2016</td>\n",
       "      <td>Overall_totals</td>\n",
       "      <td>NaN</td>\n",
       "      <td>Executives</td>\n",
       "      <td>93</td>\n",
       "    </tr>\n",
       "    <tr>\n",
       "      <th>334</th>\n",
       "      <td>Adobe</td>\n",
       "      <td>2016</td>\n",
       "      <td>Overall_totals</td>\n",
       "      <td>NaN</td>\n",
       "      <td>Managers</td>\n",
       "      <td>2448</td>\n",
       "    </tr>\n",
       "    <tr>\n",
       "      <th>335</th>\n",
       "      <td>Adobe</td>\n",
       "      <td>2016</td>\n",
       "      <td>Overall_totals</td>\n",
       "      <td>NaN</td>\n",
       "      <td>Professionals</td>\n",
       "      <td>3028</td>\n",
       "    </tr>\n",
       "    <tr>\n",
       "      <th>337</th>\n",
       "      <td>Adobe</td>\n",
       "      <td>2016</td>\n",
       "      <td>Overall_totals</td>\n",
       "      <td>NaN</td>\n",
       "      <td>Sales workers</td>\n",
       "      <td>1270</td>\n",
       "    </tr>\n",
       "    <tr>\n",
       "      <th>338</th>\n",
       "      <td>Adobe</td>\n",
       "      <td>2016</td>\n",
       "      <td>Overall_totals</td>\n",
       "      <td>NaN</td>\n",
       "      <td>Administrative support</td>\n",
       "      <td>323</td>\n",
       "    </tr>\n",
       "  </tbody>\n",
       "</table>\n",
       "</div>"
      ],
      "text/plain": [
       "    company  year            race gender            job_category  count\n",
       "333   Adobe  2016  Overall_totals    NaN              Executives     93\n",
       "334   Adobe  2016  Overall_totals    NaN                Managers   2448\n",
       "335   Adobe  2016  Overall_totals    NaN           Professionals   3028\n",
       "337   Adobe  2016  Overall_totals    NaN           Sales workers   1270\n",
       "338   Adobe  2016  Overall_totals    NaN  Administrative support    323"
      ]
     },
     "execution_count": 223,
     "metadata": {},
     "output_type": "execute_result"
    }
   ],
   "source": [
    "boolean_adobe = df['company'] == 'Adobe'\n",
    "boolean_all_races = df['race'] == 'Overall_totals'\n",
    "boolean_count = df['count'] != 0\n",
    "boolean_job_category = (df['job_category'] != 'Totals') & (df['job_category'] != 'Previous_totals')\n",
    "\n",
    "df_adobe = df[boolean_adobe & boolean_all_races & boolean_count & boolean_job_category]\n",
    "df_adobe"
   ]
  },
  {
   "cell_type": "code",
   "execution_count": 229,
   "id": "93c8b3a2-dc34-4ab6-9da4-4da8f265bd4f",
   "metadata": {},
   "outputs": [],
   "source": [
    "df_adobe.set_index('job_category', inplace=True)"
   ]
  },
  {
   "cell_type": "code",
   "execution_count": 231,
   "id": "b76f6872-c52d-43e7-bf7a-4abffb702739",
   "metadata": {},
   "outputs": [
    {
     "data": {
      "text/plain": [
       "<AxesSubplot:ylabel='count'>"
      ]
     },
     "execution_count": 231,
     "metadata": {},
     "output_type": "execute_result"
    },
    {
     "data": {
      "image/png": "[encoded data removed]",
      "text/plain": [
       "<Figure size 432x288 with 1 Axes>"
      ]
     },
     "metadata": {},
     "output_type": "display_data"
    }
   ],
   "source": [
    "df_adobe.plot(kind='pie', y= 'count')"
   ]
  },
  {
   "cell_type": "markdown",
   "id": "3722631d-7595-4f69-8b07-f4d05a6f10b0",
   "metadata": {},
   "source": [
    "`-`  틀린 이유 : 굳이 count가 되어 있는 테이블을 `groupby`로 `sum`하는 과정에서 계산이 잘못된 거 같음..\n",
    "\n",
    "* 항상 데이터를 먼저 뜯어보는 습관을 기르자..."
   ]
  },
  {
   "cell_type": "markdown",
   "id": "2aa1d527-bd03-41bd-b65c-11171c50e8d5",
   "metadata": {},
   "source": [
    "***"
   ]
  },
  {
   "cell_type": "markdown",
   "id": "d2556fc0-2bb7-483a-89db-c10b5e1e7883",
   "metadata": {},
   "source": [
    "# 05. 히스토그램"
   ]
  },
  {
   "cell_type": "markdown",
   "id": "0d075990-5062-4820-a90b-23d8f4ab2eb4",
   "metadata": {},
   "source": [
    "`-` 연속형 데이터에 대한 분포를 나타내는 그래프\n",
    "\n",
    "* `bins, breaks, nbins` 등과 같은 인자를 이용하여 범위를 설정 후 그래프를 그림"
   ]
  },
  {
   "cell_type": "code",
   "execution_count": 232,
   "id": "6905fd14-357e-4f53-9ef0-2520b76b1b1a",
   "metadata": {},
   "outputs": [],
   "source": [
    "import pandas as pd\n",
    "\n",
    "%matplotlib inline"
   ]
  },
  {
   "cell_type": "code",
   "execution_count": 234,
   "id": "d7d48884-a7c6-4370-814c-fce876e9973e",
   "metadata": {},
   "outputs": [],
   "source": [
    "df = pd.read_csv(\"data/body.csv\")"
   ]
  },
  {
   "cell_type": "code",
   "execution_count": 236,
   "id": "e34a43a9-34a7-49fc-9d79-bd8096797ca8",
   "metadata": {},
   "outputs": [
    {
     "data": {
      "text/html": [
       "<div>\n",
       "<style scoped>\n",
       "    .dataframe tbody tr th:only-of-type {\n",
       "        vertical-align: middle;\n",
       "    }\n",
       "\n",
       "    .dataframe tbody tr th {\n",
       "        vertical-align: top;\n",
       "    }\n",
       "\n",
       "    .dataframe thead th {\n",
       "        text-align: right;\n",
       "    }\n",
       "</style>\n",
       "<table border=\"1\" class=\"dataframe\">\n",
       "  <thead>\n",
       "    <tr style=\"text-align: right;\">\n",
       "      <th></th>\n",
       "      <th>Number</th>\n",
       "      <th>Height</th>\n",
       "      <th>Weight</th>\n",
       "    </tr>\n",
       "  </thead>\n",
       "  <tbody>\n",
       "    <tr>\n",
       "      <th>0</th>\n",
       "      <td>1</td>\n",
       "      <td>176.0</td>\n",
       "      <td>85.2</td>\n",
       "    </tr>\n",
       "    <tr>\n",
       "      <th>1</th>\n",
       "      <td>2</td>\n",
       "      <td>175.3</td>\n",
       "      <td>67.7</td>\n",
       "    </tr>\n",
       "    <tr>\n",
       "      <th>2</th>\n",
       "      <td>3</td>\n",
       "      <td>168.6</td>\n",
       "      <td>75.2</td>\n",
       "    </tr>\n",
       "    <tr>\n",
       "      <th>3</th>\n",
       "      <td>4</td>\n",
       "      <td>168.1</td>\n",
       "      <td>67.1</td>\n",
       "    </tr>\n",
       "    <tr>\n",
       "      <th>4</th>\n",
       "      <td>5</td>\n",
       "      <td>175.3</td>\n",
       "      <td>63.0</td>\n",
       "    </tr>\n",
       "  </tbody>\n",
       "</table>\n",
       "</div>"
      ],
      "text/plain": [
       "   Number  Height  Weight\n",
       "0       1   176.0    85.2\n",
       "1       2   175.3    67.7\n",
       "2       3   168.6    75.2\n",
       "3       4   168.1    67.1\n",
       "4       5   175.3    63.0"
      ]
     },
     "execution_count": 236,
     "metadata": {},
     "output_type": "execute_result"
    }
   ],
   "source": [
    "df.head()"
   ]
  },
  {
   "cell_type": "markdown",
   "id": "301e4fe3-8ea9-4eb8-8878-00c95972e7ea",
   "metadata": {},
   "source": [
    "* `bins` : 묶을 그룹의 개수"
   ]
  },
  {
   "cell_type": "code",
   "execution_count": 237,
   "id": "e9325cb0-ce3d-4560-8b80-35c3e4af6260",
   "metadata": {},
   "outputs": [
    {
     "data": {
      "text/plain": [
       "<AxesSubplot:ylabel='Frequency'>"
      ]
     },
     "execution_count": 237,
     "metadata": {},
     "output_type": "execute_result"
    },
    {
     "data": {
      "image/png": "[encoded data removed]",
      "text/plain": [
       "<Figure size 432x288 with 1 Axes>"
      ]
     },
     "metadata": {
      "needs_background": "light"
     },
     "output_type": "display_data"
    }
   ],
   "source": [
    "df.plot(kind = \"hist\", y = \"Height\", bins = 15)"
   ]
  },
  {
   "cell_type": "markdown",
   "id": "475466f8-7b5a-4acd-a619-1ed61068681f",
   "metadata": {},
   "source": [
    "***"
   ]
  },
  {
   "cell_type": "markdown",
   "id": "5ee919be-5dad-4b6b-a961-219b8f199f7f",
   "metadata": {},
   "source": [
    "# 06. 박스 플롯"
   ]
  },
  {
   "cell_type": "markdown",
   "id": "fc49fd8a-3193-408e-aac0-6196a1cfb3c7",
   "metadata": {},
   "source": [
    "`-` 데이터의 분포를 살펴보는 두 번째 방법"
   ]
  },
  {
   "cell_type": "code",
   "execution_count": 238,
   "id": "a4b9c102-56e3-4977-8c58-2e3f6fb47dc9",
   "metadata": {},
   "outputs": [],
   "source": [
    "import pandas as pd\n",
    "%matplotlib inline"
   ]
  },
  {
   "cell_type": "code",
   "execution_count": 241,
   "id": "d9ac15b9-4a50-4663-ae34-ad0bb8fcd1b7",
   "metadata": {},
   "outputs": [
    {
     "data": {
      "text/html": [
       "<div>\n",
       "<style scoped>\n",
       "    .dataframe tbody tr th:only-of-type {\n",
       "        vertical-align: middle;\n",
       "    }\n",
       "\n",
       "    .dataframe tbody tr th {\n",
       "        vertical-align: top;\n",
       "    }\n",
       "\n",
       "    .dataframe thead th {\n",
       "        text-align: right;\n",
       "    }\n",
       "</style>\n",
       "<table border=\"1\" class=\"dataframe\">\n",
       "  <thead>\n",
       "    <tr style=\"text-align: right;\">\n",
       "      <th></th>\n",
       "      <th>gender</th>\n",
       "      <th>race/ethnicity</th>\n",
       "      <th>parental level of education</th>\n",
       "      <th>lunch</th>\n",
       "      <th>test preparation course</th>\n",
       "      <th>math score</th>\n",
       "      <th>reading score</th>\n",
       "      <th>writing score</th>\n",
       "    </tr>\n",
       "  </thead>\n",
       "  <tbody>\n",
       "    <tr>\n",
       "      <th>0</th>\n",
       "      <td>female</td>\n",
       "      <td>group B</td>\n",
       "      <td>bachelor's degree</td>\n",
       "      <td>standard</td>\n",
       "      <td>none</td>\n",
       "      <td>72</td>\n",
       "      <td>72</td>\n",
       "      <td>74</td>\n",
       "    </tr>\n",
       "    <tr>\n",
       "      <th>1</th>\n",
       "      <td>female</td>\n",
       "      <td>group C</td>\n",
       "      <td>some college</td>\n",
       "      <td>standard</td>\n",
       "      <td>completed</td>\n",
       "      <td>69</td>\n",
       "      <td>90</td>\n",
       "      <td>88</td>\n",
       "    </tr>\n",
       "    <tr>\n",
       "      <th>2</th>\n",
       "      <td>female</td>\n",
       "      <td>group B</td>\n",
       "      <td>master's degree</td>\n",
       "      <td>standard</td>\n",
       "      <td>none</td>\n",
       "      <td>90</td>\n",
       "      <td>95</td>\n",
       "      <td>93</td>\n",
       "    </tr>\n",
       "    <tr>\n",
       "      <th>3</th>\n",
       "      <td>male</td>\n",
       "      <td>group A</td>\n",
       "      <td>associate's degree</td>\n",
       "      <td>free/reduced</td>\n",
       "      <td>none</td>\n",
       "      <td>47</td>\n",
       "      <td>57</td>\n",
       "      <td>44</td>\n",
       "    </tr>\n",
       "    <tr>\n",
       "      <th>4</th>\n",
       "      <td>male</td>\n",
       "      <td>group C</td>\n",
       "      <td>some college</td>\n",
       "      <td>standard</td>\n",
       "      <td>none</td>\n",
       "      <td>76</td>\n",
       "      <td>78</td>\n",
       "      <td>75</td>\n",
       "    </tr>\n",
       "  </tbody>\n",
       "</table>\n",
       "</div>"
      ],
      "text/plain": [
       "   gender race/ethnicity parental level of education         lunch  \\\n",
       "0  female        group B           bachelor's degree      standard   \n",
       "1  female        group C                some college      standard   \n",
       "2  female        group B             master's degree      standard   \n",
       "3    male        group A          associate's degree  free/reduced   \n",
       "4    male        group C                some college      standard   \n",
       "\n",
       "  test preparation course  math score  reading score  writing score  \n",
       "0                    none          72             72             74  \n",
       "1               completed          69             90             88  \n",
       "2                    none          90             95             93  \n",
       "3                    none          47             57             44  \n",
       "4                    none          76             78             75  "
      ]
     },
     "execution_count": 241,
     "metadata": {},
     "output_type": "execute_result"
    }
   ],
   "source": [
    "df = pd.read_csv(\"data/exam.csv\")\n",
    "df.head()"
   ]
  },
  {
   "cell_type": "markdown",
   "id": "87ce982f-a3e5-426b-8b90-bf6e430326bd",
   "metadata": {},
   "source": [
    "`-` 기초통계량 값 확인"
   ]
  },
  {
   "cell_type": "code",
   "execution_count": 243,
   "id": "45f0be08-fcd5-4ae0-a08e-b6d220506bcc",
   "metadata": {},
   "outputs": [
    {
     "data": {
      "text/plain": [
       "count    1000.00000\n",
       "mean       66.08900\n",
       "std        15.16308\n",
       "min         0.00000\n",
       "25%        57.00000\n",
       "50%        66.00000\n",
       "75%        77.00000\n",
       "max       100.00000\n",
       "Name: math score, dtype: float64"
      ]
     },
     "execution_count": 243,
     "metadata": {},
     "output_type": "execute_result"
    }
   ],
   "source": [
    "df[\"math score\"].describe()"
   ]
  },
  {
   "cell_type": "code",
   "execution_count": 244,
   "id": "3674073d-043c-41c0-a4a4-d85f8f39c5aa",
   "metadata": {},
   "outputs": [
    {
     "data": {
      "text/plain": [
       "<AxesSubplot:>"
      ]
     },
     "execution_count": 244,
     "metadata": {},
     "output_type": "execute_result"
    },
    {
     "data": {
      "image/png": "[encoded data removed]",
      "text/plain": [
       "<Figure size 432x288 with 1 Axes>"
      ]
     },
     "metadata": {
      "needs_background": "light"
     },
     "output_type": "display_data"
    }
   ],
   "source": [
    "df.plot(kind = \"box\", y = \"math score\")"
   ]
  },
  {
   "cell_type": "markdown",
   "id": "b8d47979-575d-4916-b864-232b2a6482a2",
   "metadata": {},
   "source": [
    "`-` 여러 점수에 대한 그래프 그리기"
   ]
  },
  {
   "cell_type": "code",
   "execution_count": 245,
   "id": "4a5f99e3-022b-4e1e-b58f-f8f1e671752b",
   "metadata": {},
   "outputs": [
    {
     "data": {
      "text/plain": [
       "<AxesSubplot:>"
      ]
     },
     "execution_count": 245,
     "metadata": {},
     "output_type": "execute_result"
    },
    {
     "data": {
      "image/png": "[encoded data removed]",
      "text/plain": [
       "<Figure size 432x288 with 1 Axes>"
      ]
     },
     "metadata": {
      "needs_background": "light"
     },
     "output_type": "display_data"
    }
   ],
   "source": [
    "df.plot(kind = \"box\", y = [\"math score\", \"reading score\", \"writing score\"])"
   ]
  },
  {
   "cell_type": "markdown",
   "id": "490d1b4f-9666-435b-8cd4-aaeb4eb2606d",
   "metadata": {},
   "source": [
    "`-` 수학 성적이 대체로 좀 낮고, 읽기 점수가 대체로 높다.\n",
    "\n",
    "`-` 또한, 읽기 점수는 다른 점수들 보다 값이 덜 분산되어 있음\n",
    "\n",
    "`-` 상위 25%와 하위 25% 학생들은 모든 부분에 점수에서 값이 굉장히 분산되어 있음"
   ]
  },
  {
   "cell_type": "markdown",
   "id": "9d5a1565-23d4-4f71-9faa-d19aaa0e7df8",
   "metadata": {},
   "source": [
    "***"
   ]
  },
  {
   "cell_type": "markdown",
   "id": "ac0b9fe6-5527-46c2-9057-2ff653c003c7",
   "metadata": {},
   "source": [
    "# 07. 산점도"
   ]
  },
  {
   "cell_type": "markdown",
   "id": "f1317685-f47b-4f4e-ae0f-b0bceace613e",
   "metadata": {},
   "source": [
    "`-` 변수 간 상관관계를 보여주기 적합한 그래프"
   ]
  },
  {
   "cell_type": "code",
   "execution_count": 246,
   "id": "f6d1d824-d9ed-4fdd-80eb-36e0de51d916",
   "metadata": {},
   "outputs": [
    {
     "data": {
      "text/html": [
       "<div>\n",
       "<style scoped>\n",
       "    .dataframe tbody tr th:only-of-type {\n",
       "        vertical-align: middle;\n",
       "    }\n",
       "\n",
       "    .dataframe tbody tr th {\n",
       "        vertical-align: top;\n",
       "    }\n",
       "\n",
       "    .dataframe thead th {\n",
       "        text-align: right;\n",
       "    }\n",
       "</style>\n",
       "<table border=\"1\" class=\"dataframe\">\n",
       "  <thead>\n",
       "    <tr style=\"text-align: right;\">\n",
       "      <th></th>\n",
       "      <th>gender</th>\n",
       "      <th>race/ethnicity</th>\n",
       "      <th>parental level of education</th>\n",
       "      <th>lunch</th>\n",
       "      <th>test preparation course</th>\n",
       "      <th>math score</th>\n",
       "      <th>reading score</th>\n",
       "      <th>writing score</th>\n",
       "    </tr>\n",
       "  </thead>\n",
       "  <tbody>\n",
       "    <tr>\n",
       "      <th>0</th>\n",
       "      <td>female</td>\n",
       "      <td>group B</td>\n",
       "      <td>bachelor's degree</td>\n",
       "      <td>standard</td>\n",
       "      <td>none</td>\n",
       "      <td>72</td>\n",
       "      <td>72</td>\n",
       "      <td>74</td>\n",
       "    </tr>\n",
       "    <tr>\n",
       "      <th>1</th>\n",
       "      <td>female</td>\n",
       "      <td>group C</td>\n",
       "      <td>some college</td>\n",
       "      <td>standard</td>\n",
       "      <td>completed</td>\n",
       "      <td>69</td>\n",
       "      <td>90</td>\n",
       "      <td>88</td>\n",
       "    </tr>\n",
       "    <tr>\n",
       "      <th>2</th>\n",
       "      <td>female</td>\n",
       "      <td>group B</td>\n",
       "      <td>master's degree</td>\n",
       "      <td>standard</td>\n",
       "      <td>none</td>\n",
       "      <td>90</td>\n",
       "      <td>95</td>\n",
       "      <td>93</td>\n",
       "    </tr>\n",
       "    <tr>\n",
       "      <th>3</th>\n",
       "      <td>male</td>\n",
       "      <td>group A</td>\n",
       "      <td>associate's degree</td>\n",
       "      <td>free/reduced</td>\n",
       "      <td>none</td>\n",
       "      <td>47</td>\n",
       "      <td>57</td>\n",
       "      <td>44</td>\n",
       "    </tr>\n",
       "    <tr>\n",
       "      <th>4</th>\n",
       "      <td>male</td>\n",
       "      <td>group C</td>\n",
       "      <td>some college</td>\n",
       "      <td>standard</td>\n",
       "      <td>none</td>\n",
       "      <td>76</td>\n",
       "      <td>78</td>\n",
       "      <td>75</td>\n",
       "    </tr>\n",
       "  </tbody>\n",
       "</table>\n",
       "</div>"
      ],
      "text/plain": [
       "   gender race/ethnicity parental level of education         lunch  \\\n",
       "0  female        group B           bachelor's degree      standard   \n",
       "1  female        group C                some college      standard   \n",
       "2  female        group B             master's degree      standard   \n",
       "3    male        group A          associate's degree  free/reduced   \n",
       "4    male        group C                some college      standard   \n",
       "\n",
       "  test preparation course  math score  reading score  writing score  \n",
       "0                    none          72             72             74  \n",
       "1               completed          69             90             88  \n",
       "2                    none          90             95             93  \n",
       "3                    none          47             57             44  \n",
       "4                    none          76             78             75  "
      ]
     },
     "execution_count": 246,
     "metadata": {},
     "output_type": "execute_result"
    }
   ],
   "source": [
    "import pandas as pd\n",
    "%matplotlib inline\n",
    "\n",
    "df = pd.read_csv(\"data/exam.csv\")\n",
    "df.head()"
   ]
  },
  {
   "cell_type": "markdown",
   "id": "7a687896-8e9a-4a1c-9772-6028c36b875f",
   "metadata": {},
   "source": [
    "`-` 수학을 잘하는 학생은 읽기도 잘하는가?"
   ]
  },
  {
   "cell_type": "code",
   "execution_count": 249,
   "id": "68249dd3-bdee-435a-ae09-09bae0db480a",
   "metadata": {},
   "outputs": [
    {
     "data": {
      "text/plain": [
       "<AxesSubplot:xlabel='math score', ylabel='reading score'>"
      ]
     },
     "execution_count": 249,
     "metadata": {},
     "output_type": "execute_result"
    },
    {
     "data": {
      "image/png": "[encoded data removed]",
      "text/plain": [
       "<Figure size 432x288 with 1 Axes>"
      ]
     },
     "metadata": {
      "needs_background": "light"
     },
     "output_type": "display_data"
    }
   ],
   "source": [
    "df.plot(x = \"math score\", y = \"reading score\", kind = \"scatter\")"
   ]
  },
  {
   "cell_type": "markdown",
   "id": "db76e400-928b-4cec-80ac-75a59698aabe",
   "metadata": {},
   "source": [
    "`-` 수학 점수와 쓰기 점수 관계"
   ]
  },
  {
   "cell_type": "code",
   "execution_count": 250,
   "id": "6849ac84-9f2f-4578-91b6-9e73cb10f44e",
   "metadata": {},
   "outputs": [
    {
     "data": {
      "text/plain": [
       "<AxesSubplot:xlabel='math score', ylabel='writing score'>"
      ]
     },
     "execution_count": 250,
     "metadata": {},
     "output_type": "execute_result"
    },
    {
     "data": {
      "image/png": "[encoded data removed]",
      "text/plain": [
       "<Figure size 432x288 with 1 Axes>"
      ]
     },
     "metadata": {
      "needs_background": "light"
     },
     "output_type": "display_data"
    }
   ],
   "source": [
    "df.plot(x = \"math score\", y = \"writing score\", kind = \"scatter\")"
   ]
  },
  {
   "cell_type": "markdown",
   "id": "0c1c2457-b828-49ec-a9de-cdb30b66397a",
   "metadata": {},
   "source": [
    "`-` 읽기 점수와 쓰기 점수 비교"
   ]
  },
  {
   "cell_type": "markdown",
   "id": "74c137d2-b689-44ee-b12b-df56916ab8b1",
   "metadata": {},
   "source": [
    "* 음.. 읽기와 쓰기는 굉장히 연관성이 깊어 보임"
   ]
  },
  {
   "cell_type": "code",
   "execution_count": 251,
   "id": "4db2f45d-7ba0-4abe-bbe3-874561c8b6c0",
   "metadata": {},
   "outputs": [
    {
     "data": {
      "text/plain": [
       "<AxesSubplot:xlabel='reading score', ylabel='writing score'>"
      ]
     },
     "execution_count": 251,
     "metadata": {},
     "output_type": "execute_result"
    },
    {
     "data": {
      "image/png": "[encoded data removed]",
      "text/plain": [
       "<Figure size 432x288 with 1 Axes>"
      ]
     },
     "metadata": {
      "needs_background": "light"
     },
     "output_type": "display_data"
    }
   ],
   "source": [
    "df.plot(x = \"reading score\", y = \"writing score\", kind = \"scatter\")"
   ]
  },
  {
   "cell_type": "markdown",
   "id": "0f137281-e622-4a15-a9f2-98d70621ab03",
   "metadata": {},
   "source": [
    "## 실습 1. 국가지표 분석하기"
   ]
  },
  {
   "cell_type": "code",
   "execution_count": 254,
   "id": "b1382b02-1584-4464-b017-fa4af2a907d4",
   "metadata": {},
   "outputs": [],
   "source": [
    "import pandas as pd\n",
    "%matplotlib inline\n",
    "\n",
    "df = pd.read_csv(\"data/world_indexes.csv\")"
   ]
  },
  {
   "cell_type": "code",
   "execution_count": 256,
   "id": "79fb0028-26cb-43cc-8ee7-771a7d76b0e5",
   "metadata": {},
   "outputs": [
    {
     "data": {
      "text/html": [
       "<div>\n",
       "<style scoped>\n",
       "    .dataframe tbody tr th:only-of-type {\n",
       "        vertical-align: middle;\n",
       "    }\n",
       "\n",
       "    .dataframe tbody tr th {\n",
       "        vertical-align: top;\n",
       "    }\n",
       "\n",
       "    .dataframe thead th {\n",
       "        text-align: right;\n",
       "    }\n",
       "</style>\n",
       "<table border=\"1\" class=\"dataframe\">\n",
       "  <thead>\n",
       "    <tr style=\"text-align: right;\">\n",
       "      <th></th>\n",
       "      <th>Id</th>\n",
       "      <th>Human Development Index HDI-2014</th>\n",
       "      <th>Gini coefficient 2005-2013</th>\n",
       "      <th>Adolescent birth rate 15-19 per 100k 20102015</th>\n",
       "      <th>Birth registration funder age 5 2005-2013</th>\n",
       "      <th>Carbon dioxide emissionsAverage annual growth</th>\n",
       "      <th>Carbon dioxide emissions per capita 2011 Tones</th>\n",
       "      <th>Change forest percentable 1900 to 2012</th>\n",
       "      <th>Change mobile usage 2009 2014</th>\n",
       "      <th>Consumer price index 2013</th>\n",
       "      <th>...</th>\n",
       "      <th>Renewable sources percentage of total 2012</th>\n",
       "      <th>Research and development expenditure  2005-2012</th>\n",
       "      <th>Secondary 2008-2014</th>\n",
       "      <th>Share of seats in parliament percentage held by womand 2014</th>\n",
       "      <th>Stock of immigrants percentage of population 2013</th>\n",
       "      <th>Taxes on income profit and capital gain 205 2013</th>\n",
       "      <th>Tertiary -2008-2014</th>\n",
       "      <th>Total tax revenue of GDP 2005-2013</th>\n",
       "      <th>Tuberculosis rate per thousands 2012</th>\n",
       "      <th>Under-five Mortality 2013 thousands</th>\n",
       "    </tr>\n",
       "  </thead>\n",
       "  <tbody>\n",
       "    <tr>\n",
       "      <th>0</th>\n",
       "      <td>Norway</td>\n",
       "      <td>0.943877</td>\n",
       "      <td>26.83</td>\n",
       "      <td>7.834</td>\n",
       "      <td>100.0</td>\n",
       "      <td>0.778925</td>\n",
       "      <td>9.192879</td>\n",
       "      <td>11.914567</td>\n",
       "      <td>5.22</td>\n",
       "      <td>104.194175</td>\n",
       "      <td>...</td>\n",
       "      <td>47.752676</td>\n",
       "      <td>1.65474</td>\n",
       "      <td>111.06130</td>\n",
       "      <td>39.644970</td>\n",
       "      <td>13.772622</td>\n",
       "      <td>31.798391</td>\n",
       "      <td>74.10112</td>\n",
       "      <td>27.288097</td>\n",
       "      <td>0.14</td>\n",
       "      <td>2.8</td>\n",
       "    </tr>\n",
       "    <tr>\n",
       "      <th>1</th>\n",
       "      <td>Australia</td>\n",
       "      <td>0.934958</td>\n",
       "      <td>34.01</td>\n",
       "      <td>12.059</td>\n",
       "      <td>100.0</td>\n",
       "      <td>1.090351</td>\n",
       "      <td>16.519210</td>\n",
       "      <td>-4.561812</td>\n",
       "      <td>30.27</td>\n",
       "      <td>107.789440</td>\n",
       "      <td>...</td>\n",
       "      <td>4.632202</td>\n",
       "      <td>2.38562</td>\n",
       "      <td>135.53543</td>\n",
       "      <td>30.530974</td>\n",
       "      <td>27.711793</td>\n",
       "      <td>65.333748</td>\n",
       "      <td>86.33409</td>\n",
       "      <td>21.361426</td>\n",
       "      <td>0.19</td>\n",
       "      <td>4.0</td>\n",
       "    </tr>\n",
       "    <tr>\n",
       "      <th>2</th>\n",
       "      <td>Switzerland</td>\n",
       "      <td>0.929613</td>\n",
       "      <td>32.35</td>\n",
       "      <td>1.900</td>\n",
       "      <td>100.0</td>\n",
       "      <td>-1.101254</td>\n",
       "      <td>4.625230</td>\n",
       "      <td>8.567416</td>\n",
       "      <td>16.72</td>\n",
       "      <td>99.317229</td>\n",
       "      <td>...</td>\n",
       "      <td>49.659398</td>\n",
       "      <td>2.87046</td>\n",
       "      <td>96.30638</td>\n",
       "      <td>28.455285</td>\n",
       "      <td>28.906998</td>\n",
       "      <td>22.673299</td>\n",
       "      <td>55.56190</td>\n",
       "      <td>9.759124</td>\n",
       "      <td>0.22</td>\n",
       "      <td>4.2</td>\n",
       "    </tr>\n",
       "    <tr>\n",
       "      <th>3</th>\n",
       "      <td>Denmark</td>\n",
       "      <td>0.923328</td>\n",
       "      <td>26.88</td>\n",
       "      <td>5.101</td>\n",
       "      <td>100.0</td>\n",
       "      <td>-1.767733</td>\n",
       "      <td>7.248329</td>\n",
       "      <td>23.029974</td>\n",
       "      <td>1.83</td>\n",
       "      <td>106.057718</td>\n",
       "      <td>...</td>\n",
       "      <td>26.767245</td>\n",
       "      <td>2.98416</td>\n",
       "      <td>124.65927</td>\n",
       "      <td>37.988827</td>\n",
       "      <td>9.909512</td>\n",
       "      <td>39.677938</td>\n",
       "      <td>79.59763</td>\n",
       "      <td>33.395651</td>\n",
       "      <td>0.40</td>\n",
       "      <td>3.5</td>\n",
       "    </tr>\n",
       "    <tr>\n",
       "      <th>4</th>\n",
       "      <td>Netherlands</td>\n",
       "      <td>0.921794</td>\n",
       "      <td>28.87</td>\n",
       "      <td>6.165</td>\n",
       "      <td>100.0</td>\n",
       "      <td>-0.252734</td>\n",
       "      <td>10.064490</td>\n",
       "      <td>5.922602</td>\n",
       "      <td>-4.31</td>\n",
       "      <td>107.474154</td>\n",
       "      <td>...</td>\n",
       "      <td>6.671366</td>\n",
       "      <td>2.15676</td>\n",
       "      <td>129.91277</td>\n",
       "      <td>36.888889</td>\n",
       "      <td>11.724418</td>\n",
       "      <td>23.533104</td>\n",
       "      <td>77.34356</td>\n",
       "      <td>19.724059</td>\n",
       "      <td>0.17</td>\n",
       "      <td>4.0</td>\n",
       "    </tr>\n",
       "  </tbody>\n",
       "</table>\n",
       "<p>5 rows × 66 columns</p>\n",
       "</div>"
      ],
      "text/plain": [
       "            Id  Human Development Index HDI-2014  Gini coefficient 2005-2013  \\\n",
       "0       Norway                          0.943877                       26.83   \n",
       "1    Australia                          0.934958                       34.01   \n",
       "2  Switzerland                          0.929613                       32.35   \n",
       "3      Denmark                          0.923328                       26.88   \n",
       "4  Netherlands                          0.921794                       28.87   \n",
       "\n",
       "   Adolescent birth rate 15-19 per 100k 20102015  \\\n",
       "0                                          7.834   \n",
       "1                                         12.059   \n",
       "2                                          1.900   \n",
       "3                                          5.101   \n",
       "4                                          6.165   \n",
       "\n",
       "   Birth registration funder age 5 2005-2013  \\\n",
       "0                                      100.0   \n",
       "1                                      100.0   \n",
       "2                                      100.0   \n",
       "3                                      100.0   \n",
       "4                                      100.0   \n",
       "\n",
       "   Carbon dioxide emissionsAverage annual growth  \\\n",
       "0                                       0.778925   \n",
       "1                                       1.090351   \n",
       "2                                      -1.101254   \n",
       "3                                      -1.767733   \n",
       "4                                      -0.252734   \n",
       "\n",
       "   Carbon dioxide emissions per capita 2011 Tones  \\\n",
       "0                                        9.192879   \n",
       "1                                       16.519210   \n",
       "2                                        4.625230   \n",
       "3                                        7.248329   \n",
       "4                                       10.064490   \n",
       "\n",
       "   Change forest percentable 1900 to 2012  Change mobile usage 2009 2014  \\\n",
       "0                               11.914567                           5.22   \n",
       "1                               -4.561812                          30.27   \n",
       "2                                8.567416                          16.72   \n",
       "3                               23.029974                           1.83   \n",
       "4                                5.922602                          -4.31   \n",
       "\n",
       "   Consumer price index 2013  ...  Renewable sources percentage of total 2012  \\\n",
       "0                 104.194175  ...                                   47.752676   \n",
       "1                 107.789440  ...                                    4.632202   \n",
       "2                  99.317229  ...                                   49.659398   \n",
       "3                 106.057718  ...                                   26.767245   \n",
       "4                 107.474154  ...                                    6.671366   \n",
       "\n",
       "   Research and development expenditure  2005-2012  Secondary 2008-2014  \\\n",
       "0                                          1.65474            111.06130   \n",
       "1                                          2.38562            135.53543   \n",
       "2                                          2.87046             96.30638   \n",
       "3                                          2.98416            124.65927   \n",
       "4                                          2.15676            129.91277   \n",
       "\n",
       "   Share of seats in parliament percentage held by womand 2014  \\\n",
       "0                                          39.644970             \n",
       "1                                          30.530974             \n",
       "2                                          28.455285             \n",
       "3                                          37.988827             \n",
       "4                                          36.888889             \n",
       "\n",
       "   Stock of immigrants percentage of population 2013  \\\n",
       "0                                          13.772622   \n",
       "1                                          27.711793   \n",
       "2                                          28.906998   \n",
       "3                                           9.909512   \n",
       "4                                          11.724418   \n",
       "\n",
       "   Taxes on income profit and capital gain 205 2013  Tertiary -2008-2014  \\\n",
       "0                                         31.798391             74.10112   \n",
       "1                                         65.333748             86.33409   \n",
       "2                                         22.673299             55.56190   \n",
       "3                                         39.677938             79.59763   \n",
       "4                                         23.533104             77.34356   \n",
       "\n",
       "   Total tax revenue of GDP 2005-2013  Tuberculosis rate per thousands 2012  \\\n",
       "0                           27.288097                                  0.14   \n",
       "1                           21.361426                                  0.19   \n",
       "2                            9.759124                                  0.22   \n",
       "3                           33.395651                                  0.40   \n",
       "4                           19.724059                                  0.17   \n",
       "\n",
       "   Under-five Mortality 2013 thousands  \n",
       "0                                  2.8  \n",
       "1                                  4.0  \n",
       "2                                  4.2  \n",
       "3                                  3.5  \n",
       "4                                  4.0  \n",
       "\n",
       "[5 rows x 66 columns]"
      ]
     },
     "execution_count": 256,
     "metadata": {},
     "output_type": "execute_result"
    }
   ],
   "source": [
    "df.head()"
   ]
  },
  {
   "cell_type": "markdown",
   "id": "96865ef0-c9dc-4a6d-9400-98ad662a2b03",
   "metadata": {},
   "source": [
    "다음 중 가장 연관성이 깊은 지표를 찾기!\n",
    "\n",
    "1. 기대 수명 - 인터넷 사용자 비율\n",
    "\n",
    "2. 숲 면적 비율 - 탄소 배출 증가율\n",
    "\n",
    "3. 인터넷 사용자 비율 - 숲 면적 비율\n",
    "\n",
    "4. 기대 수명 - 탄소 배출 증가율\n",
    "\n",
    "5. 기대 수명 - 숲 면적 비율"
   ]
  },
  {
   "cell_type": "code",
   "execution_count": 272,
   "id": "4bc2653f-b3fc-44cf-87f8-34d809efc58a",
   "metadata": {},
   "outputs": [
    {
     "data": {
      "text/plain": [
       "[<matplotlib.lines.Line2D at 0x1ce25189190>]"
      ]
     },
     "execution_count": 272,
     "metadata": {},
     "output_type": "execute_result"
    },
    {
     "data": {
      "image/png": "[encoded data removed]",
      "text/plain": [
       "<Figure size 864x288 with 5 Axes>"
      ]
     },
     "metadata": {
      "needs_background": "light"
     },
     "output_type": "display_data"
    }
   ],
   "source": [
    "import matplotlib.pyplot as plt\n",
    "\n",
    "fig, axes = plt.subplots(1,5 ,figsize = (12,4))\n",
    "\n",
    "ax1,ax2,ax3,ax4,ax5 = axes\n",
    "\n",
    "ax1.plot(\"Life expectancy at birth- years\",\n",
    "         'Internet users percentage of population 2014', \"b.\", data = df)\n",
    "\n",
    "ax2.plot(\"Forest area percentage of total land area 2012\",\n",
    "         'Carbon dioxide emissionsAverage annual growth', \"b.\", data = df)\n",
    "\n",
    "ax3.plot(\"Internet users percentage of population 2014\",\n",
    "         'Forest area percentage of total land area 2012', \"b.\", data = df)\n",
    "\n",
    "ax4.plot( 'Life expectancy at birth- years',  \n",
    "         'Carbon dioxide emissionsAverage annual growth',  \"b.\", data = df)\n",
    "\n",
    "ax5.plot( 'Life expectancy at birth- years',  \n",
    "         'Forest area percentage of total land area 2012',  \"b.\", data = df)"
   ]
  },
  {
   "cell_type": "markdown",
   "id": "919aa1e3-9305-4976-ba2b-6381bce2ad11",
   "metadata": {},
   "source": [
    "`-` 그래프를 그려 시각화해본 결과 `1. 기대수명-인터넷 사용자 비율`이 가장 연관성이 있어 보인다."
   ]
  }
 ],
 "metadata": {
  "kernelspec": {
   "display_name": "Python 3 (ipykernel)",
   "language": "python",
   "name": "python3"
  },
  "language_info": {
   "codemirror_mode": {
    "name": "ipython",
    "version": 3
   },
   "file_extension": ".py",
   "mimetype": "text/x-python",
   "name": "python",
   "nbconvert_exporter": "python",
   "pygments_lexer": "ipython3",
   "version": "3.12.2"
  }
 },
 "nbformat": 4,
 "nbformat_minor": 5
}
